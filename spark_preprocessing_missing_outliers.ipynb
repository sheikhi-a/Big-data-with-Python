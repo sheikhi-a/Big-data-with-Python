{
  "cells": [
    {
      "cell_type": "markdown",
      "metadata": {
        "id": "view-in-github",
        "colab_type": "text"
      },
      "source": [
        "<a href=\"https://colab.research.google.com/github/sheikhi-a/Big-data-with-Python/blob/main/spark_preprocessing_missing_outliers.ipynb\" target=\"_parent\"><img src=\"https://colab.research.google.com/assets/colab-badge.svg\" alt=\"Open In Colab\"/></a>"
      ]
    },
    {
      "cell_type": "markdown",
      "source": [
        "\n",
        "# preprocessing and exloring data using Spark\n",
        "\n",
        "\n",
        "By Ayyub Sheikhi, SBUK  (sheikhy.a@uk.ac.ir)"
      ],
      "metadata": {
        "id": "v4I4F5u6Jzqr"
      },
      "id": "v4I4F5u6Jzqr"
    },
    {
      "cell_type": "code",
      "source": [
        "\n",
        "!pip install pyspark\n",
        "!pip install -U -q PyDrive\n",
        "!apt install openjdk-8-jdk-headless -qq\n",
        "\n"
      ],
      "metadata": {
        "id": "xLL8w7FyceHl",
        "colab": {
          "base_uri": "https://localhost:8080/"
        },
        "outputId": "2e6d833c-8daa-4064-80e6-cbc262139395"
      },
      "id": "xLL8w7FyceHl",
      "execution_count": null,
      "outputs": [
        {
          "output_type": "stream",
          "name": "stdout",
          "text": [
            "Requirement already satisfied: pyspark in /usr/local/lib/python3.10/dist-packages (3.5.3)\n",
            "Requirement already satisfied: py4j==0.10.9.7 in /usr/local/lib/python3.10/dist-packages (from pyspark) (0.10.9.7)\n",
            "The following additional packages will be installed:\n",
            "  libxtst6 openjdk-8-jre-headless\n",
            "Suggested packages:\n",
            "  openjdk-8-demo openjdk-8-source libnss-mdns fonts-dejavu-extra fonts-nanum fonts-ipafont-gothic\n",
            "  fonts-ipafont-mincho fonts-wqy-microhei fonts-wqy-zenhei fonts-indic\n",
            "The following NEW packages will be installed:\n",
            "  libxtst6 openjdk-8-jdk-headless openjdk-8-jre-headless\n",
            "0 upgraded, 3 newly installed, 0 to remove and 49 not upgraded.\n",
            "Need to get 39.7 MB of archives.\n",
            "After this operation, 144 MB of additional disk space will be used.\n",
            "Selecting previously unselected package libxtst6:amd64.\n",
            "(Reading database ... 123633 files and directories currently installed.)\n",
            "Preparing to unpack .../libxtst6_2%3a1.2.3-1build4_amd64.deb ...\n",
            "Unpacking libxtst6:amd64 (2:1.2.3-1build4) ...\n",
            "Selecting previously unselected package openjdk-8-jre-headless:amd64.\n",
            "Preparing to unpack .../openjdk-8-jre-headless_8u432-ga~us1-0ubuntu2~22.04_amd64.deb ...\n",
            "Unpacking openjdk-8-jre-headless:amd64 (8u432-ga~us1-0ubuntu2~22.04) ...\n",
            "Selecting previously unselected package openjdk-8-jdk-headless:amd64.\n",
            "Preparing to unpack .../openjdk-8-jdk-headless_8u432-ga~us1-0ubuntu2~22.04_amd64.deb ...\n",
            "Unpacking openjdk-8-jdk-headless:amd64 (8u432-ga~us1-0ubuntu2~22.04) ...\n",
            "Setting up libxtst6:amd64 (2:1.2.3-1build4) ...\n",
            "Setting up openjdk-8-jre-headless:amd64 (8u432-ga~us1-0ubuntu2~22.04) ...\n",
            "update-alternatives: using /usr/lib/jvm/java-8-openjdk-amd64/jre/bin/orbd to provide /usr/bin/orbd (orbd) in auto mode\n",
            "update-alternatives: using /usr/lib/jvm/java-8-openjdk-amd64/jre/bin/servertool to provide /usr/bin/servertool (servertool) in auto mode\n",
            "update-alternatives: using /usr/lib/jvm/java-8-openjdk-amd64/jre/bin/tnameserv to provide /usr/bin/tnameserv (tnameserv) in auto mode\n",
            "Setting up openjdk-8-jdk-headless:amd64 (8u432-ga~us1-0ubuntu2~22.04) ...\n",
            "update-alternatives: using /usr/lib/jvm/java-8-openjdk-amd64/bin/clhsdb to provide /usr/bin/clhsdb (clhsdb) in auto mode\n",
            "update-alternatives: using /usr/lib/jvm/java-8-openjdk-amd64/bin/extcheck to provide /usr/bin/extcheck (extcheck) in auto mode\n",
            "update-alternatives: using /usr/lib/jvm/java-8-openjdk-amd64/bin/hsdb to provide /usr/bin/hsdb (hsdb) in auto mode\n",
            "update-alternatives: using /usr/lib/jvm/java-8-openjdk-amd64/bin/idlj to provide /usr/bin/idlj (idlj) in auto mode\n",
            "update-alternatives: using /usr/lib/jvm/java-8-openjdk-amd64/bin/javah to provide /usr/bin/javah (javah) in auto mode\n",
            "update-alternatives: using /usr/lib/jvm/java-8-openjdk-amd64/bin/jhat to provide /usr/bin/jhat (jhat) in auto mode\n",
            "update-alternatives: using /usr/lib/jvm/java-8-openjdk-amd64/bin/jsadebugd to provide /usr/bin/jsadebugd (jsadebugd) in auto mode\n",
            "update-alternatives: using /usr/lib/jvm/java-8-openjdk-amd64/bin/native2ascii to provide /usr/bin/native2ascii (native2ascii) in auto mode\n",
            "update-alternatives: using /usr/lib/jvm/java-8-openjdk-amd64/bin/schemagen to provide /usr/bin/schemagen (schemagen) in auto mode\n",
            "update-alternatives: using /usr/lib/jvm/java-8-openjdk-amd64/bin/wsgen to provide /usr/bin/wsgen (wsgen) in auto mode\n",
            "update-alternatives: using /usr/lib/jvm/java-8-openjdk-amd64/bin/wsimport to provide /usr/bin/wsimport (wsimport) in auto mode\n",
            "update-alternatives: using /usr/lib/jvm/java-8-openjdk-amd64/bin/xjc to provide /usr/bin/xjc (xjc) in auto mode\n",
            "Processing triggers for libc-bin (2.35-0ubuntu3.4) ...\n",
            "/sbin/ldconfig.real: /usr/local/lib/libumf.so.0 is not a symbolic link\n",
            "\n",
            "/sbin/ldconfig.real: /usr/local/lib/libtcm_debug.so.1 is not a symbolic link\n",
            "\n",
            "/sbin/ldconfig.real: /usr/local/lib/libhwloc.so.15 is not a symbolic link\n",
            "\n",
            "/sbin/ldconfig.real: /usr/local/lib/libtbbbind.so.3 is not a symbolic link\n",
            "\n",
            "/sbin/ldconfig.real: /usr/local/lib/libtbbmalloc.so.2 is not a symbolic link\n",
            "\n",
            "/sbin/ldconfig.real: /usr/local/lib/libtbbbind_2_0.so.3 is not a symbolic link\n",
            "\n",
            "/sbin/ldconfig.real: /usr/local/lib/libtbb.so.12 is not a symbolic link\n",
            "\n",
            "/sbin/ldconfig.real: /usr/local/lib/libtbbbind_2_5.so.3 is not a symbolic link\n",
            "\n",
            "/sbin/ldconfig.real: /usr/local/lib/libtbbmalloc_proxy.so.2 is not a symbolic link\n",
            "\n",
            "/sbin/ldconfig.real: /usr/local/lib/libtcm.so.1 is not a symbolic link\n",
            "\n",
            "/sbin/ldconfig.real: /usr/local/lib/libur_adapter_level_zero.so.0 is not a symbolic link\n",
            "\n",
            "/sbin/ldconfig.real: /usr/local/lib/libur_adapter_opencl.so.0 is not a symbolic link\n",
            "\n",
            "/sbin/ldconfig.real: /usr/local/lib/libur_loader.so.0 is not a symbolic link\n",
            "\n"
          ]
        }
      ]
    },
    {
      "cell_type": "code",
      "source": [
        "\n",
        "\n",
        "import pandas as pd\n",
        "import numpy as np\n",
        "import matplotlib.pyplot as plt\n",
        "%matplotlib inline\n",
        "\n",
        "import pyspark\n",
        "from pyspark.sql import *\n",
        "from pyspark.sql.types import *\n",
        "from pyspark.sql.functions import *\n",
        "from pyspark import SparkContext, SparkConf\n",
        "import os\n",
        "os.environ[\"JAVA_HOME\"] = \"/usr/lib/jvm/java-8-openjdk-amd64\"\n",
        "\n"
      ],
      "metadata": {
        "id": "tce26NuIc63Z"
      },
      "id": "tce26NuIc63Z",
      "execution_count": null,
      "outputs": []
    },
    {
      "cell_type": "code",
      "source": [
        "\n",
        "from pyspark.sql import SparkSession\n",
        "\n",
        "\n",
        "spark = SparkSession.builder \\\n",
        "    .master(\"local[1]\") \\\n",
        "    .appName(\"SparkByExamples.com\") \\\n",
        "    .getOrCreate()\n",
        "\n",
        "\n",
        "print(spark)\n",
        "spark\n"
      ],
      "metadata": {
        "id": "4Z6fequadg0G",
        "colab": {
          "base_uri": "https://localhost:8080/",
          "height": 248
        },
        "outputId": "6ff372a2-de10-4c88-b79e-25f2c66da265"
      },
      "id": "4Z6fequadg0G",
      "execution_count": null,
      "outputs": [
        {
          "output_type": "stream",
          "name": "stdout",
          "text": [
            "<pyspark.sql.session.SparkSession object at 0x7f9d3bbe1780>\n"
          ]
        },
        {
          "output_type": "execute_result",
          "data": {
            "text/plain": [
              "<pyspark.sql.session.SparkSession at 0x7f9d3bbe1780>"
            ],
            "text/html": [
              "\n",
              "            <div>\n",
              "                <p><b>SparkSession - in-memory</b></p>\n",
              "                \n",
              "        <div>\n",
              "            <p><b>SparkContext</b></p>\n",
              "\n",
              "            <p><a href=\"http://5ec987f8ccaf:4040\">Spark UI</a></p>\n",
              "\n",
              "            <dl>\n",
              "              <dt>Version</dt>\n",
              "                <dd><code>v3.5.3</code></dd>\n",
              "              <dt>Master</dt>\n",
              "                <dd><code>local[1]</code></dd>\n",
              "              <dt>AppName</dt>\n",
              "                <dd><code>SparkByExamples.com</code></dd>\n",
              "            </dl>\n",
              "        </div>\n",
              "        \n",
              "            </div>\n",
              "        "
            ]
          },
          "metadata": {},
          "execution_count": 3
        }
      ]
    },
    {
      "cell_type": "code",
      "execution_count": null,
      "id": "a27b619f",
      "metadata": {
        "id": "a27b619f",
        "colab": {
          "base_uri": "https://localhost:8080/",
          "height": 232
        },
        "outputId": "04c43ece-dbda-46f6-ab3f-4a392ddcc719"
      },
      "outputs": [
        {
          "output_type": "execute_result",
          "data": {
            "text/plain": [
              "<pyspark.sql.session.SparkSession at 0x7f9d3bbe1780>"
            ],
            "text/html": [
              "\n",
              "            <div>\n",
              "                <p><b>SparkSession - in-memory</b></p>\n",
              "                \n",
              "        <div>\n",
              "            <p><b>SparkContext</b></p>\n",
              "\n",
              "            <p><a href=\"http://5ec987f8ccaf:4040\">Spark UI</a></p>\n",
              "\n",
              "            <dl>\n",
              "              <dt>Version</dt>\n",
              "                <dd><code>v3.5.3</code></dd>\n",
              "              <dt>Master</dt>\n",
              "                <dd><code>local[1]</code></dd>\n",
              "              <dt>AppName</dt>\n",
              "                <dd><code>SparkByExamples.com</code></dd>\n",
              "            </dl>\n",
              "        </div>\n",
              "        \n",
              "            </div>\n",
              "        "
            ]
          },
          "metadata": {},
          "execution_count": 4
        }
      ],
      "source": [
        "spark"
      ]
    },
    {
      "cell_type": "code",
      "execution_count": null,
      "id": "3bf3aae2",
      "metadata": {
        "id": "3bf3aae2",
        "colab": {
          "base_uri": "https://localhost:8080/",
          "height": 210
        },
        "outputId": "44d2eb42-41b4-4f75-b8c0-52372f16676a"
      },
      "outputs": [
        {
          "output_type": "execute_result",
          "data": {
            "text/plain": [
              "<SparkContext master=local[1] appName=SparkByExamples.com>"
            ],
            "text/html": [
              "\n",
              "        <div>\n",
              "            <p><b>SparkContext</b></p>\n",
              "\n",
              "            <p><a href=\"http://5ec987f8ccaf:4040\">Spark UI</a></p>\n",
              "\n",
              "            <dl>\n",
              "              <dt>Version</dt>\n",
              "                <dd><code>v3.5.3</code></dd>\n",
              "              <dt>Master</dt>\n",
              "                <dd><code>local[1]</code></dd>\n",
              "              <dt>AppName</dt>\n",
              "                <dd><code>SparkByExamples.com</code></dd>\n",
              "            </dl>\n",
              "        </div>\n",
              "        "
            ]
          },
          "metadata": {},
          "execution_count": 5
        }
      ],
      "source": [
        "#SparkContext is created by default with the variable name sc\n",
        "sc = spark.sparkContext\n",
        "sc"
      ]
    },
    {
      "cell_type": "code",
      "execution_count": null,
      "id": "c336488e",
      "metadata": {
        "id": "c336488e"
      },
      "outputs": [],
      "source": [
        "from pyspark import SparkContext\n",
        "from pyspark.ml.clustering import KMeans\n",
        "from pyspark.ml.feature import VectorAssembler\n",
        "from pyspark.sql import SQLContext\n",
        "\n",
        "#print (pyspark.__version__)"
      ]
    },
    {
      "cell_type": "code",
      "execution_count": null,
      "id": "889b84d3",
      "metadata": {
        "id": "889b84d3"
      },
      "outputs": [],
      "source": [
        "#running spark default settings\n",
        "import numpy as np\n",
        "import pandas as pd\n",
        "import matplotlib.pyplot as plt\n",
        "from mpl_toolkits.mplot3d import Axes3D\n",
        "from sklearn.datasets import make_blobs\n",
        "\n",
        "%matplotlib inline"
      ]
    },
    {
      "cell_type": "code",
      "source": [
        "# Data Frame spark profiling\n",
        "from pyspark.sql.types import IntegerType, StringType, DoubleType, ShortType, DecimalType\n",
        "import pyspark.sql.functions as func\n",
        "from pyspark.sql.functions import isnull\n",
        "from pyspark.sql.functions import isnan, when, count, col, round\n",
        "from pyspark.sql.functions import mean\n",
        "from pyspark.sql.types import Row\n",
        "import matplotlib.pyplot as plt\n",
        "from pyspark.sql.functions import udf\n",
        "\n",
        "\n",
        "# Pandas DF operation\n",
        "import pandas as pd\n",
        "import numpy as np\n",
        "import matplotlib.pyplot as plt\n",
        "import seaborn as sns\n",
        "from numpy import array\n",
        "\n",
        "# Modeling + Evaluation\n",
        "from pyspark.ml.feature import VectorAssembler, VectorIndexer, OneHotEncoder, StringIndexer\n",
        "from pyspark.sql.functions import when\n",
        "from pyspark.sql import functions as F\n",
        "from pyspark.sql.functions import avg\n",
        "from pyspark.ml import Pipeline\n",
        "from pyspark.ml.clustering import KMeans\n",
        "from pyspark.ml.feature import StandardScaler\n",
        "from mpl_toolkits.mplot3d import Axes3D"
      ],
      "metadata": {
        "id": "hx3Y7rtHh4de"
      },
      "id": "hx3Y7rtHh4de",
      "execution_count": null,
      "outputs": []
    },
    {
      "cell_type": "markdown",
      "source": [
        "Copy the mall customers data set to the content\n",
        "[link text](https://github.com/elsyifa/Clustering-Pyspark/blob/master/Mall_Customers.csv)"
      ],
      "metadata": {
        "id": "Oh5ThQqSMCvr"
      },
      "id": "Oh5ThQqSMCvr"
    },
    {
      "cell_type": "code",
      "source": [
        "\n",
        "#Initializing File Type\n",
        "file_type = 'text'\n",
        "path=r'Mall_Customers.csv'\n",
        "delimeter=','\n",
        "def load_data(file_type):\n",
        "    \"\"\"input type of file \"text\" or \"parquet\" and Return pyspark dataframe\"\"\"\n",
        "    if file_type ==\"text\": # use text as file type input\n",
        "        df = spark.read.option(\"header\", \"true\") \\\n",
        "        .option(\"delimeter\",delimeter)\\\n",
        "        .option(\"inferSchema\", \"true\") \\\n",
        "        .csv(path)\n",
        "    else:\n",
        "        df= spark.read.parquet(\"example.parquet\") #path file that you want import\n",
        "    return df\n",
        "df = load_data(file_type)\n",
        "help(load_data)\n",
        "\n",
        "load_data(file_type)\n"
      ],
      "metadata": {
        "id": "v5ulbo1Lh4Xg",
        "colab": {
          "base_uri": "https://localhost:8080/"
        },
        "outputId": "f5839319-dfac-40f9-bef8-a4c87efeffcd"
      },
      "id": "v5ulbo1Lh4Xg",
      "execution_count": null,
      "outputs": [
        {
          "output_type": "stream",
          "name": "stdout",
          "text": [
            "Help on function load_data in module __main__:\n",
            "\n",
            "load_data(file_type)\n",
            "    input type of file \"text\" or \"parquet\" and Return pyspark dataframe\n",
            "\n"
          ]
        },
        {
          "output_type": "execute_result",
          "data": {
            "text/plain": [
              "DataFrame[CustomerID: int, Genre: string, Age: int, Annual Income (k$): int, Spending Score (1-100): int]"
            ]
          },
          "metadata": {},
          "execution_count": 10
        }
      ]
    },
    {
      "cell_type": "code",
      "source": [],
      "metadata": {
        "colab": {
          "base_uri": "https://localhost:8080/",
          "height": 254
        },
        "id": "PQtJrSPtg597",
        "outputId": "c0e0e0a3-4941-4775-e58c-c9b05344c835"
      },
      "id": "PQtJrSPtg597",
      "execution_count": null,
      "outputs": [
        {
          "output_type": "execute_result",
          "data": {
            "text/plain": [
              "CustomerID                0\n",
              "Genre                     5\n",
              "Age                       0\n",
              "Annual Income (k$)        4\n",
              "Spending Score (1-100)    5\n",
              "dtype: int64"
            ],
            "text/html": [
              "<div>\n",
              "<style scoped>\n",
              "    .dataframe tbody tr th:only-of-type {\n",
              "        vertical-align: middle;\n",
              "    }\n",
              "\n",
              "    .dataframe tbody tr th {\n",
              "        vertical-align: top;\n",
              "    }\n",
              "\n",
              "    .dataframe thead th {\n",
              "        text-align: right;\n",
              "    }\n",
              "</style>\n",
              "<table border=\"1\" class=\"dataframe\">\n",
              "  <thead>\n",
              "    <tr style=\"text-align: right;\">\n",
              "      <th></th>\n",
              "      <th>0</th>\n",
              "    </tr>\n",
              "  </thead>\n",
              "  <tbody>\n",
              "    <tr>\n",
              "      <th>CustomerID</th>\n",
              "      <td>0</td>\n",
              "    </tr>\n",
              "    <tr>\n",
              "      <th>Genre</th>\n",
              "      <td>5</td>\n",
              "    </tr>\n",
              "    <tr>\n",
              "      <th>Age</th>\n",
              "      <td>0</td>\n",
              "    </tr>\n",
              "    <tr>\n",
              "      <th>Annual Income (k$)</th>\n",
              "      <td>4</td>\n",
              "    </tr>\n",
              "    <tr>\n",
              "      <th>Spending Score (1-100)</th>\n",
              "      <td>5</td>\n",
              "    </tr>\n",
              "  </tbody>\n",
              "</table>\n",
              "</div><br><label><b>dtype:</b> int64</label>"
            ]
          },
          "metadata": {},
          "execution_count": 8
        }
      ]
    },
    {
      "cell_type": "markdown",
      "source": [
        "# Preprocessing\n",
        "\n",
        "1-name of variables"
      ],
      "metadata": {
        "id": "IYadEVMH6zcY"
      },
      "id": "IYadEVMH6zcY"
    },
    {
      "cell_type": "code",
      "source": [
        "df.printSchema()\n",
        "\n",
        "df=df.withColumnRenamed('CustomerID','Id')\n",
        "df=df.withColumnRenamed('Annual Income (k$)','AnnIncome')\n",
        "df=df.withColumnRenamed('Spending Score (1-100)','SpendScore')\n",
        "df=df.withColumnRenamed('Genre','Gender')\n",
        "\n",
        "len(df.columns), df.columns\n"
      ],
      "metadata": {
        "id": "94u0KF97ieT9",
        "colab": {
          "base_uri": "https://localhost:8080/"
        },
        "outputId": "0d89f680-dc20-4620-a8e3-397f24483ab7"
      },
      "id": "94u0KF97ieT9",
      "execution_count": null,
      "outputs": [
        {
          "output_type": "execute_result",
          "data": {
            "text/plain": [
              "(5, ['Id', 'Gender', 'Age', 'AnnIncome', 'SpendScore'])"
            ]
          },
          "metadata": {},
          "execution_count": 12
        }
      ]
    },
    {
      "cell_type": "code",
      "source": [
        "\n",
        "\n",
        "\n",
        "df.dtypes\n",
        "\n",
        "num_cols=['Age', 'AnnIncome', 'SpendScore']\n",
        "df.select(num_cols).describe().show()\n",
        "\n",
        "df.select('Age').describe().show()\n",
        "\n",
        "mean_age=df.select('Age').describe().collect()[1],[1]\n",
        "mean_age\n",
        "\n"
      ],
      "metadata": {
        "id": "UldbGq14pn65",
        "colab": {
          "base_uri": "https://localhost:8080/"
        },
        "outputId": "6b76c6a3-2d05-49f4-f3ef-1295dbe07a53"
      },
      "id": "UldbGq14pn65",
      "execution_count": null,
      "outputs": [
        {
          "output_type": "stream",
          "name": "stdout",
          "text": [
            "+-------+-----------------+-----------------+------------------+\n",
            "|summary|              Age|        AnnIncome|        SpendScore|\n",
            "+-------+-----------------+-----------------+------------------+\n",
            "|  count|              200|              196|               195|\n",
            "|   mean|            38.85|60.73979591836735| 50.43589743589744|\n",
            "| stddev|13.96900733155888|26.33197623168131|25.565758018924654|\n",
            "|    min|               18|               15|                 1|\n",
            "|    max|               70|              137|                99|\n",
            "+-------+-----------------+-----------------+------------------+\n",
            "\n",
            "+-------+-----------------+\n",
            "|summary|              Age|\n",
            "+-------+-----------------+\n",
            "|  count|              200|\n",
            "|   mean|            38.85|\n",
            "| stddev|13.96900733155888|\n",
            "|    min|               18|\n",
            "|    max|               70|\n",
            "+-------+-----------------+\n",
            "\n"
          ]
        },
        {
          "output_type": "execute_result",
          "data": {
            "text/plain": [
              "(Row(summary='mean', Age='38.85'), [1])"
            ]
          },
          "metadata": {},
          "execution_count": 25
        }
      ]
    },
    {
      "cell_type": "markdown",
      "source": [],
      "metadata": {
        "id": "BRFhFWiC7O08"
      },
      "id": "BRFhFWiC7O08"
    },
    {
      "cell_type": "markdown",
      "source": [
        "\n",
        "3- Missing values detection"
      ],
      "metadata": {
        "id": "x5sqD2gE6fFr"
      },
      "id": "x5sqD2gE6fFr"
    },
    {
      "cell_type": "code",
      "source": [
        "df_pd=df.toPandas()\n",
        "df_pd.head(15)\n",
        "\n",
        "mis_val = df_pd.isnull().sum()\n",
        "#df_pd['Gender'] = df_pd['Gender'].replace([\"\", \"NaN\", \"n/a\", \"null\", \" \"], np.nan)\n",
        "mis_val = df_pd.isnull().sum()\n",
        "\n",
        "mis_valA = df_pd.AnnIncome.isnull().sum()\n",
        "mis_valAge = df_pd.Age.isnull().sum()\n",
        "\n",
        "\n",
        "df_Nomiss=df.na.drop()\n",
        "df_Nomiss.count()\n",
        "df_n_pd=df_Nomiss.toPandas()\n",
        "df_n_pd.isnull().sum()\n",
        "\n",
        "\n",
        "df_Nomiss.groupBy('Gender').count()\n",
        "df_Nomiss.groupBy('Gender').count().show()\n",
        "\n",
        "\n",
        "df_Nomiss.groupBy('Gender').count().sort(col(\"count\").desc()).show()\n",
        "df_Nomiss.groupBy('Gender').count().sort(col(\"count\").asc()).show()\n"
      ],
      "metadata": {
        "id": "lkzjocOvwKw5",
        "colab": {
          "base_uri": "https://localhost:8080/",
          "height": 254
        },
        "outputId": "f81f6172-4e1b-49a8-98b2-80a6c35505db"
      },
      "id": "lkzjocOvwKw5",
      "execution_count": null,
      "outputs": [
        {
          "output_type": "execute_result",
          "data": {
            "text/plain": [
              "Id            0\n",
              "Gender        5\n",
              "Age           0\n",
              "AnnIncome     4\n",
              "SpendScore    5\n",
              "dtype: int64"
            ],
            "text/html": [
              "<div>\n",
              "<style scoped>\n",
              "    .dataframe tbody tr th:only-of-type {\n",
              "        vertical-align: middle;\n",
              "    }\n",
              "\n",
              "    .dataframe tbody tr th {\n",
              "        vertical-align: top;\n",
              "    }\n",
              "\n",
              "    .dataframe thead th {\n",
              "        text-align: right;\n",
              "    }\n",
              "</style>\n",
              "<table border=\"1\" class=\"dataframe\">\n",
              "  <thead>\n",
              "    <tr style=\"text-align: right;\">\n",
              "      <th></th>\n",
              "      <th>0</th>\n",
              "    </tr>\n",
              "  </thead>\n",
              "  <tbody>\n",
              "    <tr>\n",
              "      <th>Id</th>\n",
              "      <td>0</td>\n",
              "    </tr>\n",
              "    <tr>\n",
              "      <th>Gender</th>\n",
              "      <td>5</td>\n",
              "    </tr>\n",
              "    <tr>\n",
              "      <th>Age</th>\n",
              "      <td>0</td>\n",
              "    </tr>\n",
              "    <tr>\n",
              "      <th>AnnIncome</th>\n",
              "      <td>4</td>\n",
              "    </tr>\n",
              "    <tr>\n",
              "      <th>SpendScore</th>\n",
              "      <td>5</td>\n",
              "    </tr>\n",
              "  </tbody>\n",
              "</table>\n",
              "</div><br><label><b>dtype:</b> int64</label>"
            ]
          },
          "metadata": {},
          "execution_count": 40
        }
      ]
    },
    {
      "cell_type": "code",
      "source": [
        "\n",
        "mode=df_Nomiss.groupBy('Gender').count().sort(col(\"count\").desc()).collect()[0][0]\n",
        "mode1=df_Nomiss.groupBy('Gender').count().sort(col(\"count\").asc()).collect()[1][0]\n",
        "\n",
        "df.show()\n",
        "\n",
        "df = df.na.fill({'Gender':mode})\n",
        "df.show()\n",
        "\n",
        "df.describe().show()\n",
        "df.select(mean('AnnIncome')).show()\n",
        "meanvalue = df.select(mean('AnnIncome')).collect()[0][0]\n",
        "df = df.na.fill({'AnnIncome':meanvalue})\n",
        "\n",
        "df_pd2=df_Nomiss.toPandas()\n",
        "plt.boxplot(df_pd2.AnnIncome)\n",
        "plt.boxplot(df_pd2.SpendScore)\n",
        "\n",
        "\n",
        "meanvalue = df.select(mean('SpendScore')).collect()[0][0]\n",
        "df = df.na.fill({'SpendScore':meanvalue})\n",
        "\n",
        "\n",
        "df_pd1=df.toPandas()\n",
        "plt.boxplot(df_pd.AnnIncome)\n",
        "\n",
        "medvalue = df.select(median('AnnIncome')).collect()[0][0]\n",
        "df = df.na.fill({'AnnIncome':medvalue})\n",
        "\n",
        "\n",
        "meanvalue = df.select(mean('SpendScore')).collect()[0][0]\n",
        "df = df.na.fill({'SpendScore':meanvalue})\n",
        "\n",
        "df_pd3=df.toPandas()\n",
        "df_pd3.isnull().sum()\n"
      ],
      "metadata": {
        "id": "EFfY7p-La06q",
        "colab": {
          "base_uri": "https://localhost:8080/"
        },
        "outputId": "e6bb6722-a910-4b48-9ea3-0c36d5c818bc"
      },
      "id": "EFfY7p-La06q",
      "execution_count": null,
      "outputs": [
        {
          "output_type": "stream",
          "name": "stdout",
          "text": [
            "+---+------+---+------------------+------------------+\n",
            "| Id|Gender|Age|         AnnIncome|        SpendScore|\n",
            "+---+------+---+------------------+------------------+\n",
            "|  1|  Male| 19|              15.0|              39.0|\n",
            "|  2|  Male| 21|              15.0|              81.0|\n",
            "|  3|Female| 20|              16.0|               6.0|\n",
            "|  4|Female| 23|              16.0|              77.0|\n",
            "|  5|Female| 31|              17.0|              40.0|\n",
            "|  6|Female| 22|              17.0|              76.0|\n",
            "|  7|Female| 35|              18.0|               6.0|\n",
            "|  8|Female| 23|61.554707084881784|              94.0|\n",
            "|  9|  Male| 64|              19.0| 35.87735159189907|\n",
            "| 10|Female| 30|              19.0|              72.0|\n",
            "| 11|  Male| 67|              19.0|              14.0|\n",
            "| 12|Female| 35|              19.0|              99.0|\n",
            "| 13|Female| 58|              20.0| 39.23510183721751|\n",
            "| 14|Female| 24|              20.0|              77.0|\n",
            "| 15|  Male| 37|              20.0|              13.0|\n",
            "| 16|  Male| 22|              20.0|59.312709306269596|\n",
            "| 17|Female| 35|              21.0|              35.0|\n",
            "| 18|  Male| 20|              21.0|              66.0|\n",
            "| 19|  Male| 52|              23.0|              29.0|\n",
            "| 20|Female| 35|              23.0|              98.0|\n",
            "+---+------+---+------------------+------------------+\n",
            "only showing top 20 rows\n",
            "\n"
          ]
        }
      ]
    },
    {
      "cell_type": "markdown",
      "source": [
        "# Implement missing values using the regression equation"
      ],
      "metadata": {
        "id": "g7lCtDe6460V"
      },
      "id": "g7lCtDe6460V"
    },
    {
      "cell_type": "code",
      "source": [
        "from sklearn.linear_model import LinearRegression\n",
        "\n",
        "nomisdata = df_pd[df_pd['AnnIncome' ].notna()]\n",
        "nomisdata.isnull().sum()\n",
        "\n",
        "x = nomisdata[['Age']] #PREDICTOR\n",
        "y = nomisdata['AnnIncome'] # DEPENDENT\n",
        "\n",
        "reg_model = LinearRegression()\n",
        "reg_model.fit(x, y)\n",
        "\n",
        "coefficient = reg_model.coef_\n",
        "intercept = reg_model.intercept_\n",
        "\n",
        "\n",
        "print(\"AnnIncome =\", intercept,  coefficient[0],\"Age\")\n",
        "\n",
        "\n",
        "missing_data = df_pd[df_pd['AnnIncome'].isna()]\n",
        "missing_data\n",
        "missing_data.head(6)\n",
        "X_missing = missing_data[['Age']]\n",
        "predicted_values = reg_model.predict(X_missing)\n",
        "\n",
        "df_pd.loc[df_pd['AnnIncome'].isna(), 'AnnIncome'] = predicted_values\n",
        "\n",
        "df_pd.isna().sum()\n",
        "df= spark.createDataFrame(df_pd)\n",
        "\n",
        "\n",
        "df.select([count(when(isnan(c) | col(c).isNull(), c)).alias(c) for c in df_Columns]\n",
        "   ).show()\n"
      ],
      "metadata": {
        "id": "nOhOddMhynlI"
      },
      "id": "nOhOddMhynlI",
      "execution_count": null,
      "outputs": []
    },
    {
      "cell_type": "code",
      "source": [
        "nomisdata1 = df_pd[df_pd['SpendScore' ].notna()]\n",
        "nomisdata1.isnull().sum()\n",
        "\n",
        "x = nomisdata1[['Age','AnnIncome' ]]# predictors\n",
        "y = nomisdata1['SpendScore']#dependent\n",
        "\n",
        "reg_model = LinearRegression()\n",
        "reg_model.fit(x, y)\n",
        "\n",
        "coefficient = reg_model.coef_\n",
        "intercept = reg_model.intercept_\n",
        "\n",
        "\n",
        "print(\"Spendscore =\", intercept, coefficient[0],\"Age\", \"+\", coefficient[1],\"Annsalary\")\n",
        "\n",
        "\n",
        "missing_data1 = df_pd[df_pd['SpendScore'].isna()]\n",
        "X_missing1 = missing_data1[['Age','AnnIncome' ]]\n",
        "predicted_values1 = reg_model.predict(X_missing1)\n",
        "\n",
        "df_pd.loc[df_pd['SpendScore'].isna(), 'SpendScore'] = predicted_values1\n",
        "\n",
        "df_pd.isna().sum()"
      ],
      "metadata": {
        "colab": {
          "base_uri": "https://localhost:8080/",
          "height": 254
        },
        "id": "H57rasj4nV6D",
        "outputId": "5bf8533c-262a-47a7-a5aa-e7c3d91ba614"
      },
      "id": "H57rasj4nV6D",
      "execution_count": null,
      "outputs": [
        {
          "output_type": "execute_result",
          "data": {
            "text/plain": [
              "Id            0\n",
              "Gender        5\n",
              "Age           0\n",
              "AnnIncome     0\n",
              "SpendScore    0\n",
              "dtype: int64"
            ],
            "text/html": [
              "<div>\n",
              "<style scoped>\n",
              "    .dataframe tbody tr th:only-of-type {\n",
              "        vertical-align: middle;\n",
              "    }\n",
              "\n",
              "    .dataframe tbody tr th {\n",
              "        vertical-align: top;\n",
              "    }\n",
              "\n",
              "    .dataframe thead th {\n",
              "        text-align: right;\n",
              "    }\n",
              "</style>\n",
              "<table border=\"1\" class=\"dataframe\">\n",
              "  <thead>\n",
              "    <tr style=\"text-align: right;\">\n",
              "      <th></th>\n",
              "      <th>0</th>\n",
              "    </tr>\n",
              "  </thead>\n",
              "  <tbody>\n",
              "    <tr>\n",
              "      <th>Id</th>\n",
              "      <td>0</td>\n",
              "    </tr>\n",
              "    <tr>\n",
              "      <th>Gender</th>\n",
              "      <td>5</td>\n",
              "    </tr>\n",
              "    <tr>\n",
              "      <th>Age</th>\n",
              "      <td>0</td>\n",
              "    </tr>\n",
              "    <tr>\n",
              "      <th>AnnIncome</th>\n",
              "      <td>0</td>\n",
              "    </tr>\n",
              "    <tr>\n",
              "      <th>SpendScore</th>\n",
              "      <td>0</td>\n",
              "    </tr>\n",
              "  </tbody>\n",
              "</table>\n",
              "</div><br><label><b>dtype:</b> int64</label>"
            ]
          },
          "metadata": {},
          "execution_count": 66
        }
      ]
    },
    {
      "cell_type": "markdown",
      "source": [
        "Graphical representation for another preprocessing"
      ],
      "metadata": {
        "id": "moPPSmXg6m2i"
      },
      "id": "moPPSmXg6m2i"
    },
    {
      "cell_type": "code",
      "source": [
        "import seaborn as sns\n",
        "\n",
        "df_pd2=df.toPandas()\n",
        "\n",
        "plt.figure(figsize=(20,10))\n",
        "plt.subplot(221)\n",
        "sns.countplot(x='Gender', data=df_pd2, order=df_pd['Gender'].value_counts().index)\n",
        "plt.show()"
      ],
      "metadata": {
        "colab": {
          "base_uri": "https://localhost:8080/",
          "height": 444
        },
        "id": "I0zBjmll2TAB",
        "outputId": "3d375310-64cd-4f5a-d13d-4ad7eaa4b30e"
      },
      "id": "I0zBjmll2TAB",
      "execution_count": null,
      "outputs": [
        {
          "output_type": "display_data",
          "data": {
            "text/plain": [
              "<Figure size 2000x1000 with 1 Axes>"
            ],
            "image/png": "[encoded data removed]"
          },
          "metadata": {}
        }
      ]
    },
    {
      "cell_type": "code",
      "source": [
        "#Checking outliers\n",
        "\n",
        "sns.boxplot(y=\"Age\",data=df_pd2)\n",
        "plt.show()\n",
        "\n",
        "\n",
        "sns.boxplot(y=\"AnnIncome\",data=df_pd2)\n",
        "plt.show()\n"
      ],
      "metadata": {
        "colab": {
          "base_uri": "https://localhost:8080/",
          "height": 432
        },
        "id": "IniHqExv2qgP",
        "outputId": "03799715-e100-4152-f1fe-83552727477f"
      },
      "id": "IniHqExv2qgP",
      "execution_count": null,
      "outputs": [
        {
          "output_type": "display_data",
          "data": {
            "text/plain": [
              "<Figure size 640x480 with 1 Axes>"
            ],
            "image/png": "[encoded data removed]"
          },
          "metadata": {}
        }
      ]
    },
    {
      "cell_type": "markdown",
      "source": [
        "\n",
        "# Handle of outlier\n",
        "\n",
        "\n",
        "Q1 = the value that cut off 25% of the first data when it is sorted in ascending order.\n",
        "\n",
        "Q2 =  median\n",
        "\n",
        "Q3 = the value that cut off 75% of the first data when it is sorted in ascending order.\n",
        "\n",
        "IQR or interquartile range is range between Q1 and Q3. IQR = Q3 - Q1.\n",
        "\n",
        "Upper side = Q3 + 1.5 * IQR\n",
        "\n",
        "Lower side = Q1 - 1.5 * IQR\n",
        "\n",
        "Outliers  are equivalent  to the observation that our grather thab the upper side or less than the lower side"
      ],
      "metadata": {
        "id": "RsDXwgXT3RPU"
      },
      "id": "RsDXwgXT3RPU"
    },
    {
      "cell_type": "code",
      "source": [
        "from pyspark.sql.functions import col, expr, percentile_approx\n",
        "\n",
        "\n",
        "percentiles = df.select(\n",
        "    percentile_approx(\"AnnIncome\", 0.25).alias(\"Q1\"),\n",
        "    percentile_approx(\"AnnIncome\", 0.75).alias(\"Q3\")\n",
        ").collect()\n",
        "\n",
        "Q1 = percentiles[0][\"Q1\"]\n",
        "Q3 = percentiles[0][\"Q3\"]\n",
        "IQR = Q3 - Q1\n",
        "\n",
        "lower_bound = Q1 - 1.5 * IQR\n",
        "upper_bound = Q3 + 1.5 * IQR\n",
        "\n",
        "outliers = df.filter((col(\"AnnIncome\") < lower_bound) | (col(\"AnnIncome\") > upper_bound))\n",
        "\n",
        "outliers.show()\n",
        "df_no_outlier= df.filter((col(\"AnnIncome\") >lower_bound) & (col(\"AnnIncome\") < upper_bound))\n",
        "df_no_outlier.count()\n",
        "\n",
        "\n",
        "\n",
        "\n",
        "df_no_outlier.describe().show()\n",
        "df_no_out_pd=df_no_outlier.toPandas()\n",
        "plt.boxplot(df_no_out_pd.AnnIncome)\n"
      ],
      "metadata": {
        "colab": {
          "base_uri": "https://localhost:8080/",
          "height": 583
        },
        "id": "aEkXCEhq3TRF",
        "outputId": "7cd7f444-9916-4282-eb9c-17a70149e815"
      },
      "id": "aEkXCEhq3TRF",
      "execution_count": null,
      "outputs": [
        {
          "output_type": "execute_result",
          "data": {
            "text/plain": [
              "{'whiskers': [<matplotlib.lines.Line2D at 0x7f9d2ffe6350>,\n",
              "  <matplotlib.lines.Line2D at 0x7f9d2ffe72e0>],\n",
              " 'caps': [<matplotlib.lines.Line2D at 0x7f9d2ffe4670>,\n",
              "  <matplotlib.lines.Line2D at 0x7f9d2e7cf4f0>],\n",
              " 'boxes': [<matplotlib.lines.Line2D at 0x7f9d2ffe6f20>],\n",
              " 'medians': [<matplotlib.lines.Line2D at 0x7f9d2e7cf820>],\n",
              " 'fliers': [<matplotlib.lines.Line2D at 0x7f9d2e7cffd0>],\n",
              " 'means': []}"
            ]
          },
          "metadata": {},
          "execution_count": 91
        },
        {
          "output_type": "display_data",
          "data": {
            "text/plain": [
              "<Figure size 640x480 with 1 Axes>"
            ],
            "image/png": "[encoded data removed]"
          },
          "metadata": {}
        }
      ]
    },
    {
      "cell_type": "code",
      "execution_count": null,
      "id": "ec7f4dd9",
      "metadata": {
        "id": "ec7f4dd9"
      },
      "outputs": [],
      "source": [
        "sc.stop()"
      ]
    }
  ],
  "metadata": {
    "kernelspec": {
      "display_name": "Python 3 (ipykernel)",
      "language": "python",
      "name": "python3"
    },
    "language_info": {
      "codemirror_mode": {
        "name": "ipython",
        "version": 3
      },
      "file_extension": ".py",
      "mimetype": "text/x-python",
      "name": "python",
      "nbconvert_exporter": "python",
      "pygments_lexer": "ipython3",
      "version": "3.9.7"
    },
    "colab": {
      "provenance": [],
      "include_colab_link": true
    }
  },
  "nbformat": 4,
  "nbformat_minor": 5
}