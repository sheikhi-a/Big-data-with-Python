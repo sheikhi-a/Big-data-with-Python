{
  "cells": [
    {
      "cell_type": "markdown",
      "metadata": {
        "id": "view-in-github",
        "colab_type": "text"
      },
      "source": [
        "<a href=\"https://colab.research.google.com/github/sheikhi-a/Big-data-with-Python/blob/main/spark_preprocessing_missing_outliers.ipynb\" target=\"_parent\"><img src=\"https://colab.research.google.com/assets/colab-badge.svg\" alt=\"Open In Colab\"/></a>"
      ]
    },
    {
      "cell_type": "markdown",
      "source": [
        "\n",
        "# preprocessing and exloring data using Spark\n",
        "\n",
        "\n",
        "By Ayyub Sheikhi, SBUK  (sheikhy.a@uk.ac.ir)"
      ],
      "metadata": {
        "id": "v4I4F5u6Jzqr"
      },
      "id": "v4I4F5u6Jzqr"
    },
    {
      "cell_type": "code",
      "source": [
        "\n",
        "!pip install pyspark\n",
        "!pip install -U -q PyDrive\n",
        "!apt install openjdk-8-jdk-headless -qq\n",
        "\n"
      ],
      "metadata": {
        "id": "xLL8w7FyceHl"
      },
      "id": "xLL8w7FyceHl",
      "execution_count": null,
      "outputs": []
    },
    {
      "cell_type": "code",
      "source": [
        "\n",
        "\n",
        "import pandas as pd\n",
        "import numpy as np\n",
        "import matplotlib.pyplot as plt\n",
        "%matplotlib inline\n",
        "\n",
        "import pyspark\n",
        "from pyspark.sql import *\n",
        "from pyspark.sql.types import *\n",
        "from pyspark.sql.functions import *\n",
        "from pyspark import SparkContext, SparkConf\n",
        "import os\n",
        "os.environ[\"JAVA_HOME\"] = \"/usr/lib/jvm/java-8-openjdk-amd64\"\n",
        "\n"
      ],
      "metadata": {
        "id": "tce26NuIc63Z"
      },
      "id": "tce26NuIc63Z",
      "execution_count": null,
      "outputs": []
    },
    {
      "cell_type": "code",
      "source": [
        "\n",
        "from pyspark.sql import SparkSession\n",
        "\n",
        "\n",
        "spark = SparkSession.builder \\\n",
        "    .master(\"local[1]\") \\\n",
        "    .appName(\"SparkByExamples.com\") \\\n",
        "    .getOrCreate()\n",
        "\n",
        "\n",
        "print(spark)\n",
        "spark\n"
      ],
      "metadata": {
        "id": "4Z6fequadg0G"
      },
      "id": "4Z6fequadg0G",
      "execution_count": null,
      "outputs": []
    },
    {
      "cell_type": "code",
      "execution_count": null,
      "id": "a27b619f",
      "metadata": {
        "id": "a27b619f"
      },
      "outputs": [],
      "source": [
        "spark"
      ]
    },
    {
      "cell_type": "code",
      "execution_count": null,
      "id": "3bf3aae2",
      "metadata": {
        "id": "3bf3aae2"
      },
      "outputs": [],
      "source": [
        "#SparkContext is created by default with the variable name sc\n",
        "sc = spark.sparkContext\n",
        "sc"
      ]
    },
    {
      "cell_type": "code",
      "execution_count": null,
      "id": "c336488e",
      "metadata": {
        "id": "c336488e"
      },
      "outputs": [],
      "source": [
        "from pyspark import SparkContext\n",
        "from pyspark.ml.clustering import KMeans\n",
        "from pyspark.ml.feature import VectorAssembler\n",
        "from pyspark.sql import SQLContext\n",
        "\n",
        "#print (pyspark.__version__)"
      ]
    },
    {
      "cell_type": "code",
      "execution_count": null,
      "id": "889b84d3",
      "metadata": {
        "id": "889b84d3"
      },
      "outputs": [],
      "source": [
        "#running spark default settings\n",
        "import numpy as np\n",
        "import pandas as pd\n",
        "import matplotlib.pyplot as plt\n",
        "from mpl_toolkits.mplot3d import Axes3D\n",
        "from sklearn.datasets import make_blobs\n",
        "\n",
        "%matplotlib inline"
      ]
    },
    {
      "cell_type": "code",
      "source": [
        "# Data Frame spark profiling\n",
        "from pyspark.sql.types import IntegerType, StringType, DoubleType, ShortType, DecimalType\n",
        "import pyspark.sql.functions as func\n",
        "from pyspark.sql.functions import isnull\n",
        "from pyspark.sql.functions import isnan, when, count, col, round\n",
        "from pyspark.sql.functions import mean\n",
        "from pyspark.sql.types import Row\n",
        "import matplotlib.pyplot as plt\n",
        "from pyspark.sql.functions import udf\n",
        "\n",
        "\n",
        "# Pandas DF operation\n",
        "import pandas as pd\n",
        "import numpy as np\n",
        "import matplotlib.pyplot as plt\n",
        "import seaborn as sns\n",
        "from numpy import array\n",
        "\n",
        "# Modeling + Evaluation\n",
        "from pyspark.ml.feature import VectorAssembler, VectorIndexer, OneHotEncoder, StringIndexer\n",
        "from pyspark.sql.functions import when\n",
        "from pyspark.sql import functions as F\n",
        "from pyspark.sql.functions import avg\n",
        "from pyspark.ml import Pipeline\n",
        "from pyspark.ml.clustering import KMeans\n",
        "from pyspark.ml.feature import StandardScaler\n",
        "from mpl_toolkits.mplot3d import Axes3D"
      ],
      "metadata": {
        "id": "hx3Y7rtHh4de"
      },
      "id": "hx3Y7rtHh4de",
      "execution_count": null,
      "outputs": []
    },
    {
      "cell_type": "markdown",
      "source": [
        "Copy the mall customers data set to the content\n",
        "[link text](https://github.com/elsyifa/Clustering-Pyspark/blob/master/Mall_Customers.csv)"
      ],
      "metadata": {
        "id": "Oh5ThQqSMCvr"
      },
      "id": "Oh5ThQqSMCvr"
    },
    {
      "cell_type": "code",
      "source": [
        "#Initializing File Type\n",
        "file_type = 'text'\n",
        "path=r'Mall_Customers.csv'\n",
        "delimeter=','\n",
        "def load_data(file_type):\n",
        "    \"\"\"input type of file \"text\" or \"parquet\" and Return pyspark dataframe\"\"\"\n",
        "    if file_type ==\"text\": # use text as file type input\n",
        "        df = spark.read.option(\"header\", \"true\") \\\n",
        "        .option(\"delimeter\",delimeter)\\\n",
        "        .option(\"inferSchema\", \"true\") \\\n",
        "        .csv(path)\n",
        "    else:\n",
        "        df= spark.read.parquet(\"example.parquet\") #path file that you want import\n",
        "    return df\n",
        "df = load_data(file_type)\n",
        "help(load_data)\n",
        "\n",
        "load_data(file_type)\n"
      ],
      "metadata": {
        "colab": {
          "base_uri": "https://localhost:8080/"
        },
        "id": "v5ulbo1Lh4Xg",
        "outputId": "f6d949bc-eb07-432c-cbc9-962955ed950f"
      },
      "id": "v5ulbo1Lh4Xg",
      "execution_count": null,
      "outputs": [
        {
          "output_type": "stream",
          "name": "stdout",
          "text": [
            "Help on function load_data in module __main__:\n",
            "\n",
            "load_data(file_type)\n",
            "    input type of file \"text\" or \"parquet\" and Return pyspark dataframe\n",
            "\n"
          ]
        },
        {
          "output_type": "execute_result",
          "data": {
            "text/plain": [
              "DataFrame[CustomerID: int, Genre: string, Age: int, Annual Income (k$): int, Spending Score (1-100): int]"
            ]
          },
          "metadata": {},
          "execution_count": 42
        }
      ]
    },
    {
      "cell_type": "code",
      "source": [
        "#another way to read the but we dont run it\n",
        "df0=spark.read.csv('Mall_Customers.csv', header=True)\n"
      ],
      "metadata": {
        "id": "jG1bevgqh4Nk"
      },
      "id": "jG1bevgqh4Nk",
      "execution_count": null,
      "outputs": []
    },
    {
      "cell_type": "code",
      "source": [
        "type(df)\n",
        "pyspark.sql.dataframe.DataFrame\n",
        "#show 5 observation in DataFrame\n",
        "df.show(3)"
      ],
      "metadata": {
        "colab": {
          "base_uri": "https://localhost:8080/"
        },
        "id": "JwenueWrh4B6",
        "outputId": "1c77ad79-2b7c-416f-a3b0-eb64f126fc97"
      },
      "id": "JwenueWrh4B6",
      "execution_count": null,
      "outputs": [
        {
          "output_type": "stream",
          "name": "stdout",
          "text": [
            "+----------+------+---+------------------+----------------------+\n",
            "|CustomerID| Genre|Age|Annual Income (k$)|Spending Score (1-100)|\n",
            "+----------+------+---+------------------+----------------------+\n",
            "|         1|  Male| 19|                15|                    39|\n",
            "|         2|  Male| 21|                15|                    81|\n",
            "|         3|Female| 20|                16|                     6|\n",
            "+----------+------+---+------------------+----------------------+\n",
            "only showing top 3 rows\n",
            "\n"
          ]
        }
      ]
    },
    {
      "cell_type": "code",
      "source": [],
      "metadata": {
        "id": "v5Yo_SdcyF35"
      },
      "id": "v5Yo_SdcyF35",
      "execution_count": null,
      "outputs": []
    },
    {
      "cell_type": "markdown",
      "source": [
        "# Preprocessing\n",
        "\n",
        "1-name of variables"
      ],
      "metadata": {
        "id": "IYadEVMH6zcY"
      },
      "id": "IYadEVMH6zcY"
    },
    {
      "cell_type": "code",
      "source": [
        "df.printSchema()\n",
        "\n",
        "df=df.withColumnRenamed('CustomerID','Id')\n",
        "df=df.withColumnRenamed('Annual Income (k$)','AnnIncome')\n",
        "df=df.withColumnRenamed('Spending Score (1-100)','SpendScore')\n",
        "\n",
        "len(df.columns), df.columns\n"
      ],
      "metadata": {
        "colab": {
          "base_uri": "https://localhost:8080/"
        },
        "id": "94u0KF97ieT9",
        "outputId": "ed866c58-2141-4583-c866-811dd0922a30"
      },
      "id": "94u0KF97ieT9",
      "execution_count": null,
      "outputs": [
        {
          "output_type": "stream",
          "name": "stdout",
          "text": [
            "root\n",
            " |-- CustomerID: integer (nullable = true)\n",
            " |-- Genre: string (nullable = true)\n",
            " |-- Age: integer (nullable = true)\n",
            " |-- Annual Income (k$): integer (nullable = true)\n",
            " |-- Spending Score (1-100): integer (nullable = true)\n",
            "\n"
          ]
        },
        {
          "output_type": "execute_result",
          "data": {
            "text/plain": [
              "(5, ['Id', 'Gender', 'Age', 'AnnIncome', 'SpendScore'])"
            ]
          },
          "metadata": {},
          "execution_count": 43
        }
      ]
    },
    {
      "cell_type": "code",
      "source": [
        "\n",
        "\n",
        "\n",
        "df.dtypes\n",
        "\n",
        "num_cols=['Age', 'AnnIncome', 'SpendScore']\n",
        "df.select(num_cols).describe().show()\n",
        "mann_age=df.select('Age').describe().collect()[1],[1]\n",
        "\n"
      ],
      "metadata": {
        "colab": {
          "base_uri": "https://localhost:8080/"
        },
        "id": "UldbGq14pn65",
        "outputId": "911ca0b1-065b-4e41-a74d-f73e989adc4a"
      },
      "id": "UldbGq14pn65",
      "execution_count": null,
      "outputs": [
        {
          "output_type": "stream",
          "name": "stdout",
          "text": [
            "+-------+-----------------+-----------------+------------------+\n",
            "|summary|              Age|        AnnIncome|        SpendScore|\n",
            "+-------+-----------------+-----------------+------------------+\n",
            "|  count|              200|              196|               195|\n",
            "|   mean|            38.85|60.73979591836735| 50.43589743589744|\n",
            "| stddev|13.96900733155888|26.33197623168131|25.565758018924654|\n",
            "|    min|               18|               15|                 1|\n",
            "|    max|               70|              137|                99|\n",
            "+-------+-----------------+-----------------+------------------+\n",
            "\n"
          ]
        }
      ]
    },
    {
      "cell_type": "markdown",
      "source": [],
      "metadata": {
        "id": "BRFhFWiC7O08"
      },
      "id": "BRFhFWiC7O08"
    },
    {
      "cell_type": "markdown",
      "source": [
        "\n",
        "3- Missing values detection"
      ],
      "metadata": {
        "id": "x5sqD2gE6fFr"
      },
      "id": "x5sqD2gE6fFr"
    },
    {
      "cell_type": "code",
      "source": [
        "df_pd=df.toPandas()\n",
        "mis_val = df_pd.isnull().sum()\n",
        "mis_valA = df_pd.AnnIncome.isnull().sum()\n",
        "\n",
        "df_Nomiss=df.na.drop()\n",
        "df_Nomiss.count()\n",
        "\n",
        "\n",
        "df_Nomiss.groupBy('Gender').count()\n",
        "\n",
        "df_Nomiss.groupBy('Gender').count().sort(col(\"count\").desc()).show()\n",
        "\n",
        "mode=df_Nomiss.groupBy('Gender').count().sort(col(\"count\").desc()).collect()[0][0]\n",
        "df.show()\n",
        "df = df.na.fill({'Gender':mode})\n",
        "\n",
        "df.describe().show()\n",
        "df.select(mean('AnnIncome')).show()\n",
        "meanvalue = df.select(mean('AnnIncome')).collect()[0][0]\n",
        "df = df.na.fill({'AnnIncome':meanvalue})\n",
        "\n",
        "meanvalue = df.select(mean('SpendScore')).collect()[0][0]\n",
        "df = df.na.fill({'SpendScore':meanvalue})\n"
      ],
      "metadata": {
        "colab": {
          "base_uri": "https://localhost:8080/"
        },
        "id": "lkzjocOvwKw5",
        "outputId": "e34df332-5513-4d9f-9af3-77abf9d5a44d"
      },
      "id": "lkzjocOvwKw5",
      "execution_count": null,
      "outputs": [
        {
          "output_type": "stream",
          "name": "stdout",
          "text": [
            "+------+-----+\n",
            "|Gender|count|\n",
            "+------+-----+\n",
            "|Female|  103|\n",
            "|  Male|   84|\n",
            "+------+-----+\n",
            "\n",
            "+---+------+---+---------+----------+\n",
            "| Id|Gender|Age|AnnIncome|SpendScore|\n",
            "+---+------+---+---------+----------+\n",
            "|  1|  Male| 19|       15|        39|\n",
            "|  2|  Male| 21|       15|        81|\n",
            "|  3|Female| 20|       16|         6|\n",
            "|  4|Female| 23|       16|        77|\n",
            "|  5|Female| 31|       17|        40|\n",
            "|  6|  NULL| 22|       17|        76|\n",
            "|  7|Female| 35|       18|         6|\n",
            "|  8|  NULL| 23|     NULL|        94|\n",
            "|  9|  Male| 64|       19|      NULL|\n",
            "| 10|  NULL| 30|       19|        72|\n",
            "| 11|  Male| 67|       19|        14|\n",
            "| 12|Female| 35|       19|        99|\n",
            "| 13|Female| 58|       20|      NULL|\n",
            "| 14|  NULL| 24|       20|        77|\n",
            "| 15|  Male| 37|       20|        13|\n",
            "| 16|  Male| 22|       20|      NULL|\n",
            "| 17|Female| 35|       21|        35|\n",
            "| 18|  Male| 20|       21|        66|\n",
            "| 19|  Male| 52|       23|        29|\n",
            "| 20|Female| 35|       23|        98|\n",
            "+---+------+---+---------+----------+\n",
            "only showing top 20 rows\n",
            "\n",
            "+-------+------------------+------+-----------------+-----------------+------------------+\n",
            "|summary|                Id|Gender|              Age|        AnnIncome|        SpendScore|\n",
            "+-------+------------------+------+-----------------+-----------------+------------------+\n",
            "|  count|               200|   200|              200|              196|               195|\n",
            "|   mean|             100.5|  NULL|            38.85|60.73979591836735| 50.43589743589744|\n",
            "| stddev|57.879184513951124|  NULL|13.96900733155888|26.33197623168131|25.565758018924654|\n",
            "|    min|                 1|Female|               18|               15|                 1|\n",
            "|    max|               200|  Male|               70|              137|                99|\n",
            "+-------+------------------+------+-----------------+-----------------+------------------+\n",
            "\n",
            "+-----------------+\n",
            "|   avg(AnnIncome)|\n",
            "+-----------------+\n",
            "|60.73979591836735|\n",
            "+-----------------+\n",
            "\n"
          ]
        }
      ]
    },
    {
      "cell_type": "markdown",
      "source": [
        "Graphical representation for another preprocessing"
      ],
      "metadata": {
        "id": "moPPSmXg6m2i"
      },
      "id": "moPPSmXg6m2i"
    },
    {
      "cell_type": "code",
      "source": [
        "import seaborn as sns\n",
        "\n",
        "df_pd2=df.toPandas()\n",
        "\n",
        "plt.figure(figsize=(20,10))\n",
        "plt.subplot(221)\n",
        "sns.countplot(x='Gender', data=df_pd2, order=df_pd['Gender'].value_counts().index)\n",
        "plt.show()"
      ],
      "metadata": {
        "colab": {
          "base_uri": "https://localhost:8080/",
          "height": 402
        },
        "id": "I0zBjmll2TAB",
        "outputId": "a89e7853-ec44-4aa8-91a4-f4add1619034"
      },
      "id": "I0zBjmll2TAB",
      "execution_count": null,
      "outputs": [
        {
          "output_type": "display_data",
          "data": {
            "text/plain": [
              "<Figure size 2000x1000 with 1 Axes>"
            ],
            "image/png": "[encoded data removed]"
          },
          "metadata": {}
        }
      ]
    },
    {
      "cell_type": "code",
      "source": [
        "#Checking outliers\n",
        "\n",
        "sns.boxplot(y=\"Age\",data=df_pd2)\n",
        "plt.show()\n",
        "\n",
        "\n",
        "sns.boxplot(y=\"AnnIncome\",data=df_pd2)\n",
        "plt.show()\n"
      ],
      "metadata": {
        "colab": {
          "base_uri": "https://localhost:8080/",
          "height": 826
        },
        "id": "IniHqExv2qgP",
        "outputId": "789710f6-6b6a-41e4-8af6-da66460de872"
      },
      "id": "IniHqExv2qgP",
      "execution_count": null,
      "outputs": [
        {
          "output_type": "display_data",
          "data": {
            "text/plain": [
              "<Figure size 640x480 with 1 Axes>"
            ],
            "image/png": "[encoded data removed]"
          },
          "metadata": {}
        },
        {
          "output_type": "display_data",
          "data": {
            "text/plain": [
              "<Figure size 640x480 with 1 Axes>"
            ],
            "image/png": "[encoded data removed]"
          },
          "metadata": {}
        }
      ]
    },
    {
      "cell_type": "markdown",
      "source": [
        "\n",
        "# Handle of outlier\n",
        "\n",
        "\n",
        "Q1 = the value that cut off 25% of the first data when it is sorted in ascending order.\n",
        "\n",
        "Q2 =  median\n",
        "\n",
        "Q3 = the value that cut off 75% of the first data when it is sorted in ascending order.\n",
        "\n",
        "IQR or interquartile range is range between Q1 and Q3. IQR = Q3 - Q1.\n",
        "\n",
        "Upper side = Q3 + 1.5 * IQR\n",
        "\n",
        "Lower side = Q1 - 1.5 * IQR\n",
        "\n",
        "Outliers  are equivalent  to the observation that our grather thab the upper side or less than the lower side"
      ],
      "metadata": {
        "id": "RsDXwgXT3RPU"
      },
      "id": "RsDXwgXT3RPU"
    },
    {
      "cell_type": "code",
      "source": [
        "from pyspark.sql.functions import col, expr, percentile_approx\n",
        "\n",
        "\n",
        "percentiles = df.select(\n",
        "    percentile_approx(\"AnnIncome\", 0.25).alias(\"Q1\"),\n",
        "    percentile_approx(\"AnnIncome\", 0.75).alias(\"Q3\")\n",
        ").collect()\n",
        "\n",
        "Q1 = percentiles[0][\"Q1\"]\n",
        "Q3 = percentiles[0][\"Q3\"]\n",
        "IQR = Q3 - Q1\n",
        "\n",
        "lower_bound = Q1 - 1.5 * IQR\n",
        "upper_bound = Q3 + 1.5 * IQR\n",
        "\n",
        "outliers = df.filter((col(\"AnnIncome\") < lower_bound) | (col(\"AnnIncome\") > upper_bound))\n",
        "\n",
        "outliers.show()\n",
        "df_no_out= df.filter((col(\"AnnIncome\") >lower_bound) & (col(\"AnnIncome\") < upper_bound))\n",
        "df_no_out.count()\n",
        "\n",
        "\n",
        "\n",
        "\n",
        "df_no_out.describe().show()\n"
      ],
      "metadata": {
        "colab": {
          "base_uri": "https://localhost:8080/"
        },
        "id": "aEkXCEhq3TRF",
        "outputId": "f3670798-65d6-43b7-9d25-75e0722e41f6"
      },
      "id": "aEkXCEhq3TRF",
      "execution_count": null,
      "outputs": [
        {
          "output_type": "stream",
          "name": "stdout",
          "text": [
            "+---+------+---+---------+----------+\n",
            "| Id|Gender|Age|AnnIncome|SpendScore|\n",
            "+---+------+---+---------+----------+\n",
            "|199|  Male| 32|      137|        18|\n",
            "|200|  Male| 30|      137|        83|\n",
            "+---+------+---+---------+----------+\n",
            "\n",
            "+-------+------------------+------+------------------+-----------------+-----------------+\n",
            "|summary|                Id|Gender|               Age|        AnnIncome|       SpendScore|\n",
            "+-------+------------------+------+------------------+-----------------+-----------------+\n",
            "|  count|               198|   198|               198|              198|              198|\n",
            "|   mean|              99.5|  NULL| 38.92929292929293|59.95454545454545|50.42424242424242|\n",
            "| stddev|57.301832431432764|  NULL|14.016851732555248|25.03364141678589|25.15821647140652|\n",
            "|    min|                 1|Female|                18|               15|                1|\n",
            "|    max|               198|  Male|                70|              126|               99|\n",
            "+-------+------------------+------+------------------+-----------------+-----------------+\n",
            "\n"
          ]
        }
      ]
    },
    {
      "cell_type": "code",
      "execution_count": null,
      "id": "ec7f4dd9",
      "metadata": {
        "id": "ec7f4dd9"
      },
      "outputs": [],
      "source": [
        "sc.stop()"
      ]
    }
  ],
  "metadata": {
    "kernelspec": {
      "display_name": "Python 3 (ipykernel)",
      "language": "python",
      "name": "python3"
    },
    "language_info": {
      "codemirror_mode": {
        "name": "ipython",
        "version": 3
      },
      "file_extension": ".py",
      "mimetype": "text/x-python",
      "name": "python",
      "nbconvert_exporter": "python",
      "pygments_lexer": "ipython3",
      "version": "3.9.7"
    },
    "colab": {
      "provenance": [],
      "include_colab_link": true
    }
  },
  "nbformat": 4,
  "nbformat_minor": 5
}