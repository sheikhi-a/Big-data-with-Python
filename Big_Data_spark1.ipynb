{
  "cells": [
    {
      "cell_type": "markdown",
      "metadata": {
        "id": "view-in-github",
        "colab_type": "text"
      },
      "source": [
        "<a href=\"https://colab.research.google.com/github/sheikhi-a/Big-data-with-Python/blob/main/Big_Data_spark1.ipynb\" target=\"_parent\"><img src=\"https://colab.research.google.com/assets/colab-badge.svg\" alt=\"Open In Colab\"/></a>"
      ]
    },
    {
      "cell_type": "code",
      "execution_count": 85,
      "metadata": {
        "id": "xhITgYz2JisB",
        "colab": {
          "base_uri": "https://localhost:8080/"
        },
        "outputId": "adb0d611-164f-4e4e-af06-a19584339e5e"
      },
      "outputs": [
        {
          "output_type": "stream",
          "name": "stdout",
          "text": [
            "Requirement already satisfied: pyspark in /usr/local/lib/python3.10/dist-packages (3.5.3)\n",
            "Requirement already satisfied: py4j==0.10.9.7 in /usr/local/lib/python3.10/dist-packages (from pyspark) (0.10.9.7)\n",
            "openjdk-8-jdk-headless is already the newest version (8u432-ga~us1-0ubuntu2~22.04).\n",
            "0 upgraded, 0 newly installed, 0 to remove and 49 not upgraded.\n"
          ]
        }
      ],
      "source": [
        "!pip install pyspark\n",
        "!pip install -U -q PyDrive\n",
        "!apt install openjdk-8-jdk-headless -qq\n"
      ]
    },
    {
      "cell_type": "code",
      "execution_count": 3,
      "metadata": {
        "id": "0H1jmr1kIIUP"
      },
      "outputs": [],
      "source": [
        "\n",
        "import pandas as pd\n",
        "import numpy as np\n",
        "import matplotlib.pyplot as plt\n",
        "%matplotlib inline\n",
        "\n",
        "import pyspark\n",
        "from pyspark.sql import *\n",
        "from pyspark.sql.types import *\n",
        "from pyspark.sql.functions import *\n",
        "from pyspark import SparkContext, SparkConf\n",
        "import os\n",
        "os.environ[\"JAVA_HOME\"] = \"/usr/lib/jvm/java-8-openjdk-amd64\""
      ]
    },
    {
      "cell_type": "code",
      "execution_count": 4,
      "metadata": {
        "id": "0CJHjmcWc33l",
        "colab": {
          "base_uri": "https://localhost:8080/",
          "height": 233
        },
        "outputId": "da11971b-2d35-4285-f4a3-ba0f4fb3aaa6"
      },
      "outputs": [
        {
          "output_type": "stream",
          "name": "stdout",
          "text": [
            "<pyspark.sql.session.SparkSession object at 0x7fca4e9eff70>\n"
          ]
        },
        {
          "output_type": "execute_result",
          "data": {
            "text/plain": [
              "<pyspark.sql.session.SparkSession at 0x7fca4e9eff70>"
            ],
            "text/html": [
              "\n",
              "            <div>\n",
              "                <p><b>SparkSession - in-memory</b></p>\n",
              "                \n",
              "        <div>\n",
              "            <p><b>SparkContext</b></p>\n",
              "\n",
              "            <p><a href=\"http://e88dbd5a3d38:4040\">Spark UI</a></p>\n",
              "\n",
              "            <dl>\n",
              "              <dt>Version</dt>\n",
              "                <dd><code>v3.5.3</code></dd>\n",
              "              <dt>Master</dt>\n",
              "                <dd><code>local[1]</code></dd>\n",
              "              <dt>AppName</dt>\n",
              "                <dd><code>SparkByExamples.com</code></dd>\n",
              "            </dl>\n",
              "        </div>\n",
              "        \n",
              "            </div>\n",
              "        "
            ]
          },
          "metadata": {},
          "execution_count": 4
        }
      ],
      "source": [
        "from pyspark.sql import SparkSession\n",
        "\n",
        "\n",
        "spark = SparkSession.builder \\\n",
        "    .master(\"local[1]\") \\\n",
        "    .appName(\"SparkByExamples.com\") \\\n",
        "    .getOrCreate()\n",
        "\n",
        "\n",
        "print(spark)\n",
        "spark\n"
      ]
    },
    {
      "cell_type": "code",
      "source": [
        "\n",
        "data = [('Scott', 50), ('Jeff', 45), ('Thomas', 54),('Ann',34)]\n",
        "df_spark=spark.createDataFrame(data,[\"name\",\"age\"])\n",
        "\n",
        "\n",
        "df_spark.printSchema()  # same as describe\n",
        "\n",
        "df_spark.show() #\n",
        "\n",
        "sparkDF=df_spark\n",
        "\n",
        "print(df_spark.count(), len(df_spark.columns))\n"
      ],
      "metadata": {
        "id": "nXLjfhNnSmnB",
        "colab": {
          "base_uri": "https://localhost:8080/"
        },
        "outputId": "e03aa684-f181-4916-d9e8-244b312aa053"
      },
      "execution_count": 86,
      "outputs": [
        {
          "output_type": "stream",
          "name": "stdout",
          "text": [
            "root\n",
            " |-- name: string (nullable = true)\n",
            " |-- age: long (nullable = true)\n",
            "\n",
            "+------+---+\n",
            "|  name|age|\n",
            "+------+---+\n",
            "| Scott| 50|\n",
            "|  Jeff| 45|\n",
            "|Thomas| 54|\n",
            "|   Ann| 34|\n",
            "+------+---+\n",
            "\n",
            "4 2\n"
          ]
        }
      ]
    },
    {
      "cell_type": "markdown",
      "source": [
        "# Compare  equivalency of  some pandas and pyspark scripts"
      ],
      "metadata": {
        "id": "K_ECAxCQnsHs"
      }
    },
    {
      "cell_type": "code",
      "source": [
        "\n",
        "#import pandas as pd\n",
        "#from pyspark.sql import SparkSession\n",
        "#from pyspark.sql.functions import col\n",
        "\n",
        "\n",
        "df_pd = pd.DataFrame(data)\n",
        "\n",
        "df_pd.head()\n",
        "df_pd.columns=['name', 'age']\n",
        "df_pd.head()\n",
        "df_pd"
      ],
      "metadata": {
        "id": "izcOdkIWnkpw",
        "colab": {
          "base_uri": "https://localhost:8080/",
          "height": 173
        },
        "outputId": "989662ef-667e-4258-fc10-b100feb0f55b"
      },
      "execution_count": 87,
      "outputs": [
        {
          "output_type": "execute_result",
          "data": {
            "text/plain": [
              "     name  age\n",
              "0   Scott   50\n",
              "1    Jeff   45\n",
              "2  Thomas   54\n",
              "3     Ann   34"
            ],
            "text/html": [
              "\n",
              "  <div id=\"df-30018a11-f40e-4183-a6c5-fe0b65c253ad\" class=\"colab-df-container\">\n",
              "    <div>\n",
              "<style scoped>\n",
              "    .dataframe tbody tr th:only-of-type {\n",
              "        vertical-align: middle;\n",
              "    }\n",
              "\n",
              "    .dataframe tbody tr th {\n",
              "        vertical-align: top;\n",
              "    }\n",
              "\n",
              "    .dataframe thead th {\n",
              "        text-align: right;\n",
              "    }\n",
              "</style>\n",
              "<table border=\"1\" class=\"dataframe\">\n",
              "  <thead>\n",
              "    <tr style=\"text-align: right;\">\n",
              "      <th></th>\n",
              "      <th>name</th>\n",
              "      <th>age</th>\n",
              "    </tr>\n",
              "  </thead>\n",
              "  <tbody>\n",
              "    <tr>\n",
              "      <th>0</th>\n",
              "      <td>Scott</td>\n",
              "      <td>50</td>\n",
              "    </tr>\n",
              "    <tr>\n",
              "      <th>1</th>\n",
              "      <td>Jeff</td>\n",
              "      <td>45</td>\n",
              "    </tr>\n",
              "    <tr>\n",
              "      <th>2</th>\n",
              "      <td>Thomas</td>\n",
              "      <td>54</td>\n",
              "    </tr>\n",
              "    <tr>\n",
              "      <th>3</th>\n",
              "      <td>Ann</td>\n",
              "      <td>34</td>\n",
              "    </tr>\n",
              "  </tbody>\n",
              "</table>\n",
              "</div>\n",
              "    <div class=\"colab-df-buttons\">\n",
              "\n",
              "  <div class=\"colab-df-container\">\n",
              "    <button class=\"colab-df-convert\" onclick=\"convertToInteractive('df-30018a11-f40e-4183-a6c5-fe0b65c253ad')\"\n",
              "            title=\"Convert this dataframe to an interactive table.\"\n",
              "            style=\"display:none;\">\n",
              "\n",
              "  <svg xmlns=\"http://www.w3.org/2000/svg\" height=\"24px\" viewBox=\"0 -960 960 960\">\n",
              "    <path d=\"M120-120v-720h720v720H120Zm60-500h600v-160H180v160Zm220 220h160v-160H400v160Zm0 220h160v-160H400v160ZM180-400h160v-160H180v160Zm440 0h160v-160H620v160ZM180-180h160v-160H180v160Zm440 0h160v-160H620v160Z\"/>\n",
              "  </svg>\n",
              "    </button>\n",
              "\n",
              "  <style>\n",
              "    .colab-df-container {\n",
              "      display:flex;\n",
              "      gap: 12px;\n",
              "    }\n",
              "\n",
              "    .colab-df-convert {\n",
              "      background-color: #E8F0FE;\n",
              "      border: none;\n",
              "      border-radius: 50%;\n",
              "      cursor: pointer;\n",
              "      display: none;\n",
              "      fill: #1967D2;\n",
              "      height: 32px;\n",
              "      padding: 0 0 0 0;\n",
              "      width: 32px;\n",
              "    }\n",
              "\n",
              "    .colab-df-convert:hover {\n",
              "      background-color: #E2EBFA;\n",
              "      box-shadow: 0px 1px 2px rgba(60, 64, 67, 0.3), 0px 1px 3px 1px rgba(60, 64, 67, 0.15);\n",
              "      fill: #174EA6;\n",
              "    }\n",
              "\n",
              "    .colab-df-buttons div {\n",
              "      margin-bottom: 4px;\n",
              "    }\n",
              "\n",
              "    [theme=dark] .colab-df-convert {\n",
              "      background-color: #3B4455;\n",
              "      fill: #D2E3FC;\n",
              "    }\n",
              "\n",
              "    [theme=dark] .colab-df-convert:hover {\n",
              "      background-color: #434B5C;\n",
              "      box-shadow: 0px 1px 3px 1px rgba(0, 0, 0, 0.15);\n",
              "      filter: drop-shadow(0px 1px 2px rgba(0, 0, 0, 0.3));\n",
              "      fill: #FFFFFF;\n",
              "    }\n",
              "  </style>\n",
              "\n",
              "    <script>\n",
              "      const buttonEl =\n",
              "        document.querySelector('#df-30018a11-f40e-4183-a6c5-fe0b65c253ad button.colab-df-convert');\n",
              "      buttonEl.style.display =\n",
              "        google.colab.kernel.accessAllowed ? 'block' : 'none';\n",
              "\n",
              "      async function convertToInteractive(key) {\n",
              "        const element = document.querySelector('#df-30018a11-f40e-4183-a6c5-fe0b65c253ad');\n",
              "        const dataTable =\n",
              "          await google.colab.kernel.invokeFunction('convertToInteractive',\n",
              "                                                    [key], {});\n",
              "        if (!dataTable) return;\n",
              "\n",
              "        const docLinkHtml = 'Like what you see? Visit the ' +\n",
              "          '<a target=\"_blank\" href=https://colab.research.google.com/notebooks/data_table.ipynb>data table notebook</a>'\n",
              "          + ' to learn more about interactive tables.';\n",
              "        element.innerHTML = '';\n",
              "        dataTable['output_type'] = 'display_data';\n",
              "        await google.colab.output.renderOutput(dataTable, element);\n",
              "        const docLink = document.createElement('div');\n",
              "        docLink.innerHTML = docLinkHtml;\n",
              "        element.appendChild(docLink);\n",
              "      }\n",
              "    </script>\n",
              "  </div>\n",
              "\n",
              "\n",
              "<div id=\"df-d8f1c667-3377-4019-bf04-4e81cdb417aa\">\n",
              "  <button class=\"colab-df-quickchart\" onclick=\"quickchart('df-d8f1c667-3377-4019-bf04-4e81cdb417aa')\"\n",
              "            title=\"Suggest charts\"\n",
              "            style=\"display:none;\">\n",
              "\n",
              "<svg xmlns=\"http://www.w3.org/2000/svg\" height=\"24px\"viewBox=\"0 0 24 24\"\n",
              "     width=\"24px\">\n",
              "    <g>\n",
              "        <path d=\"M19 3H5c-1.1 0-2 .9-2 2v14c0 1.1.9 2 2 2h14c1.1 0 2-.9 2-2V5c0-1.1-.9-2-2-2zM9 17H7v-7h2v7zm4 0h-2V7h2v10zm4 0h-2v-4h2v4z\"/>\n",
              "    </g>\n",
              "</svg>\n",
              "  </button>\n",
              "\n",
              "<style>\n",
              "  .colab-df-quickchart {\n",
              "      --bg-color: #E8F0FE;\n",
              "      --fill-color: #1967D2;\n",
              "      --hover-bg-color: #E2EBFA;\n",
              "      --hover-fill-color: #174EA6;\n",
              "      --disabled-fill-color: #AAA;\n",
              "      --disabled-bg-color: #DDD;\n",
              "  }\n",
              "\n",
              "  [theme=dark] .colab-df-quickchart {\n",
              "      --bg-color: #3B4455;\n",
              "      --fill-color: #D2E3FC;\n",
              "      --hover-bg-color: #434B5C;\n",
              "      --hover-fill-color: #FFFFFF;\n",
              "      --disabled-bg-color: #3B4455;\n",
              "      --disabled-fill-color: #666;\n",
              "  }\n",
              "\n",
              "  .colab-df-quickchart {\n",
              "    background-color: var(--bg-color);\n",
              "    border: none;\n",
              "    border-radius: 50%;\n",
              "    cursor: pointer;\n",
              "    display: none;\n",
              "    fill: var(--fill-color);\n",
              "    height: 32px;\n",
              "    padding: 0;\n",
              "    width: 32px;\n",
              "  }\n",
              "\n",
              "  .colab-df-quickchart:hover {\n",
              "    background-color: var(--hover-bg-color);\n",
              "    box-shadow: 0 1px 2px rgba(60, 64, 67, 0.3), 0 1px 3px 1px rgba(60, 64, 67, 0.15);\n",
              "    fill: var(--button-hover-fill-color);\n",
              "  }\n",
              "\n",
              "  .colab-df-quickchart-complete:disabled,\n",
              "  .colab-df-quickchart-complete:disabled:hover {\n",
              "    background-color: var(--disabled-bg-color);\n",
              "    fill: var(--disabled-fill-color);\n",
              "    box-shadow: none;\n",
              "  }\n",
              "\n",
              "  .colab-df-spinner {\n",
              "    border: 2px solid var(--fill-color);\n",
              "    border-color: transparent;\n",
              "    border-bottom-color: var(--fill-color);\n",
              "    animation:\n",
              "      spin 1s steps(1) infinite;\n",
              "  }\n",
              "\n",
              "  @keyframes spin {\n",
              "    0% {\n",
              "      border-color: transparent;\n",
              "      border-bottom-color: var(--fill-color);\n",
              "      border-left-color: var(--fill-color);\n",
              "    }\n",
              "    20% {\n",
              "      border-color: transparent;\n",
              "      border-left-color: var(--fill-color);\n",
              "      border-top-color: var(--fill-color);\n",
              "    }\n",
              "    30% {\n",
              "      border-color: transparent;\n",
              "      border-left-color: var(--fill-color);\n",
              "      border-top-color: var(--fill-color);\n",
              "      border-right-color: var(--fill-color);\n",
              "    }\n",
              "    40% {\n",
              "      border-color: transparent;\n",
              "      border-right-color: var(--fill-color);\n",
              "      border-top-color: var(--fill-color);\n",
              "    }\n",
              "    60% {\n",
              "      border-color: transparent;\n",
              "      border-right-color: var(--fill-color);\n",
              "    }\n",
              "    80% {\n",
              "      border-color: transparent;\n",
              "      border-right-color: var(--fill-color);\n",
              "      border-bottom-color: var(--fill-color);\n",
              "    }\n",
              "    90% {\n",
              "      border-color: transparent;\n",
              "      border-bottom-color: var(--fill-color);\n",
              "    }\n",
              "  }\n",
              "</style>\n",
              "\n",
              "  <script>\n",
              "    async function quickchart(key) {\n",
              "      const quickchartButtonEl =\n",
              "        document.querySelector('#' + key + ' button');\n",
              "      quickchartButtonEl.disabled = true;  // To prevent multiple clicks.\n",
              "      quickchartButtonEl.classList.add('colab-df-spinner');\n",
              "      try {\n",
              "        const charts = await google.colab.kernel.invokeFunction(\n",
              "            'suggestCharts', [key], {});\n",
              "      } catch (error) {\n",
              "        console.error('Error during call to suggestCharts:', error);\n",
              "      }\n",
              "      quickchartButtonEl.classList.remove('colab-df-spinner');\n",
              "      quickchartButtonEl.classList.add('colab-df-quickchart-complete');\n",
              "    }\n",
              "    (() => {\n",
              "      let quickchartButtonEl =\n",
              "        document.querySelector('#df-d8f1c667-3377-4019-bf04-4e81cdb417aa button');\n",
              "      quickchartButtonEl.style.display =\n",
              "        google.colab.kernel.accessAllowed ? 'block' : 'none';\n",
              "    })();\n",
              "  </script>\n",
              "</div>\n",
              "    </div>\n",
              "  </div>\n"
            ],
            "application/vnd.google.colaboratory.intrinsic+json": {
              "type": "dataframe",
              "variable_name": "df_pd",
              "summary": "{\n  \"name\": \"df_pd\",\n  \"rows\": 4,\n  \"fields\": [\n    {\n      \"column\": \"name\",\n      \"properties\": {\n        \"dtype\": \"string\",\n        \"num_unique_values\": 4,\n        \"samples\": [\n          \"Jeff\",\n          \"Ann\",\n          \"Scott\"\n        ],\n        \"semantic_type\": \"\",\n        \"description\": \"\"\n      }\n    },\n    {\n      \"column\": \"age\",\n      \"properties\": {\n        \"dtype\": \"number\",\n        \"std\": 8,\n        \"min\": 34,\n        \"max\": 54,\n        \"num_unique_values\": 4,\n        \"samples\": [\n          45,\n          34,\n          50\n        ],\n        \"semantic_type\": \"\",\n        \"description\": \"\"\n      }\n    }\n  ]\n}"
            }
          },
          "metadata": {},
          "execution_count": 87
        }
      ]
    },
    {
      "cell_type": "code",
      "source": [
        "\n",
        "df_spark.show()\n"
      ],
      "metadata": {
        "id": "v2pOnZLfbZw0",
        "colab": {
          "base_uri": "https://localhost:8080/"
        },
        "outputId": "8bb658d9-8b46-4aa0-ad24-20a9531500ee"
      },
      "execution_count": 7,
      "outputs": [
        {
          "output_type": "stream",
          "name": "stdout",
          "text": [
            "+------+---+\n",
            "|  name|age|\n",
            "+------+---+\n",
            "| Scott| 50|\n",
            "|  Jeff| 45|\n",
            "|Thomas| 54|\n",
            "|   Ann| 34|\n",
            "+------+---+\n",
            "\n"
          ]
        }
      ]
    },
    {
      "cell_type": "code",
      "source": [
        "\n",
        "\n",
        "filtered_pd = df_pd[df_pd['age'] > 45]\n",
        "filtered_pd\n",
        "filtered_spark = df_spark.filter(df_spark['age'] > 45)\n",
        "filtered_spark.show()\n",
        "\n",
        "\n",
        "selected_pd = df_pd[['name']]\n",
        "selected_pd\n",
        "selected_spark = df_spark.select('name')\n",
        "selected_spark.show()\n",
        "\n",
        "\n",
        "df_pd['age_in_5_years'] = df_pd['age'] + 5\n",
        "df_pd\n",
        "df_spark1 = df_spark.withColumn('age_in_5_years', col('age') + 5)\n",
        "df_spark1.show()\n"
      ],
      "metadata": {
        "id": "UKgGy8oObdoe",
        "colab": {
          "base_uri": "https://localhost:8080/"
        },
        "outputId": "1f4ad6d1-cd9b-481f-a09b-492c06e85410"
      },
      "execution_count": 88,
      "outputs": [
        {
          "output_type": "stream",
          "name": "stdout",
          "text": [
            "+------+---+\n",
            "|  name|age|\n",
            "+------+---+\n",
            "| Scott| 50|\n",
            "|Thomas| 54|\n",
            "+------+---+\n",
            "\n",
            "+------+\n",
            "|  name|\n",
            "+------+\n",
            "| Scott|\n",
            "|  Jeff|\n",
            "|Thomas|\n",
            "|   Ann|\n",
            "+------+\n",
            "\n",
            "+------+---+--------------+\n",
            "|  name|age|age_in_5_years|\n",
            "+------+---+--------------+\n",
            "| Scott| 50|            55|\n",
            "|  Jeff| 45|            50|\n",
            "|Thomas| 54|            59|\n",
            "|   Ann| 34|            39|\n",
            "+------+---+--------------+\n",
            "\n"
          ]
        }
      ]
    },
    {
      "cell_type": "code",
      "source": [
        "\n",
        "df_pd_drop = df_pd.drop(columns=['age'])\n",
        "df_pd_drop\n",
        "df_spark = df_spark1.drop('age')\n",
        "df_spark.show()\n",
        "\n",
        "\n",
        "sorted_pd = df_pd_drop.sort_values(by='age_in_5_years', ascending=False)\n",
        "sorted_pd\n",
        "sorted_spark = df_spark.orderBy('age_in_5_years', ascending=False)\n",
        "sorted_spark.show()\n",
        "\n",
        "\n",
        "pd_to_list = df_pd_drop.values.tolist()\n",
        "print(pd_to_list)\n",
        "\n",
        "spark_to_list = df_spark.collect()  # Returns a list of Row objects\n",
        "print(spark_to_list)\n",
        "\n",
        "\n",
        "row_count_pd = len(df_pd)\n",
        "row_count_pd\n",
        "row_count_spark = df_spark.count()\n",
        "row_count_spark\n",
        "\n",
        "\n",
        "df_spark_to_pd_converted = df_spark.toPandas()\n",
        "df_spark_to_pd_converted\n",
        "\n",
        "df_pd_to_spark_converted = spark.createDataFrame(df_pd)\n",
        "df_pd_to_spark_converted.show()\n"
      ],
      "metadata": {
        "id": "5wfB_Cjun93o"
      },
      "execution_count": null,
      "outputs": []
    },
    {
      "cell_type": "code",
      "source": [
        "df_sp = spark.read.csv('Book1.csv', header=True)\n",
        "df_pd=pd.read_csv('Book1.csv')\n",
        "df_pd.shape\n",
        "print(df_sp.count(), len(df_sp.columns))\n",
        "df_sp.show()\n",
        "df_sp.printSchema()\n",
        "df.show()\n"
      ],
      "metadata": {
        "id": "FVgZ6nwbRo5c",
        "colab": {
          "base_uri": "https://localhost:8080/"
        },
        "outputId": "46ee2fb2-4a47-4dc9-c102-b12a402ebdb1"
      },
      "execution_count": 99,
      "outputs": [
        {
          "output_type": "stream",
          "name": "stdout",
          "text": [
            "root\n",
            " |-- Account: string (nullable = true)\n",
            " |-- Product: string (nullable = true)\n",
            " |-- Region: string (nullable = true)\n",
            " |-- Revenue: string (nullable = true)\n",
            "\n"
          ]
        }
      ]
    },
    {
      "cell_type": "code",
      "execution_count": null,
      "metadata": {
        "id": "b0AYg5WYIwMK"
      },
      "outputs": [],
      "source": [
        "df = spark.read.csv('/content/sample_data/mnist_test.csv')\n",
        "df.show()\n",
        "df.dtypes #same as pandas"
      ]
    },
    {
      "cell_type": "code",
      "execution_count": 132,
      "metadata": {
        "id": "7u98CCkYLtEk",
        "colab": {
          "base_uri": "https://localhost:8080/"
        },
        "outputId": "1666c987-501a-4678-8856-95ae2bd83468"
      },
      "outputs": [
        {
          "output_type": "execute_result",
          "data": {
            "text/plain": [
              "MultiIndex([(            'mean radius',),\n",
              "            (           'mean texture',),\n",
              "            (         'mean perimeter',),\n",
              "            (              'mean area',),\n",
              "            (        'mean smoothness',),\n",
              "            (       'mean compactness',),\n",
              "            (         'mean concavity',),\n",
              "            (    'mean concave points',),\n",
              "            (          'mean symmetry',),\n",
              "            ( 'mean fractal dimension',),\n",
              "            (           'radius error',),\n",
              "            (          'texture error',),\n",
              "            (        'perimeter error',),\n",
              "            (             'area error',),\n",
              "            (       'smoothness error',),\n",
              "            (      'compactness error',),\n",
              "            (        'concavity error',),\n",
              "            (   'concave points error',),\n",
              "            (         'symmetry error',),\n",
              "            ('fractal dimension error',),\n",
              "            (           'worst radius',),\n",
              "            (          'worst texture',),\n",
              "            (        'worst perimeter',),\n",
              "            (             'worst area',),\n",
              "            (       'worst smoothness',),\n",
              "            (      'worst compactness',),\n",
              "            (        'worst concavity',),\n",
              "            (   'worst concave points',),\n",
              "            (         'worst symmetry',),\n",
              "            ('worst fractal dimension',)],\n",
              "           )"
            ]
          },
          "metadata": {},
          "execution_count": 132
        }
      ],
      "source": [
        "\n",
        "from sklearn.datasets import load_breast_cancer\n",
        "\n",
        "cancer = load_breast_cancer()\n",
        "\n",
        "\n",
        "\n",
        "pd_BC = pd.DataFrame(cancer.data, columns=[cancer.feature_names])\n",
        "pd_BC.shape\n",
        "pd_BC.columns\n",
        "\n",
        "\n",
        "\n",
        "datacancer = spark.createDataFrame(pd_BC)\n",
        "datacancer.show(5)\n",
        "\n",
        "datacancer.printSchema()\n",
        "\n",
        "datacancer.count()\n",
        "\n",
        "len(datacancer.columns)\n",
        "\n",
        "print( datacancer.count(),len(datacancer.columns ))"
      ]
    },
    {
      "cell_type": "markdown",
      "metadata": {
        "id": "YNIqfz5nY1XW"
      },
      "source": [
        "Show in Panads format"
      ]
    },
    {
      "cell_type": "code",
      "execution_count": 115,
      "metadata": {
        "id": "LxP1LIgEY_4J",
        "colab": {
          "base_uri": "https://localhost:8080/",
          "height": 287
        },
        "outputId": "66200769-a394-4e8f-ff16-daa06248510f"
      },
      "outputs": [
        {
          "output_type": "execute_result",
          "data": {
            "text/plain": [
              "   ('mean radius',)  ('mean texture',)  ('mean perimeter',)  ('mean area',)  \\\n",
              "0             17.99              10.38               122.80          1001.0   \n",
              "1             20.57              17.77               132.90          1326.0   \n",
              "2             19.69              21.25               130.00          1203.0   \n",
              "3             11.42              20.38                77.58           386.1   \n",
              "4             20.29              14.34               135.10          1297.0   \n",
              "\n",
              "   ('mean smoothness',)  ('mean compactness',)  ('mean concavity',)  \\\n",
              "0               0.11840                0.27760               0.3001   \n",
              "1               0.08474                0.07864               0.0869   \n",
              "2               0.10960                0.15990               0.1974   \n",
              "3               0.14250                0.28390               0.2414   \n",
              "4               0.10030                0.13280               0.1980   \n",
              "\n",
              "   ('mean concave points',)  ('mean symmetry',)  ('mean fractal dimension',)  \\\n",
              "0                   0.14710              0.2419                      0.07871   \n",
              "1                   0.07017              0.1812                      0.05667   \n",
              "2                   0.12790              0.2069                      0.05999   \n",
              "3                   0.10520              0.2597                      0.09744   \n",
              "4                   0.10430              0.1809                      0.05883   \n",
              "\n",
              "   ...  ('worst radius',)  ('worst texture',)  ('worst perimeter',)  \\\n",
              "0  ...              25.38               17.33                184.60   \n",
              "1  ...              24.99               23.41                158.80   \n",
              "2  ...              23.57               25.53                152.50   \n",
              "3  ...              14.91               26.50                 98.87   \n",
              "4  ...              22.54               16.67                152.20   \n",
              "\n",
              "   ('worst area',)  ('worst smoothness',)  ('worst compactness',)  \\\n",
              "0           2019.0                 0.1622                  0.6656   \n",
              "1           1956.0                 0.1238                  0.1866   \n",
              "2           1709.0                 0.1444                  0.4245   \n",
              "3            567.7                 0.2098                  0.8663   \n",
              "4           1575.0                 0.1374                  0.2050   \n",
              "\n",
              "   ('worst concavity',)  ('worst concave points',)  ('worst symmetry',)  \\\n",
              "0                0.7119                     0.2654               0.4601   \n",
              "1                0.2416                     0.1860               0.2750   \n",
              "2                0.4504                     0.2430               0.3613   \n",
              "3                0.6869                     0.2575               0.6638   \n",
              "4                0.4000                     0.1625               0.2364   \n",
              "\n",
              "   ('worst fractal dimension',)  \n",
              "0                       0.11890  \n",
              "1                       0.08902  \n",
              "2                       0.08758  \n",
              "3                       0.17300  \n",
              "4                       0.07678  \n",
              "\n",
              "[5 rows x 30 columns]"
            ],
            "text/html": [
              "\n",
              "  <div id=\"df-c9848c12-3810-41ba-a320-c74371892590\" class=\"colab-df-container\">\n",
              "    <div>\n",
              "<style scoped>\n",
              "    .dataframe tbody tr th:only-of-type {\n",
              "        vertical-align: middle;\n",
              "    }\n",
              "\n",
              "    .dataframe tbody tr th {\n",
              "        vertical-align: top;\n",
              "    }\n",
              "\n",
              "    .dataframe thead th {\n",
              "        text-align: right;\n",
              "    }\n",
              "</style>\n",
              "<table border=\"1\" class=\"dataframe\">\n",
              "  <thead>\n",
              "    <tr style=\"text-align: right;\">\n",
              "      <th></th>\n",
              "      <th>('mean radius',)</th>\n",
              "      <th>('mean texture',)</th>\n",
              "      <th>('mean perimeter',)</th>\n",
              "      <th>('mean area',)</th>\n",
              "      <th>('mean smoothness',)</th>\n",
              "      <th>('mean compactness',)</th>\n",
              "      <th>('mean concavity',)</th>\n",
              "      <th>('mean concave points',)</th>\n",
              "      <th>('mean symmetry',)</th>\n",
              "      <th>('mean fractal dimension',)</th>\n",
              "      <th>...</th>\n",
              "      <th>('worst radius',)</th>\n",
              "      <th>('worst texture',)</th>\n",
              "      <th>('worst perimeter',)</th>\n",
              "      <th>('worst area',)</th>\n",
              "      <th>('worst smoothness',)</th>\n",
              "      <th>('worst compactness',)</th>\n",
              "      <th>('worst concavity',)</th>\n",
              "      <th>('worst concave points',)</th>\n",
              "      <th>('worst symmetry',)</th>\n",
              "      <th>('worst fractal dimension',)</th>\n",
              "    </tr>\n",
              "  </thead>\n",
              "  <tbody>\n",
              "    <tr>\n",
              "      <th>0</th>\n",
              "      <td>17.99</td>\n",
              "      <td>10.38</td>\n",
              "      <td>122.80</td>\n",
              "      <td>1001.0</td>\n",
              "      <td>0.11840</td>\n",
              "      <td>0.27760</td>\n",
              "      <td>0.3001</td>\n",
              "      <td>0.14710</td>\n",
              "      <td>0.2419</td>\n",
              "      <td>0.07871</td>\n",
              "      <td>...</td>\n",
              "      <td>25.38</td>\n",
              "      <td>17.33</td>\n",
              "      <td>184.60</td>\n",
              "      <td>2019.0</td>\n",
              "      <td>0.1622</td>\n",
              "      <td>0.6656</td>\n",
              "      <td>0.7119</td>\n",
              "      <td>0.2654</td>\n",
              "      <td>0.4601</td>\n",
              "      <td>0.11890</td>\n",
              "    </tr>\n",
              "    <tr>\n",
              "      <th>1</th>\n",
              "      <td>20.57</td>\n",
              "      <td>17.77</td>\n",
              "      <td>132.90</td>\n",
              "      <td>1326.0</td>\n",
              "      <td>0.08474</td>\n",
              "      <td>0.07864</td>\n",
              "      <td>0.0869</td>\n",
              "      <td>0.07017</td>\n",
              "      <td>0.1812</td>\n",
              "      <td>0.05667</td>\n",
              "      <td>...</td>\n",
              "      <td>24.99</td>\n",
              "      <td>23.41</td>\n",
              "      <td>158.80</td>\n",
              "      <td>1956.0</td>\n",
              "      <td>0.1238</td>\n",
              "      <td>0.1866</td>\n",
              "      <td>0.2416</td>\n",
              "      <td>0.1860</td>\n",
              "      <td>0.2750</td>\n",
              "      <td>0.08902</td>\n",
              "    </tr>\n",
              "    <tr>\n",
              "      <th>2</th>\n",
              "      <td>19.69</td>\n",
              "      <td>21.25</td>\n",
              "      <td>130.00</td>\n",
              "      <td>1203.0</td>\n",
              "      <td>0.10960</td>\n",
              "      <td>0.15990</td>\n",
              "      <td>0.1974</td>\n",
              "      <td>0.12790</td>\n",
              "      <td>0.2069</td>\n",
              "      <td>0.05999</td>\n",
              "      <td>...</td>\n",
              "      <td>23.57</td>\n",
              "      <td>25.53</td>\n",
              "      <td>152.50</td>\n",
              "      <td>1709.0</td>\n",
              "      <td>0.1444</td>\n",
              "      <td>0.4245</td>\n",
              "      <td>0.4504</td>\n",
              "      <td>0.2430</td>\n",
              "      <td>0.3613</td>\n",
              "      <td>0.08758</td>\n",
              "    </tr>\n",
              "    <tr>\n",
              "      <th>3</th>\n",
              "      <td>11.42</td>\n",
              "      <td>20.38</td>\n",
              "      <td>77.58</td>\n",
              "      <td>386.1</td>\n",
              "      <td>0.14250</td>\n",
              "      <td>0.28390</td>\n",
              "      <td>0.2414</td>\n",
              "      <td>0.10520</td>\n",
              "      <td>0.2597</td>\n",
              "      <td>0.09744</td>\n",
              "      <td>...</td>\n",
              "      <td>14.91</td>\n",
              "      <td>26.50</td>\n",
              "      <td>98.87</td>\n",
              "      <td>567.7</td>\n",
              "      <td>0.2098</td>\n",
              "      <td>0.8663</td>\n",
              "      <td>0.6869</td>\n",
              "      <td>0.2575</td>\n",
              "      <td>0.6638</td>\n",
              "      <td>0.17300</td>\n",
              "    </tr>\n",
              "    <tr>\n",
              "      <th>4</th>\n",
              "      <td>20.29</td>\n",
              "      <td>14.34</td>\n",
              "      <td>135.10</td>\n",
              "      <td>1297.0</td>\n",
              "      <td>0.10030</td>\n",
              "      <td>0.13280</td>\n",
              "      <td>0.1980</td>\n",
              "      <td>0.10430</td>\n",
              "      <td>0.1809</td>\n",
              "      <td>0.05883</td>\n",
              "      <td>...</td>\n",
              "      <td>22.54</td>\n",
              "      <td>16.67</td>\n",
              "      <td>152.20</td>\n",
              "      <td>1575.0</td>\n",
              "      <td>0.1374</td>\n",
              "      <td>0.2050</td>\n",
              "      <td>0.4000</td>\n",
              "      <td>0.1625</td>\n",
              "      <td>0.2364</td>\n",
              "      <td>0.07678</td>\n",
              "    </tr>\n",
              "  </tbody>\n",
              "</table>\n",
              "<p>5 rows × 30 columns</p>\n",
              "</div>\n",
              "    <div class=\"colab-df-buttons\">\n",
              "\n",
              "  <div class=\"colab-df-container\">\n",
              "    <button class=\"colab-df-convert\" onclick=\"convertToInteractive('df-c9848c12-3810-41ba-a320-c74371892590')\"\n",
              "            title=\"Convert this dataframe to an interactive table.\"\n",
              "            style=\"display:none;\">\n",
              "\n",
              "  <svg xmlns=\"http://www.w3.org/2000/svg\" height=\"24px\" viewBox=\"0 -960 960 960\">\n",
              "    <path d=\"M120-120v-720h720v720H120Zm60-500h600v-160H180v160Zm220 220h160v-160H400v160Zm0 220h160v-160H400v160ZM180-400h160v-160H180v160Zm440 0h160v-160H620v160ZM180-180h160v-160H180v160Zm440 0h160v-160H620v160Z\"/>\n",
              "  </svg>\n",
              "    </button>\n",
              "\n",
              "  <style>\n",
              "    .colab-df-container {\n",
              "      display:flex;\n",
              "      gap: 12px;\n",
              "    }\n",
              "\n",
              "    .colab-df-convert {\n",
              "      background-color: #E8F0FE;\n",
              "      border: none;\n",
              "      border-radius: 50%;\n",
              "      cursor: pointer;\n",
              "      display: none;\n",
              "      fill: #1967D2;\n",
              "      height: 32px;\n",
              "      padding: 0 0 0 0;\n",
              "      width: 32px;\n",
              "    }\n",
              "\n",
              "    .colab-df-convert:hover {\n",
              "      background-color: #E2EBFA;\n",
              "      box-shadow: 0px 1px 2px rgba(60, 64, 67, 0.3), 0px 1px 3px 1px rgba(60, 64, 67, 0.15);\n",
              "      fill: #174EA6;\n",
              "    }\n",
              "\n",
              "    .colab-df-buttons div {\n",
              "      margin-bottom: 4px;\n",
              "    }\n",
              "\n",
              "    [theme=dark] .colab-df-convert {\n",
              "      background-color: #3B4455;\n",
              "      fill: #D2E3FC;\n",
              "    }\n",
              "\n",
              "    [theme=dark] .colab-df-convert:hover {\n",
              "      background-color: #434B5C;\n",
              "      box-shadow: 0px 1px 3px 1px rgba(0, 0, 0, 0.15);\n",
              "      filter: drop-shadow(0px 1px 2px rgba(0, 0, 0, 0.3));\n",
              "      fill: #FFFFFF;\n",
              "    }\n",
              "  </style>\n",
              "\n",
              "    <script>\n",
              "      const buttonEl =\n",
              "        document.querySelector('#df-c9848c12-3810-41ba-a320-c74371892590 button.colab-df-convert');\n",
              "      buttonEl.style.display =\n",
              "        google.colab.kernel.accessAllowed ? 'block' : 'none';\n",
              "\n",
              "      async function convertToInteractive(key) {\n",
              "        const element = document.querySelector('#df-c9848c12-3810-41ba-a320-c74371892590');\n",
              "        const dataTable =\n",
              "          await google.colab.kernel.invokeFunction('convertToInteractive',\n",
              "                                                    [key], {});\n",
              "        if (!dataTable) return;\n",
              "\n",
              "        const docLinkHtml = 'Like what you see? Visit the ' +\n",
              "          '<a target=\"_blank\" href=https://colab.research.google.com/notebooks/data_table.ipynb>data table notebook</a>'\n",
              "          + ' to learn more about interactive tables.';\n",
              "        element.innerHTML = '';\n",
              "        dataTable['output_type'] = 'display_data';\n",
              "        await google.colab.output.renderOutput(dataTable, element);\n",
              "        const docLink = document.createElement('div');\n",
              "        docLink.innerHTML = docLinkHtml;\n",
              "        element.appendChild(docLink);\n",
              "      }\n",
              "    </script>\n",
              "  </div>\n",
              "\n",
              "\n",
              "<div id=\"df-44f60dc8-abc7-48bb-91bf-91f19f96a252\">\n",
              "  <button class=\"colab-df-quickchart\" onclick=\"quickchart('df-44f60dc8-abc7-48bb-91bf-91f19f96a252')\"\n",
              "            title=\"Suggest charts\"\n",
              "            style=\"display:none;\">\n",
              "\n",
              "<svg xmlns=\"http://www.w3.org/2000/svg\" height=\"24px\"viewBox=\"0 0 24 24\"\n",
              "     width=\"24px\">\n",
              "    <g>\n",
              "        <path d=\"M19 3H5c-1.1 0-2 .9-2 2v14c0 1.1.9 2 2 2h14c1.1 0 2-.9 2-2V5c0-1.1-.9-2-2-2zM9 17H7v-7h2v7zm4 0h-2V7h2v10zm4 0h-2v-4h2v4z\"/>\n",
              "    </g>\n",
              "</svg>\n",
              "  </button>\n",
              "\n",
              "<style>\n",
              "  .colab-df-quickchart {\n",
              "      --bg-color: #E8F0FE;\n",
              "      --fill-color: #1967D2;\n",
              "      --hover-bg-color: #E2EBFA;\n",
              "      --hover-fill-color: #174EA6;\n",
              "      --disabled-fill-color: #AAA;\n",
              "      --disabled-bg-color: #DDD;\n",
              "  }\n",
              "\n",
              "  [theme=dark] .colab-df-quickchart {\n",
              "      --bg-color: #3B4455;\n",
              "      --fill-color: #D2E3FC;\n",
              "      --hover-bg-color: #434B5C;\n",
              "      --hover-fill-color: #FFFFFF;\n",
              "      --disabled-bg-color: #3B4455;\n",
              "      --disabled-fill-color: #666;\n",
              "  }\n",
              "\n",
              "  .colab-df-quickchart {\n",
              "    background-color: var(--bg-color);\n",
              "    border: none;\n",
              "    border-radius: 50%;\n",
              "    cursor: pointer;\n",
              "    display: none;\n",
              "    fill: var(--fill-color);\n",
              "    height: 32px;\n",
              "    padding: 0;\n",
              "    width: 32px;\n",
              "  }\n",
              "\n",
              "  .colab-df-quickchart:hover {\n",
              "    background-color: var(--hover-bg-color);\n",
              "    box-shadow: 0 1px 2px rgba(60, 64, 67, 0.3), 0 1px 3px 1px rgba(60, 64, 67, 0.15);\n",
              "    fill: var(--button-hover-fill-color);\n",
              "  }\n",
              "\n",
              "  .colab-df-quickchart-complete:disabled,\n",
              "  .colab-df-quickchart-complete:disabled:hover {\n",
              "    background-color: var(--disabled-bg-color);\n",
              "    fill: var(--disabled-fill-color);\n",
              "    box-shadow: none;\n",
              "  }\n",
              "\n",
              "  .colab-df-spinner {\n",
              "    border: 2px solid var(--fill-color);\n",
              "    border-color: transparent;\n",
              "    border-bottom-color: var(--fill-color);\n",
              "    animation:\n",
              "      spin 1s steps(1) infinite;\n",
              "  }\n",
              "\n",
              "  @keyframes spin {\n",
              "    0% {\n",
              "      border-color: transparent;\n",
              "      border-bottom-color: var(--fill-color);\n",
              "      border-left-color: var(--fill-color);\n",
              "    }\n",
              "    20% {\n",
              "      border-color: transparent;\n",
              "      border-left-color: var(--fill-color);\n",
              "      border-top-color: var(--fill-color);\n",
              "    }\n",
              "    30% {\n",
              "      border-color: transparent;\n",
              "      border-left-color: var(--fill-color);\n",
              "      border-top-color: var(--fill-color);\n",
              "      border-right-color: var(--fill-color);\n",
              "    }\n",
              "    40% {\n",
              "      border-color: transparent;\n",
              "      border-right-color: var(--fill-color);\n",
              "      border-top-color: var(--fill-color);\n",
              "    }\n",
              "    60% {\n",
              "      border-color: transparent;\n",
              "      border-right-color: var(--fill-color);\n",
              "    }\n",
              "    80% {\n",
              "      border-color: transparent;\n",
              "      border-right-color: var(--fill-color);\n",
              "      border-bottom-color: var(--fill-color);\n",
              "    }\n",
              "    90% {\n",
              "      border-color: transparent;\n",
              "      border-bottom-color: var(--fill-color);\n",
              "    }\n",
              "  }\n",
              "</style>\n",
              "\n",
              "  <script>\n",
              "    async function quickchart(key) {\n",
              "      const quickchartButtonEl =\n",
              "        document.querySelector('#' + key + ' button');\n",
              "      quickchartButtonEl.disabled = true;  // To prevent multiple clicks.\n",
              "      quickchartButtonEl.classList.add('colab-df-spinner');\n",
              "      try {\n",
              "        const charts = await google.colab.kernel.invokeFunction(\n",
              "            'suggestCharts', [key], {});\n",
              "      } catch (error) {\n",
              "        console.error('Error during call to suggestCharts:', error);\n",
              "      }\n",
              "      quickchartButtonEl.classList.remove('colab-df-spinner');\n",
              "      quickchartButtonEl.classList.add('colab-df-quickchart-complete');\n",
              "    }\n",
              "    (() => {\n",
              "      let quickchartButtonEl =\n",
              "        document.querySelector('#df-44f60dc8-abc7-48bb-91bf-91f19f96a252 button');\n",
              "      quickchartButtonEl.style.display =\n",
              "        google.colab.kernel.accessAllowed ? 'block' : 'none';\n",
              "    })();\n",
              "  </script>\n",
              "</div>\n",
              "    </div>\n",
              "  </div>\n"
            ],
            "application/vnd.google.colaboratory.intrinsic+json": {
              "type": "dataframe",
              "variable_name": "pd_datacancer"
            }
          },
          "metadata": {},
          "execution_count": 115
        }
      ],
      "source": [
        "pd_datacancer = datacancer.toPandas()\n",
        "pd_datacancer.head()\n",
        "\n"
      ]
    },
    {
      "cell_type": "markdown",
      "metadata": {
        "id": "1G9upRPvZPvn"
      },
      "source": [
        "convert and save to CSV"
      ]
    },
    {
      "cell_type": "code",
      "execution_count": 121,
      "metadata": {
        "id": "EgJX7eFVZTP7"
      },
      "outputs": [],
      "source": [
        "datacancer.toPandas().to_csv('cancerB.csv')\n",
        "\n",
        "\n",
        "datacancer_pd=datacancer.toPandas()\n",
        "datacancer_pd.head(10).to_csv(\"datacancer_head.csv\")\n",
        "datacancer_pd.tail(10).to_csv(\"datacancer_tail.csv\")\n",
        "\n"
      ]
    },
    {
      "cell_type": "code",
      "execution_count": 138,
      "metadata": {
        "id": "T54IWleIZoXc",
        "colab": {
          "base_uri": "https://localhost:8080/"
        },
        "outputId": "4536566a-ebc8-4789-d448-b50609e56c99"
      },
      "outputs": [
        {
          "output_type": "stream",
          "name": "stdout",
          "text": [
            "+--------+---------+-------------------+--------------+--------------------+---------------------+-------------------+------------------------+------------------+---------------------------+-----------------+------------------+--------------------+---------------+---------------------+----------------------+--------------------+-------------------------+-------------------+----------------------------+-----------------+------------------+--------------------+---------------+---------------------+----------------------+--------------------+-------------------------+-------------------+----------------------------+\n",
            "|m_radius|m_texture|('mean perimeter',)|('mean area',)|('mean smoothness',)|('mean compactness',)|('mean concavity',)|('mean concave points',)|('mean symmetry',)|('mean fractal dimension',)|('radius error',)|('texture error',)|('perimeter error',)|('area error',)|('smoothness error',)|('compactness error',)|('concavity error',)|('concave points error',)|('symmetry error',)|('fractal dimension error',)|('worst radius',)|('worst texture',)|('worst perimeter',)|('worst area',)|('worst smoothness',)|('worst compactness',)|('worst concavity',)|('worst concave points',)|('worst symmetry',)|('worst fractal dimension',)|\n",
            "+--------+---------+-------------------+--------------+--------------------+---------------------+-------------------+------------------------+------------------+---------------------------+-----------------+------------------+--------------------+---------------+---------------------+----------------------+--------------------+-------------------------+-------------------+----------------------------+-----------------+------------------+--------------------+---------------+---------------------+----------------------+--------------------+-------------------------+-------------------+----------------------------+\n",
            "|   20.57|    17.77|              132.9|        1326.0|             0.08474|              0.07864|             0.0869|                 0.07017|            0.1812|                    0.05667|           0.5435|            0.7339|               3.398|          74.08|             0.005225|               0.01308|              0.0186|                   0.0134|            0.01389|                    0.003532|            24.99|             23.41|               158.8|         1956.0|               0.1238|                0.1866|              0.2416|                    0.186|              0.275|                     0.08902|\n",
            "|   19.69|    21.25|              130.0|        1203.0|              0.1096|               0.1599|             0.1974|                  0.1279|            0.2069|                    0.05999|           0.7456|            0.7869|               4.585|          94.03|              0.00615|               0.04006|             0.03832|                  0.02058|             0.0225|                    0.004571|            23.57|             25.53|               152.5|         1709.0|               0.1444|                0.4245|              0.4504|                    0.243|             0.3613|                     0.08758|\n",
            "|   11.42|    20.38|              77.58|         386.1|              0.1425|               0.2839|             0.2414|                  0.1052|            0.2597|                    0.09744|           0.4956|             1.156|               3.445|          27.23|              0.00911|               0.07458|             0.05661|                  0.01867|            0.05963|                    0.009208|            14.91|              26.5|               98.87|          567.7|               0.2098|                0.8663|              0.6869|                   0.2575|             0.6638|                       0.173|\n",
            "|   18.25|    19.98|              119.6|        1040.0|             0.09463|                0.109|             0.1127|                   0.074|            0.1794|                    0.05742|           0.4467|            0.7732|                3.18|          53.91|             0.004314|               0.01382|             0.02254|                  0.01039|            0.01369|                    0.002179|            22.88|             27.66|               153.2|         1606.0|               0.1442|                0.2576|              0.3784|                   0.1932|             0.3063|                     0.08368|\n",
            "|   13.71|    20.83|               90.2|         577.9|              0.1189|               0.1645|            0.09366|                 0.05985|            0.2196|                    0.07451|           0.5835|             1.377|               3.856|          50.96|             0.008805|               0.03029|             0.02488|                  0.01448|            0.01486|                    0.005412|            17.06|             28.14|               110.6|          897.0|               0.1654|                0.3682|              0.2678|                   0.1556|             0.3196|                      0.1151|\n",
            "+--------+---------+-------------------+--------------+--------------------+---------------------+-------------------+------------------------+------------------+---------------------------+-----------------+------------------+--------------------+---------------+---------------------+----------------------+--------------------+-------------------------+-------------------+----------------------------+-----------------+------------------+--------------------+---------------+---------------------+----------------------+--------------------+-------------------------+-------------------+----------------------------+\n",
            "only showing top 5 rows\n",
            "\n"
          ]
        }
      ],
      "source": [
        "datacancer.printSchema()\n",
        "\n",
        "\n",
        "datacancer.schema.names\n",
        "datacancer.schema.names\n",
        "\n",
        "datacancer.describe().show()\n",
        "\n",
        "datacancer.show()\n",
        "print(( datacancer.count(),len(datacancer.columns )))\n",
        "\n",
        "datacancer1 = datacancer.withColumnRenamed(\"mean radius\", \"m_radius\") # not work!\n",
        "datacancer1.schema.names\n",
        "datacancer1 = datacancer.withColumnRenamed(\"('mean radius',)\", \"m_radius\")\n",
        "datacancer1.schema.names\n",
        "\n",
        "datacancer1 = datacancer1.withColumnRenamed(\"('mean texture',)\", \"m_texture\")\n",
        "datacancer1.schema.names\n",
        "\n",
        "\n",
        "df1=datacancer1.filter((datacancer1.m_radius > 10) & (datacancer1.m_texture >17))\n",
        "\n",
        "datacancer1.count()\n",
        "df1.count()\n",
        "datacancer1.show(5)\n",
        "df1.show(5)"
      ]
    },
    {
      "cell_type": "code",
      "source": [
        "from pyspark.sql import functions as F\n",
        "from pyspark.sql.types import *\n",
        "\n",
        "def func(numbers):\n",
        "    if numbers<15:\n",
        "      return 'benign'\n",
        "    else:\n",
        "     return 'Melignant'\n",
        "\n",
        "func(30)\n",
        "func_udf = F.udf(func, StringType())\n",
        "func_udf(func(30))\n",
        "\n",
        "\n",
        "\n",
        "datacancer_sel=datacancer1.select('m_radius', 'm_texture')\n",
        "datacancer_sel.show()\n",
        "\n",
        "\n",
        "newdatacancer=datacancer_sel.withColumn('cancer', func_udf(datacancer_sel['m_radius']))\n",
        "newdatacancer.show()"
      ],
      "metadata": {
        "id": "QFyVkDDrHKSK",
        "colab": {
          "base_uri": "https://localhost:8080/"
        },
        "outputId": "0f8e9e45-4cad-426b-83ff-d8b1731074d4"
      },
      "execution_count": 157,
      "outputs": [
        {
          "output_type": "stream",
          "name": "stdout",
          "text": [
            "+--------+---------+---------+\n",
            "|m_radius|m_texture|   cancer|\n",
            "+--------+---------+---------+\n",
            "|   17.99|    10.38|Melignant|\n",
            "|   20.57|    17.77|Melignant|\n",
            "|   19.69|    21.25|Melignant|\n",
            "|   11.42|    20.38|   benign|\n",
            "|   20.29|    14.34|Melignant|\n",
            "|   12.45|     15.7|   benign|\n",
            "|   18.25|    19.98|Melignant|\n",
            "|   13.71|    20.83|   benign|\n",
            "|    13.0|    21.82|   benign|\n",
            "|   12.46|    24.04|   benign|\n",
            "|   16.02|    23.24|Melignant|\n",
            "|   15.78|    17.89|Melignant|\n",
            "|   19.17|     24.8|Melignant|\n",
            "|   15.85|    23.95|Melignant|\n",
            "|   13.73|    22.61|   benign|\n",
            "|   14.54|    27.54|   benign|\n",
            "|   14.68|    20.13|   benign|\n",
            "|   16.13|    20.68|Melignant|\n",
            "|   19.81|    22.15|Melignant|\n",
            "|   13.54|    14.36|   benign|\n",
            "+--------+---------+---------+\n",
            "only showing top 20 rows\n",
            "\n"
          ]
        }
      ]
    },
    {
      "cell_type": "code",
      "execution_count": null,
      "metadata": {
        "id": "Q5dnvS6MnsUV"
      },
      "outputs": [],
      "source": []
    },
    {
      "cell_type": "code",
      "execution_count": 151,
      "metadata": {
        "id": "vytQUEysrcnb",
        "colab": {
          "base_uri": "https://localhost:8080/"
        },
        "outputId": "900c3e33-09d0-4cae-d479-d5a71b4e95cc"
      },
      "outputs": [
        {
          "output_type": "stream",
          "name": "stdout",
          "text": [
            "+---------+-----+\n",
            "|   cancer|count|\n",
            "+---------+-----+\n",
            "|   benign|  395|\n",
            "|Melignant|  174|\n",
            "+---------+-----+\n",
            "\n"
          ]
        }
      ],
      "source": [
        "newdatacancer.groupby('cancer').count().show()\n"
      ]
    },
    {
      "cell_type": "code",
      "execution_count": 159,
      "metadata": {
        "id": "A8ec98Dsqp3i",
        "colab": {
          "base_uri": "https://localhost:8080/"
        },
        "outputId": "4b4c2555-a1fd-43b5-de3c-53943fbb60b2"
      },
      "outputs": [
        {
          "output_type": "stream",
          "name": "stdout",
          "text": [
            "+---------+-------------------+\n",
            "|   cancer|variance(m_texture)|\n",
            "+---------+-------------------+\n",
            "|   benign| 16.179269823298846|\n",
            "|Melignant| 18.340778968174877|\n",
            "+---------+-------------------+\n",
            "\n"
          ]
        }
      ],
      "source": [
        "newdatacancer.groupby('cancer').agg({'m_radius' : 'mean'}).show()\n",
        "\n",
        "newdatacancer.groupby('cancer').agg({'m_texture' : 'mean'}).show()\n",
        "\n",
        "newdatacancer.groupby('cancer').agg({'m_texture' : 'variance'}).show()\n"
      ]
    },
    {
      "cell_type": "markdown",
      "source": [
        "Select the patients that their radius and texture are greater than the mean of all patients"
      ],
      "metadata": {
        "id": "K8pDxX5ejtsH"
      }
    },
    {
      "cell_type": "code",
      "source": [
        "datacancer_sel.show(3)\n",
        "data_colmean = datacancer_sel.withColumn('colmean',((datacancer_sel['m_radius'] +datacancer_sel['m_texture'])/2))\n",
        "data_colmean.show(10)\n",
        "\n",
        "mean_of_radius_and_texture=data_colmean.agg({'colmean':'mean'})\n",
        "mean_of_radius_and_texture.show()\n",
        "mean_of_radius_and_texture.columns\n",
        "mean_of_radius_and_texture.show()\n",
        "value_of_avg=mean_of_radius_and_texture.select('avg(colmean)').collect()[0][0]\n",
        "\n",
        "badcancer=data_colmean.filter(data_colmean.colmean>value_of_avg )\n",
        "\n",
        "badcancer.show(10)\n"
      ],
      "metadata": {
        "colab": {
          "base_uri": "https://localhost:8080/"
        },
        "id": "2zsCnC3ta6s-",
        "outputId": "0b02fe30-0f8a-425e-d697-4928a84db211"
      },
      "execution_count": 172,
      "outputs": [
        {
          "output_type": "stream",
          "name": "stdout",
          "text": [
            "+--------+---------+------------------+\n",
            "|m_radius|m_texture|           colmean|\n",
            "+--------+---------+------------------+\n",
            "|   17.99|    10.38|14.184999999999999|\n",
            "|   20.57|    17.77|             19.17|\n",
            "|   19.69|    21.25|             20.47|\n",
            "|   11.42|    20.38|15.899999999999999|\n",
            "|   20.29|    14.34|17.314999999999998|\n",
            "|   12.45|     15.7|            14.075|\n",
            "|   18.25|    19.98|19.115000000000002|\n",
            "|   13.71|    20.83|             17.27|\n",
            "|    13.0|    21.82|             17.41|\n",
            "|   12.46|    24.04|             18.25|\n",
            "+--------+---------+------------------+\n",
            "only showing top 10 rows\n",
            "\n"
          ]
        }
      ]
    },
    {
      "cell_type": "code",
      "execution_count": 180,
      "metadata": {
        "id": "V7gN1y7gsQ31",
        "colab": {
          "base_uri": "https://localhost:8080/",
          "height": 489
        },
        "outputId": "cb4f62dd-72e0-45cc-8f87-c013c904e433"
      },
      "outputs": [
        {
          "output_type": "execute_result",
          "data": {
            "text/plain": [
              "Text(0.5, 1.0, 'Number of rows per species')"
            ]
          },
          "metadata": {},
          "execution_count": 180
        },
        {
          "output_type": "display_data",
          "data": {
            "text/plain": [
              "<Figure size 640x480 with 1 Axes>"
            ],
            "image/png": "[encoded data removed]"
          },
          "metadata": {}
        }
      ],
      "source": [
        "newdatacancer.show()\n",
        "data = newdatacancer.groupby('cancer').count().toPandas()\n",
        "data\n",
        "\n",
        "\n",
        "import seaborn as sns\n",
        "import matplotlib.pyplot as plt\n",
        "sns.barplot( x = data['cancer'], y = data['count'])\n",
        "plt.xlabel('cancer')\n",
        "plt.ylabel('texture')\n",
        "plt.title('Number of rows per species')\n",
        "\n",
        "\n",
        "\n",
        "\n"
      ]
    },
    {
      "cell_type": "code",
      "execution_count": 181,
      "metadata": {
        "id": "Fp6RIiQayjQv",
        "colab": {
          "base_uri": "https://localhost:8080/",
          "height": 498
        },
        "outputId": "9ecf0c65-e5e8-4252-a597-90924b113670"
      },
      "outputs": [
        {
          "output_type": "execute_result",
          "data": {
            "text/plain": [
              "(array([ 19.,  79., 185., 129.,  55.,  50.,  38.,   7.,   4.,   3.]),\n",
              " array([ 6.981 ,  9.0939, 11.2068, 13.3197, 15.4326, 17.5455, 19.6584,\n",
              "        21.7713, 23.8842, 25.9971, 28.11  ]),\n",
              " <BarContainer object of 10 artists>)"
            ]
          },
          "metadata": {},
          "execution_count": 181
        },
        {
          "output_type": "display_data",
          "data": {
            "text/plain": [
              "<Figure size 640x480 with 1 Axes>"
            ],
            "image/png": "[encoded data removed]"
          },
          "metadata": {}
        }
      ],
      "source": [
        "data1 = newdatacancer.toPandas()\n",
        "\n",
        "data1.columns\n",
        "\n",
        "import matplotlib.pyplot as plt\n",
        "plt.hist(data1.m_radius)"
      ]
    }
  ],
  "metadata": {
    "colab": {
      "provenance": [],
      "authorship_tag": "ABX9TyOQ8k5lZbiJHl0C0uyA40Qz",
      "include_colab_link": true
    },
    "kernelspec": {
      "display_name": "Python 3",
      "name": "python3"
    },
    "language_info": {
      "name": "python"
    }
  },
  "nbformat": 4,
  "nbformat_minor": 0
}