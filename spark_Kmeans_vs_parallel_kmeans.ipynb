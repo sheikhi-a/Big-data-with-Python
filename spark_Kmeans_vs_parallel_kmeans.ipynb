{
  "cells": [
    {
      "cell_type": "markdown",
      "metadata": {
        "id": "view-in-github",
        "colab_type": "text"
      },
      "source": [
        "<a href=\"https://colab.research.google.com/github/sheikhi-a/Big-data-with-Python/blob/main/spark::Kmeans_vs_parallel_kmeans.ipynb\" target=\"_parent\"><img src=\"https://colab.research.google.com/assets/colab-badge.svg\" alt=\"Open In Colab\"/></a>"
      ]
    },
    {
      "cell_type": "markdown",
      "source": [
        "\n",
        "#Spark parallel kmeans\n",
        "\n",
        "By Ayyub Sheikhi, SBUK  (sheikhy.a@uk.ac.ir)"
      ],
      "metadata": {
        "id": "v4I4F5u6Jzqr"
      },
      "id": "v4I4F5u6Jzqr"
    },
    {
      "cell_type": "code",
      "source": [
        "\n",
        "!pip install pyspark\n",
        "!pip install -U -q PyDrive\n",
        "!apt install openjdk-8-jdk-headless -qq\n",
        "\n"
      ],
      "metadata": {
        "id": "xLL8w7FyceHl",
        "colab": {
          "base_uri": "https://localhost:8080/"
        },
        "outputId": "cf96cd54-74e2-4e7d-c5a1-4ea696398b53"
      },
      "id": "xLL8w7FyceHl",
      "execution_count": null,
      "outputs": [
        {
          "output_type": "stream",
          "name": "stdout",
          "text": [
            "Requirement already satisfied: pyspark in /usr/local/lib/python3.10/dist-packages (3.5.3)\n",
            "Requirement already satisfied: py4j==0.10.9.7 in /usr/local/lib/python3.10/dist-packages (from pyspark) (0.10.9.7)\n",
            "The following additional packages will be installed:\n",
            "  libxtst6 openjdk-8-jre-headless\n",
            "Suggested packages:\n",
            "  openjdk-8-demo openjdk-8-source libnss-mdns fonts-dejavu-extra fonts-nanum fonts-ipafont-gothic\n",
            "  fonts-ipafont-mincho fonts-wqy-microhei fonts-wqy-zenhei fonts-indic\n",
            "The following NEW packages will be installed:\n",
            "  libxtst6 openjdk-8-jdk-headless openjdk-8-jre-headless\n",
            "0 upgraded, 3 newly installed, 0 to remove and 49 not upgraded.\n",
            "Need to get 39.7 MB of archives.\n",
            "After this operation, 144 MB of additional disk space will be used.\n",
            "Selecting previously unselected package libxtst6:amd64.\n",
            "(Reading database ... 123634 files and directories currently installed.)\n",
            "Preparing to unpack .../libxtst6_2%3a1.2.3-1build4_amd64.deb ...\n",
            "Unpacking libxtst6:amd64 (2:1.2.3-1build4) ...\n",
            "Selecting previously unselected package openjdk-8-jre-headless:amd64.\n",
            "Preparing to unpack .../openjdk-8-jre-headless_8u432-ga~us1-0ubuntu2~22.04_amd64.deb ...\n",
            "Unpacking openjdk-8-jre-headless:amd64 (8u432-ga~us1-0ubuntu2~22.04) ...\n",
            "Selecting previously unselected package openjdk-8-jdk-headless:amd64.\n",
            "Preparing to unpack .../openjdk-8-jdk-headless_8u432-ga~us1-0ubuntu2~22.04_amd64.deb ...\n",
            "Unpacking openjdk-8-jdk-headless:amd64 (8u432-ga~us1-0ubuntu2~22.04) ...\n",
            "Setting up libxtst6:amd64 (2:1.2.3-1build4) ...\n",
            "Setting up openjdk-8-jre-headless:amd64 (8u432-ga~us1-0ubuntu2~22.04) ...\n",
            "update-alternatives: using /usr/lib/jvm/java-8-openjdk-amd64/jre/bin/orbd to provide /usr/bin/orbd (orbd) in auto mode\n",
            "update-alternatives: using /usr/lib/jvm/java-8-openjdk-amd64/jre/bin/servertool to provide /usr/bin/servertool (servertool) in auto mode\n",
            "update-alternatives: using /usr/lib/jvm/java-8-openjdk-amd64/jre/bin/tnameserv to provide /usr/bin/tnameserv (tnameserv) in auto mode\n",
            "Setting up openjdk-8-jdk-headless:amd64 (8u432-ga~us1-0ubuntu2~22.04) ...\n",
            "update-alternatives: using /usr/lib/jvm/java-8-openjdk-amd64/bin/clhsdb to provide /usr/bin/clhsdb (clhsdb) in auto mode\n",
            "update-alternatives: using /usr/lib/jvm/java-8-openjdk-amd64/bin/extcheck to provide /usr/bin/extcheck (extcheck) in auto mode\n",
            "update-alternatives: using /usr/lib/jvm/java-8-openjdk-amd64/bin/hsdb to provide /usr/bin/hsdb (hsdb) in auto mode\n",
            "update-alternatives: using /usr/lib/jvm/java-8-openjdk-amd64/bin/idlj to provide /usr/bin/idlj (idlj) in auto mode\n",
            "update-alternatives: using /usr/lib/jvm/java-8-openjdk-amd64/bin/javah to provide /usr/bin/javah (javah) in auto mode\n",
            "update-alternatives: using /usr/lib/jvm/java-8-openjdk-amd64/bin/jhat to provide /usr/bin/jhat (jhat) in auto mode\n",
            "update-alternatives: using /usr/lib/jvm/java-8-openjdk-amd64/bin/jsadebugd to provide /usr/bin/jsadebugd (jsadebugd) in auto mode\n",
            "update-alternatives: using /usr/lib/jvm/java-8-openjdk-amd64/bin/native2ascii to provide /usr/bin/native2ascii (native2ascii) in auto mode\n",
            "update-alternatives: using /usr/lib/jvm/java-8-openjdk-amd64/bin/schemagen to provide /usr/bin/schemagen (schemagen) in auto mode\n",
            "update-alternatives: using /usr/lib/jvm/java-8-openjdk-amd64/bin/wsgen to provide /usr/bin/wsgen (wsgen) in auto mode\n",
            "update-alternatives: using /usr/lib/jvm/java-8-openjdk-amd64/bin/wsimport to provide /usr/bin/wsimport (wsimport) in auto mode\n",
            "update-alternatives: using /usr/lib/jvm/java-8-openjdk-amd64/bin/xjc to provide /usr/bin/xjc (xjc) in auto mode\n",
            "Processing triggers for libc-bin (2.35-0ubuntu3.4) ...\n",
            "/sbin/ldconfig.real: /usr/local/lib/libtcm_debug.so.1 is not a symbolic link\n",
            "\n",
            "/sbin/ldconfig.real: /usr/local/lib/libur_loader.so.0 is not a symbolic link\n",
            "\n",
            "/sbin/ldconfig.real: /usr/local/lib/libhwloc.so.15 is not a symbolic link\n",
            "\n",
            "/sbin/ldconfig.real: /usr/local/lib/libumf.so.0 is not a symbolic link\n",
            "\n",
            "/sbin/ldconfig.real: /usr/local/lib/libtbbmalloc_proxy.so.2 is not a symbolic link\n",
            "\n",
            "/sbin/ldconfig.real: /usr/local/lib/libtbbbind_2_0.so.3 is not a symbolic link\n",
            "\n",
            "/sbin/ldconfig.real: /usr/local/lib/libtbbbind.so.3 is not a symbolic link\n",
            "\n",
            "/sbin/ldconfig.real: /usr/local/lib/libtbbmalloc.so.2 is not a symbolic link\n",
            "\n",
            "/sbin/ldconfig.real: /usr/local/lib/libtbb.so.12 is not a symbolic link\n",
            "\n",
            "/sbin/ldconfig.real: /usr/local/lib/libtbbbind_2_5.so.3 is not a symbolic link\n",
            "\n",
            "/sbin/ldconfig.real: /usr/local/lib/libtcm.so.1 is not a symbolic link\n",
            "\n",
            "/sbin/ldconfig.real: /usr/local/lib/libur_adapter_level_zero.so.0 is not a symbolic link\n",
            "\n",
            "/sbin/ldconfig.real: /usr/local/lib/libur_adapter_opencl.so.0 is not a symbolic link\n",
            "\n"
          ]
        }
      ]
    },
    {
      "cell_type": "code",
      "source": [
        "\n",
        "\n",
        "import pandas as pd\n",
        "import numpy as np\n",
        "import matplotlib.pyplot as plt\n",
        "%matplotlib inline\n",
        "\n",
        "import pyspark\n",
        "from pyspark.sql import *\n",
        "from pyspark.sql.types import *\n",
        "from pyspark.sql.functions import *\n",
        "from pyspark import SparkContext, SparkConf\n",
        "import os\n",
        "os.environ[\"JAVA_HOME\"] = \"/usr/lib/jvm/java-8-openjdk-amd64\"\n",
        "\n"
      ],
      "metadata": {
        "id": "tce26NuIc63Z"
      },
      "id": "tce26NuIc63Z",
      "execution_count": null,
      "outputs": []
    },
    {
      "cell_type": "code",
      "source": [
        "\n",
        "from pyspark.sql import SparkSession\n",
        "\n",
        "\n",
        "spark = SparkSession.builder \\\n",
        "    .master(\"local[1]\") \\\n",
        "    .appName(\"SparkByExamples.com\") \\\n",
        "    .getOrCreate()\n",
        "\n",
        "\n",
        "print(spark)\n",
        "spark\n"
      ],
      "metadata": {
        "id": "4Z6fequadg0G",
        "colab": {
          "base_uri": "https://localhost:8080/",
          "height": 233
        },
        "outputId": "10f79a7d-953e-4761-9907-8b6f54eac099"
      },
      "id": "4Z6fequadg0G",
      "execution_count": null,
      "outputs": [
        {
          "output_type": "stream",
          "name": "stdout",
          "text": [
            "<pyspark.sql.session.SparkSession object at 0x7dec068ae6b0>\n"
          ]
        },
        {
          "output_type": "execute_result",
          "data": {
            "text/plain": [
              "<pyspark.sql.session.SparkSession at 0x7dec068ae6b0>"
            ],
            "text/html": [
              "\n",
              "            <div>\n",
              "                <p><b>SparkSession - in-memory</b></p>\n",
              "                \n",
              "        <div>\n",
              "            <p><b>SparkContext</b></p>\n",
              "\n",
              "            <p><a href=\"http://730783c18adf:4040\">Spark UI</a></p>\n",
              "\n",
              "            <dl>\n",
              "              <dt>Version</dt>\n",
              "                <dd><code>v3.5.3</code></dd>\n",
              "              <dt>Master</dt>\n",
              "                <dd><code>local[1]</code></dd>\n",
              "              <dt>AppName</dt>\n",
              "                <dd><code>SparkByExamples.com</code></dd>\n",
              "            </dl>\n",
              "        </div>\n",
              "        \n",
              "            </div>\n",
              "        "
            ]
          },
          "metadata": {},
          "execution_count": 3
        }
      ]
    },
    {
      "cell_type": "code",
      "execution_count": null,
      "id": "a27b619f",
      "metadata": {
        "id": "a27b619f",
        "colab": {
          "base_uri": "https://localhost:8080/",
          "height": 216
        },
        "outputId": "b4d27ddd-13eb-41ab-fe41-813c753abff4"
      },
      "outputs": [
        {
          "output_type": "execute_result",
          "data": {
            "text/plain": [
              "<pyspark.sql.session.SparkSession at 0x7dec068ae6b0>"
            ],
            "text/html": [
              "\n",
              "            <div>\n",
              "                <p><b>SparkSession - in-memory</b></p>\n",
              "                \n",
              "        <div>\n",
              "            <p><b>SparkContext</b></p>\n",
              "\n",
              "            <p><a href=\"http://730783c18adf:4040\">Spark UI</a></p>\n",
              "\n",
              "            <dl>\n",
              "              <dt>Version</dt>\n",
              "                <dd><code>v3.5.3</code></dd>\n",
              "              <dt>Master</dt>\n",
              "                <dd><code>local[1]</code></dd>\n",
              "              <dt>AppName</dt>\n",
              "                <dd><code>SparkByExamples.com</code></dd>\n",
              "            </dl>\n",
              "        </div>\n",
              "        \n",
              "            </div>\n",
              "        "
            ]
          },
          "metadata": {},
          "execution_count": 4
        }
      ],
      "source": [
        "spark"
      ]
    },
    {
      "cell_type": "code",
      "execution_count": null,
      "id": "3bf3aae2",
      "metadata": {
        "id": "3bf3aae2",
        "colab": {
          "base_uri": "https://localhost:8080/",
          "height": 193
        },
        "outputId": "83d3396a-6f3f-48d0-c250-30f6746b990b"
      },
      "outputs": [
        {
          "output_type": "execute_result",
          "data": {
            "text/plain": [
              "<SparkContext master=local[1] appName=SparkByExamples.com>"
            ],
            "text/html": [
              "\n",
              "        <div>\n",
              "            <p><b>SparkContext</b></p>\n",
              "\n",
              "            <p><a href=\"http://730783c18adf:4040\">Spark UI</a></p>\n",
              "\n",
              "            <dl>\n",
              "              <dt>Version</dt>\n",
              "                <dd><code>v3.5.3</code></dd>\n",
              "              <dt>Master</dt>\n",
              "                <dd><code>local[1]</code></dd>\n",
              "              <dt>AppName</dt>\n",
              "                <dd><code>SparkByExamples.com</code></dd>\n",
              "            </dl>\n",
              "        </div>\n",
              "        "
            ]
          },
          "metadata": {},
          "execution_count": 5
        }
      ],
      "source": [
        "#SparkContext is created by default with the variable name sc\n",
        "sc = spark.sparkContext\n",
        "sc"
      ]
    },
    {
      "cell_type": "code",
      "execution_count": null,
      "id": "c336488e",
      "metadata": {
        "id": "c336488e"
      },
      "outputs": [],
      "source": [
        "from pyspark import SparkContext\n",
        "from pyspark.ml.clustering import KMeans\n",
        "from pyspark.ml.feature import VectorAssembler\n",
        "from pyspark.sql import SQLContext\n",
        "\n",
        "#print (pyspark.__version__)"
      ]
    },
    {
      "cell_type": "code",
      "execution_count": null,
      "id": "889b84d3",
      "metadata": {
        "id": "889b84d3"
      },
      "outputs": [],
      "source": [
        "#running spark default settings\n",
        "import numpy as np\n",
        "import pandas as pd\n",
        "import matplotlib.pyplot as plt\n",
        "from mpl_toolkits.mplot3d import Axes3D\n",
        "from sklearn.datasets import make_blobs\n",
        "\n",
        "%matplotlib inline"
      ]
    },
    {
      "cell_type": "code",
      "source": [
        "# Data Frame spark profiling\n",
        "from pyspark.sql.types import IntegerType, StringType, DoubleType, ShortType, DecimalType\n",
        "import pyspark.sql.functions as func\n",
        "from pyspark.sql.functions import isnull\n",
        "from pyspark.sql.functions import isnan, when, count, col, round\n",
        "from pyspark.sql.functions import mean\n",
        "from pyspark.sql.types import Row\n",
        "import matplotlib.pyplot as plt\n",
        "from pyspark.sql.functions import udf\n",
        "\n",
        "\n",
        "# Pandas DF operation\n",
        "import pandas as pd\n",
        "import numpy as np\n",
        "import matplotlib.pyplot as plt\n",
        "import seaborn as sns\n",
        "from numpy import array\n",
        "\n",
        "# Modeling + Evaluation\n",
        "from pyspark.ml.feature import VectorAssembler, VectorIndexer, OneHotEncoder, StringIndexer\n",
        "from pyspark.sql.functions import when\n",
        "from pyspark.sql import functions as F\n",
        "from pyspark.sql.functions import avg\n",
        "from pyspark.ml import Pipeline\n",
        "from pyspark.ml.clustering import KMeans\n",
        "from pyspark.ml.feature import StandardScaler\n",
        "from mpl_toolkits.mplot3d import Axes3D"
      ],
      "metadata": {
        "id": "hx3Y7rtHh4de"
      },
      "id": "hx3Y7rtHh4de",
      "execution_count": null,
      "outputs": []
    },
    {
      "cell_type": "code",
      "source": [
        "#Initializing File Type\n",
        "file_type = 'text'\n",
        "path=r'Mall_Customers.csv'\n",
        "delimeter=','\n",
        "def load_data(file_type):\n",
        "    \"\"\"input type of file \"text\" or \"parquet\" and Return pyspark dataframe\"\"\"\n",
        "    if file_type ==\"text\": # use text as file type input\n",
        "        df = spark.read.option(\"header\", \"true\") \\\n",
        "        .option(\"delimeter\",delimeter)\\\n",
        "        .option(\"inferSchema\", \"true\") \\\n",
        "        .csv(path)\n",
        "    else:\n",
        "        df= spark.read.parquet(\"example.parquet\") #path file that you want import\n",
        "    return df\n",
        "df = load_data(file_type)\n",
        "help(load_data)\n",
        "\n",
        "load_data(file_type)\n"
      ],
      "metadata": {
        "id": "v5ulbo1Lh4Xg",
        "colab": {
          "base_uri": "https://localhost:8080/"
        },
        "outputId": "b86f1e23-a549-4d91-a2a3-026d99576647"
      },
      "id": "v5ulbo1Lh4Xg",
      "execution_count": null,
      "outputs": [
        {
          "output_type": "stream",
          "name": "stdout",
          "text": [
            "Help on function load_data in module __main__:\n",
            "\n",
            "load_data(file_type)\n",
            "    input type of file \"text\" or \"parquet\" and Return pyspark dataframe\n",
            "\n"
          ]
        },
        {
          "output_type": "execute_result",
          "data": {
            "text/plain": [
              "DataFrame[CustomerID: int, Genre: string, Age: int, Annual Income (k$): int, Spending Score (1-100): int]"
            ]
          },
          "metadata": {},
          "execution_count": 10
        }
      ]
    },
    {
      "cell_type": "code",
      "source": [
        "#another way to read the but we dont run it\n",
        "df0=spark.read.csv('Mall_Customers.csv', header=True)\n"
      ],
      "metadata": {
        "id": "jG1bevgqh4Nk"
      },
      "id": "jG1bevgqh4Nk",
      "execution_count": null,
      "outputs": []
    },
    {
      "cell_type": "code",
      "source": [
        "type(df)\n",
        "pyspark.sql.dataframe.DataFrame\n",
        "#show 5 observation in DataFrame\n",
        "df.show(3)"
      ],
      "metadata": {
        "id": "JwenueWrh4B6"
      },
      "id": "JwenueWrh4B6",
      "execution_count": null,
      "outputs": []
    },
    {
      "cell_type": "code",
      "source": [],
      "metadata": {
        "id": "v5Yo_SdcyF35"
      },
      "id": "v5Yo_SdcyF35",
      "execution_count": null,
      "outputs": []
    },
    {
      "cell_type": "code",
      "source": [
        "df.printSchema()\n",
        "\n",
        "df=df.withColumnRenamed('CustomerID','Id')\n",
        "df=df.withColumnRenamed('Annual Income (k$)','AnnIncome')\n",
        "df=df.withColumnRenamed('Spending Score (1-100)','SpendScore')\n",
        "df=df.withColumnRenamed('Genre','Gender')\n",
        "\n",
        "len(df.columns), df.columns\n"
      ],
      "metadata": {
        "id": "94u0KF97ieT9",
        "colab": {
          "base_uri": "https://localhost:8080/"
        },
        "outputId": "531a6378-1c79-45d7-b63c-6acc90bd6e64"
      },
      "id": "94u0KF97ieT9",
      "execution_count": null,
      "outputs": [
        {
          "output_type": "stream",
          "name": "stdout",
          "text": [
            "root\n",
            " |-- CustomerID: integer (nullable = true)\n",
            " |-- Genre: string (nullable = true)\n",
            " |-- Age: integer (nullable = true)\n",
            " |-- Annual Income (k$): integer (nullable = true)\n",
            " |-- Spending Score (1-100): integer (nullable = true)\n",
            "\n"
          ]
        },
        {
          "output_type": "execute_result",
          "data": {
            "text/plain": [
              "(5, ['Id', 'Gender', 'Age', 'AnnIncome', 'SpendScore'])"
            ]
          },
          "metadata": {},
          "execution_count": 11
        }
      ]
    },
    {
      "cell_type": "markdown",
      "source": [],
      "metadata": {
        "id": "BRFhFWiC7O08"
      },
      "id": "BRFhFWiC7O08"
    },
    {
      "cell_type": "markdown",
      "source": [
        "\n",
        "3- Missing values detection"
      ],
      "metadata": {
        "id": "x5sqD2gE6fFr"
      },
      "id": "x5sqD2gE6fFr"
    },
    {
      "cell_type": "code",
      "source": [
        "df_pd=df.toPandas()\n",
        "mis_val = df_pd.isnull().sum()\n",
        "mis_valA = df_pd.AnnIncome.isnull().sum()\n",
        "\n",
        "df_Nomiss=df.na.drop()\n",
        "df_Nomiss.count()\n",
        "\n",
        "\n",
        "df_Nomiss.groupBy('Gender').count()\n",
        "\n",
        "df_Nomiss.groupBy('Gender').count().sort(col(\"count\").desc()).show()\n",
        "\n",
        "mode=df_Nomiss.groupBy('Gender').count().sort(col(\"count\").desc()).collect()[0][0]\n",
        "df.show()\n",
        "df = df.na.fill({'Gender':mode})\n",
        "\n",
        "df.describe().show()\n",
        "df.select(mean('AnnIncome')).show()\n",
        "meanvalue = df.select(mean('AnnIncome')).collect()[0][0]\n",
        "df = df.na.fill({'AnnIncome':meanvalue})\n",
        "\n",
        "meanvalue = df.select(mean('SpendScore')).collect()[0][0]\n",
        "df = df.na.fill({'SpendScore':meanvalue})\n",
        "df_pd2=df.toPandas()\n"
      ],
      "metadata": {
        "id": "lkzjocOvwKw5",
        "colab": {
          "base_uri": "https://localhost:8080/",
          "height": 419
        },
        "outputId": "8d799402-6e7b-49d0-93e3-b85e959598a6"
      },
      "id": "lkzjocOvwKw5",
      "execution_count": null,
      "outputs": [
        {
          "output_type": "execute_result",
          "data": {
            "text/plain": [
              "      Id  Gender  Age  AnnIncome  SpendScore\n",
              "0      1    Male   19         15          39\n",
              "1      2    Male   21         15          81\n",
              "2      3  Female   20         16           6\n",
              "3      4  Female   23         16          77\n",
              "4      5  Female   31         17          40\n",
              "..   ...     ...  ...        ...         ...\n",
              "195  196  Female   35        120          79\n",
              "196  197  Female   45        126          28\n",
              "197  198    Male   32        126          74\n",
              "198  199    Male   32        137          18\n",
              "199  200    Male   30        137          83\n",
              "\n",
              "[200 rows x 5 columns]"
            ],
            "text/html": [
              "\n",
              "  <div id=\"df-2646b0d7-b915-4ec7-96f9-5e25587604a0\" class=\"colab-df-container\">\n",
              "    <div>\n",
              "<style scoped>\n",
              "    .dataframe tbody tr th:only-of-type {\n",
              "        vertical-align: middle;\n",
              "    }\n",
              "\n",
              "    .dataframe tbody tr th {\n",
              "        vertical-align: top;\n",
              "    }\n",
              "\n",
              "    .dataframe thead th {\n",
              "        text-align: right;\n",
              "    }\n",
              "</style>\n",
              "<table border=\"1\" class=\"dataframe\">\n",
              "  <thead>\n",
              "    <tr style=\"text-align: right;\">\n",
              "      <th></th>\n",
              "      <th>Id</th>\n",
              "      <th>Gender</th>\n",
              "      <th>Age</th>\n",
              "      <th>AnnIncome</th>\n",
              "      <th>SpendScore</th>\n",
              "    </tr>\n",
              "  </thead>\n",
              "  <tbody>\n",
              "    <tr>\n",
              "      <th>0</th>\n",
              "      <td>1</td>\n",
              "      <td>Male</td>\n",
              "      <td>19</td>\n",
              "      <td>15</td>\n",
              "      <td>39</td>\n",
              "    </tr>\n",
              "    <tr>\n",
              "      <th>1</th>\n",
              "      <td>2</td>\n",
              "      <td>Male</td>\n",
              "      <td>21</td>\n",
              "      <td>15</td>\n",
              "      <td>81</td>\n",
              "    </tr>\n",
              "    <tr>\n",
              "      <th>2</th>\n",
              "      <td>3</td>\n",
              "      <td>Female</td>\n",
              "      <td>20</td>\n",
              "      <td>16</td>\n",
              "      <td>6</td>\n",
              "    </tr>\n",
              "    <tr>\n",
              "      <th>3</th>\n",
              "      <td>4</td>\n",
              "      <td>Female</td>\n",
              "      <td>23</td>\n",
              "      <td>16</td>\n",
              "      <td>77</td>\n",
              "    </tr>\n",
              "    <tr>\n",
              "      <th>4</th>\n",
              "      <td>5</td>\n",
              "      <td>Female</td>\n",
              "      <td>31</td>\n",
              "      <td>17</td>\n",
              "      <td>40</td>\n",
              "    </tr>\n",
              "    <tr>\n",
              "      <th>...</th>\n",
              "      <td>...</td>\n",
              "      <td>...</td>\n",
              "      <td>...</td>\n",
              "      <td>...</td>\n",
              "      <td>...</td>\n",
              "    </tr>\n",
              "    <tr>\n",
              "      <th>195</th>\n",
              "      <td>196</td>\n",
              "      <td>Female</td>\n",
              "      <td>35</td>\n",
              "      <td>120</td>\n",
              "      <td>79</td>\n",
              "    </tr>\n",
              "    <tr>\n",
              "      <th>196</th>\n",
              "      <td>197</td>\n",
              "      <td>Female</td>\n",
              "      <td>45</td>\n",
              "      <td>126</td>\n",
              "      <td>28</td>\n",
              "    </tr>\n",
              "    <tr>\n",
              "      <th>197</th>\n",
              "      <td>198</td>\n",
              "      <td>Male</td>\n",
              "      <td>32</td>\n",
              "      <td>126</td>\n",
              "      <td>74</td>\n",
              "    </tr>\n",
              "    <tr>\n",
              "      <th>198</th>\n",
              "      <td>199</td>\n",
              "      <td>Male</td>\n",
              "      <td>32</td>\n",
              "      <td>137</td>\n",
              "      <td>18</td>\n",
              "    </tr>\n",
              "    <tr>\n",
              "      <th>199</th>\n",
              "      <td>200</td>\n",
              "      <td>Male</td>\n",
              "      <td>30</td>\n",
              "      <td>137</td>\n",
              "      <td>83</td>\n",
              "    </tr>\n",
              "  </tbody>\n",
              "</table>\n",
              "<p>200 rows × 5 columns</p>\n",
              "</div>\n",
              "    <div class=\"colab-df-buttons\">\n",
              "\n",
              "  <div class=\"colab-df-container\">\n",
              "    <button class=\"colab-df-convert\" onclick=\"convertToInteractive('df-2646b0d7-b915-4ec7-96f9-5e25587604a0')\"\n",
              "            title=\"Convert this dataframe to an interactive table.\"\n",
              "            style=\"display:none;\">\n",
              "\n",
              "  <svg xmlns=\"http://www.w3.org/2000/svg\" height=\"24px\" viewBox=\"0 -960 960 960\">\n",
              "    <path d=\"M120-120v-720h720v720H120Zm60-500h600v-160H180v160Zm220 220h160v-160H400v160Zm0 220h160v-160H400v160ZM180-400h160v-160H180v160Zm440 0h160v-160H620v160ZM180-180h160v-160H180v160Zm440 0h160v-160H620v160Z\"/>\n",
              "  </svg>\n",
              "    </button>\n",
              "\n",
              "  <style>\n",
              "    .colab-df-container {\n",
              "      display:flex;\n",
              "      gap: 12px;\n",
              "    }\n",
              "\n",
              "    .colab-df-convert {\n",
              "      background-color: #E8F0FE;\n",
              "      border: none;\n",
              "      border-radius: 50%;\n",
              "      cursor: pointer;\n",
              "      display: none;\n",
              "      fill: #1967D2;\n",
              "      height: 32px;\n",
              "      padding: 0 0 0 0;\n",
              "      width: 32px;\n",
              "    }\n",
              "\n",
              "    .colab-df-convert:hover {\n",
              "      background-color: #E2EBFA;\n",
              "      box-shadow: 0px 1px 2px rgba(60, 64, 67, 0.3), 0px 1px 3px 1px rgba(60, 64, 67, 0.15);\n",
              "      fill: #174EA6;\n",
              "    }\n",
              "\n",
              "    .colab-df-buttons div {\n",
              "      margin-bottom: 4px;\n",
              "    }\n",
              "\n",
              "    [theme=dark] .colab-df-convert {\n",
              "      background-color: #3B4455;\n",
              "      fill: #D2E3FC;\n",
              "    }\n",
              "\n",
              "    [theme=dark] .colab-df-convert:hover {\n",
              "      background-color: #434B5C;\n",
              "      box-shadow: 0px 1px 3px 1px rgba(0, 0, 0, 0.15);\n",
              "      filter: drop-shadow(0px 1px 2px rgba(0, 0, 0, 0.3));\n",
              "      fill: #FFFFFF;\n",
              "    }\n",
              "  </style>\n",
              "\n",
              "    <script>\n",
              "      const buttonEl =\n",
              "        document.querySelector('#df-2646b0d7-b915-4ec7-96f9-5e25587604a0 button.colab-df-convert');\n",
              "      buttonEl.style.display =\n",
              "        google.colab.kernel.accessAllowed ? 'block' : 'none';\n",
              "\n",
              "      async function convertToInteractive(key) {\n",
              "        const element = document.querySelector('#df-2646b0d7-b915-4ec7-96f9-5e25587604a0');\n",
              "        const dataTable =\n",
              "          await google.colab.kernel.invokeFunction('convertToInteractive',\n",
              "                                                    [key], {});\n",
              "        if (!dataTable) return;\n",
              "\n",
              "        const docLinkHtml = 'Like what you see? Visit the ' +\n",
              "          '<a target=\"_blank\" href=https://colab.research.google.com/notebooks/data_table.ipynb>data table notebook</a>'\n",
              "          + ' to learn more about interactive tables.';\n",
              "        element.innerHTML = '';\n",
              "        dataTable['output_type'] = 'display_data';\n",
              "        await google.colab.output.renderOutput(dataTable, element);\n",
              "        const docLink = document.createElement('div');\n",
              "        docLink.innerHTML = docLinkHtml;\n",
              "        element.appendChild(docLink);\n",
              "      }\n",
              "    </script>\n",
              "  </div>\n",
              "\n",
              "\n",
              "<div id=\"df-61c8068b-1cd3-4b7d-9c3b-15a0f16d1cda\">\n",
              "  <button class=\"colab-df-quickchart\" onclick=\"quickchart('df-61c8068b-1cd3-4b7d-9c3b-15a0f16d1cda')\"\n",
              "            title=\"Suggest charts\"\n",
              "            style=\"display:none;\">\n",
              "\n",
              "<svg xmlns=\"http://www.w3.org/2000/svg\" height=\"24px\"viewBox=\"0 0 24 24\"\n",
              "     width=\"24px\">\n",
              "    <g>\n",
              "        <path d=\"M19 3H5c-1.1 0-2 .9-2 2v14c0 1.1.9 2 2 2h14c1.1 0 2-.9 2-2V5c0-1.1-.9-2-2-2zM9 17H7v-7h2v7zm4 0h-2V7h2v10zm4 0h-2v-4h2v4z\"/>\n",
              "    </g>\n",
              "</svg>\n",
              "  </button>\n",
              "\n",
              "<style>\n",
              "  .colab-df-quickchart {\n",
              "      --bg-color: #E8F0FE;\n",
              "      --fill-color: #1967D2;\n",
              "      --hover-bg-color: #E2EBFA;\n",
              "      --hover-fill-color: #174EA6;\n",
              "      --disabled-fill-color: #AAA;\n",
              "      --disabled-bg-color: #DDD;\n",
              "  }\n",
              "\n",
              "  [theme=dark] .colab-df-quickchart {\n",
              "      --bg-color: #3B4455;\n",
              "      --fill-color: #D2E3FC;\n",
              "      --hover-bg-color: #434B5C;\n",
              "      --hover-fill-color: #FFFFFF;\n",
              "      --disabled-bg-color: #3B4455;\n",
              "      --disabled-fill-color: #666;\n",
              "  }\n",
              "\n",
              "  .colab-df-quickchart {\n",
              "    background-color: var(--bg-color);\n",
              "    border: none;\n",
              "    border-radius: 50%;\n",
              "    cursor: pointer;\n",
              "    display: none;\n",
              "    fill: var(--fill-color);\n",
              "    height: 32px;\n",
              "    padding: 0;\n",
              "    width: 32px;\n",
              "  }\n",
              "\n",
              "  .colab-df-quickchart:hover {\n",
              "    background-color: var(--hover-bg-color);\n",
              "    box-shadow: 0 1px 2px rgba(60, 64, 67, 0.3), 0 1px 3px 1px rgba(60, 64, 67, 0.15);\n",
              "    fill: var(--button-hover-fill-color);\n",
              "  }\n",
              "\n",
              "  .colab-df-quickchart-complete:disabled,\n",
              "  .colab-df-quickchart-complete:disabled:hover {\n",
              "    background-color: var(--disabled-bg-color);\n",
              "    fill: var(--disabled-fill-color);\n",
              "    box-shadow: none;\n",
              "  }\n",
              "\n",
              "  .colab-df-spinner {\n",
              "    border: 2px solid var(--fill-color);\n",
              "    border-color: transparent;\n",
              "    border-bottom-color: var(--fill-color);\n",
              "    animation:\n",
              "      spin 1s steps(1) infinite;\n",
              "  }\n",
              "\n",
              "  @keyframes spin {\n",
              "    0% {\n",
              "      border-color: transparent;\n",
              "      border-bottom-color: var(--fill-color);\n",
              "      border-left-color: var(--fill-color);\n",
              "    }\n",
              "    20% {\n",
              "      border-color: transparent;\n",
              "      border-left-color: var(--fill-color);\n",
              "      border-top-color: var(--fill-color);\n",
              "    }\n",
              "    30% {\n",
              "      border-color: transparent;\n",
              "      border-left-color: var(--fill-color);\n",
              "      border-top-color: var(--fill-color);\n",
              "      border-right-color: var(--fill-color);\n",
              "    }\n",
              "    40% {\n",
              "      border-color: transparent;\n",
              "      border-right-color: var(--fill-color);\n",
              "      border-top-color: var(--fill-color);\n",
              "    }\n",
              "    60% {\n",
              "      border-color: transparent;\n",
              "      border-right-color: var(--fill-color);\n",
              "    }\n",
              "    80% {\n",
              "      border-color: transparent;\n",
              "      border-right-color: var(--fill-color);\n",
              "      border-bottom-color: var(--fill-color);\n",
              "    }\n",
              "    90% {\n",
              "      border-color: transparent;\n",
              "      border-bottom-color: var(--fill-color);\n",
              "    }\n",
              "  }\n",
              "</style>\n",
              "\n",
              "  <script>\n",
              "    async function quickchart(key) {\n",
              "      const quickchartButtonEl =\n",
              "        document.querySelector('#' + key + ' button');\n",
              "      quickchartButtonEl.disabled = true;  // To prevent multiple clicks.\n",
              "      quickchartButtonEl.classList.add('colab-df-spinner');\n",
              "      try {\n",
              "        const charts = await google.colab.kernel.invokeFunction(\n",
              "            'suggestCharts', [key], {});\n",
              "      } catch (error) {\n",
              "        console.error('Error during call to suggestCharts:', error);\n",
              "      }\n",
              "      quickchartButtonEl.classList.remove('colab-df-spinner');\n",
              "      quickchartButtonEl.classList.add('colab-df-quickchart-complete');\n",
              "    }\n",
              "    (() => {\n",
              "      let quickchartButtonEl =\n",
              "        document.querySelector('#df-61c8068b-1cd3-4b7d-9c3b-15a0f16d1cda button');\n",
              "      quickchartButtonEl.style.display =\n",
              "        google.colab.kernel.accessAllowed ? 'block' : 'none';\n",
              "    })();\n",
              "  </script>\n",
              "</div>\n",
              "    </div>\n",
              "  </div>\n"
            ],
            "application/vnd.google.colaboratory.intrinsic+json": {
              "type": "dataframe",
              "variable_name": "df_pd2",
              "summary": "{\n  \"name\": \"df_pd2\",\n  \"rows\": 200,\n  \"fields\": [\n    {\n      \"column\": \"Id\",\n      \"properties\": {\n        \"dtype\": \"int32\",\n        \"num_unique_values\": 200,\n        \"samples\": [\n          96,\n          16,\n          31\n        ],\n        \"semantic_type\": \"\",\n        \"description\": \"\"\n      }\n    },\n    {\n      \"column\": \"Gender\",\n      \"properties\": {\n        \"dtype\": \"category\",\n        \"num_unique_values\": 2,\n        \"samples\": [\n          \"Female\",\n          \"Male\"\n        ],\n        \"semantic_type\": \"\",\n        \"description\": \"\"\n      }\n    },\n    {\n      \"column\": \"Age\",\n      \"properties\": {\n        \"dtype\": \"int32\",\n        \"num_unique_values\": 51,\n        \"samples\": [\n          55,\n          26\n        ],\n        \"semantic_type\": \"\",\n        \"description\": \"\"\n      }\n    },\n    {\n      \"column\": \"AnnIncome\",\n      \"properties\": {\n        \"dtype\": \"int32\",\n        \"num_unique_values\": 64,\n        \"samples\": [\n          87,\n          101\n        ],\n        \"semantic_type\": \"\",\n        \"description\": \"\"\n      }\n    },\n    {\n      \"column\": \"SpendScore\",\n      \"properties\": {\n        \"dtype\": \"int32\",\n        \"num_unique_values\": 82,\n        \"samples\": [\n          47,\n          39\n        ],\n        \"semantic_type\": \"\",\n        \"description\": \"\"\n      }\n    }\n  ]\n}"
            }
          },
          "metadata": {},
          "execution_count": 14
        }
      ]
    },
    {
      "cell_type": "markdown",
      "source": [
        "Graphical representation for another preprocessing"
      ],
      "metadata": {
        "id": "moPPSmXg6m2i"
      },
      "id": "moPPSmXg6m2i"
    },
    {
      "cell_type": "code",
      "source": [
        "#Checking outliers\n",
        "\n",
        "sns.boxplot(y=\"Age\",data=df_pd2)\n",
        "plt.show()\n",
        "\n",
        "\n",
        "sns.boxplot(y=\"AnnIncome\",data=df_pd2)\n",
        "plt.show()"
      ],
      "metadata": {
        "id": "KNLmE-nZLeLg"
      },
      "id": "KNLmE-nZLeLg",
      "execution_count": null,
      "outputs": []
    },
    {
      "cell_type": "markdown",
      "source": [
        "\n",
        "# Handle of outliers\n",
        "\n"
      ],
      "metadata": {
        "id": "RsDXwgXT3RPU"
      },
      "id": "RsDXwgXT3RPU"
    },
    {
      "cell_type": "code",
      "source": [
        "from pyspark.sql.functions import col, expr, percentile_approx\n",
        "\n",
        "\n",
        "percentiles = df.select(\n",
        "    percentile_approx(\"AnnIncome\", 0.25).alias(\"Q1\"),\n",
        "    percentile_approx(\"AnnIncome\", 0.75).alias(\"Q3\")\n",
        ").collect()\n",
        "\n",
        "Q1 = percentiles[0][\"Q1\"]\n",
        "Q3 = percentiles[0][\"Q3\"]\n",
        "IQR = Q3 - Q1\n",
        "\n",
        "lower_bound = Q1 - 1.5 * IQR\n",
        "upper_bound = Q3 + 1.5 * IQR\n",
        "\n",
        "outliers = df.filter((col(\"AnnIncome\") < lower_bound) | (col(\"AnnIncome\") > upper_bound))\n",
        "\n",
        "# Show results\n",
        "outliers.show()\n",
        "df_no_out= df.filter((col(\"AnnIncome\") >lower_bound) & (col(\"AnnIncome\") < upper_bound))\n",
        "df_no_out.count()\n",
        "\n",
        "\n",
        "\n",
        "\n",
        "df_no_out.describe().show()\n",
        "\n",
        "\n"
      ],
      "metadata": {
        "id": "aEkXCEhq3TRF",
        "colab": {
          "base_uri": "https://localhost:8080/"
        },
        "outputId": "01b94621-0331-4c99-bf89-4dce77f2f3ea"
      },
      "id": "aEkXCEhq3TRF",
      "execution_count": null,
      "outputs": [
        {
          "output_type": "execute_result",
          "data": {
            "text/plain": [
              "Column<'percentile_approx(AnnIncome, 0.75, 10000) AS Q3'>"
            ]
          },
          "metadata": {},
          "execution_count": 16
        }
      ]
    },
    {
      "cell_type": "markdown",
      "source": [
        "# Perform K-means clustering"
      ],
      "metadata": {
        "id": "BnCvH2py9Suo"
      },
      "id": "BnCvH2py9Suo"
    },
    {
      "cell_type": "code",
      "source": [
        "from pyspark.ml.clustering import KMeans\n",
        "from pyspark.ml.feature import VectorAssembler\n",
        "\n",
        "assembler = VectorAssembler(inputCols=[\"Age\", \"AnnIncome\"], outputCol=\"features\")\n",
        "feature_df = assembler.transform(df_no_out)\n",
        "feature_df.show()\n",
        "\n",
        "kmeans = KMeans(k=2, seed=1)  # Assume  k=2\n",
        "model = kmeans.fit(feature_df)\n",
        "\n",
        "predictions = model.transform(feature_df)\n",
        "predictions.show()\n",
        "\n",
        "predictions.select(\"Id\", \"features\", \"prediction\").show()\n",
        "model.clusterCenters()\n",
        "model.\n",
        "model.getMaxIter()\n",
        "model.params\n",
        "model.summary\n",
        "model.explainParams()\n",
        "model.distanceMeasure\n",
        "\n",
        "\n",
        "print(\"Cluster Centers:\\n \", model.clusterCenters())\n",
        "\n",
        "\n",
        "\n",
        "\n"
      ],
      "metadata": {
        "id": "NlAu26sX8dk_",
        "colab": {
          "base_uri": "https://localhost:8080/"
        },
        "outputId": "6dfc629b-0a75-4ae9-e1fe-eee48e32aaf9"
      },
      "id": "NlAu26sX8dk_",
      "execution_count": null,
      "outputs": [
        {
          "output_type": "stream",
          "name": "stdout",
          "text": [
            "+---+------+---+---------+----------+-----------+\n",
            "| Id|Gender|Age|AnnIncome|SpendScore|   features|\n",
            "+---+------+---+---------+----------+-----------+\n",
            "|  1|  Male| 19|       15|        39|[19.0,15.0]|\n",
            "|  2|  Male| 21|       15|        81|[21.0,15.0]|\n",
            "|  3|Female| 20|       16|         6|[20.0,16.0]|\n",
            "|  4|Female| 23|       16|        77|[23.0,16.0]|\n",
            "|  5|Female| 31|       17|        40|[31.0,17.0]|\n",
            "|  6|Female| 22|       17|        76|[22.0,17.0]|\n",
            "|  7|Female| 35|       18|         6|[35.0,18.0]|\n",
            "|  8|Female| 23|       60|        94|[23.0,60.0]|\n",
            "|  9|  Male| 64|       19|        50|[64.0,19.0]|\n",
            "| 10|Female| 30|       19|        72|[30.0,19.0]|\n",
            "| 11|  Male| 67|       19|        14|[67.0,19.0]|\n",
            "| 12|Female| 35|       19|        99|[35.0,19.0]|\n",
            "| 13|Female| 58|       20|        50|[58.0,20.0]|\n",
            "| 14|Female| 24|       20|        77|[24.0,20.0]|\n",
            "| 15|  Male| 37|       20|        13|[37.0,20.0]|\n",
            "| 16|  Male| 22|       20|        50|[22.0,20.0]|\n",
            "| 17|Female| 35|       21|        35|[35.0,21.0]|\n",
            "| 18|  Male| 20|       21|        66|[20.0,21.0]|\n",
            "| 19|  Male| 52|       23|        29|[52.0,23.0]|\n",
            "| 20|Female| 35|       23|        98|[35.0,23.0]|\n",
            "+---+------+---+---------+----------+-----------+\n",
            "only showing top 20 rows\n",
            "\n"
          ]
        }
      ]
    },
    {
      "cell_type": "code",
      "source": [
        "\n",
        "pandas_df = predictions.select(\"Age\", \"AnnIncome\", \"prediction\").toPandas()\n",
        "\n",
        "centers = model.clusterCenters()\n",
        "\n",
        "centers_df = pd.DataFrame(centers, columns=[\"Age\", \"AnnIncome\"])\n",
        "centers_df.head()\n",
        "\n",
        "plt.figure(figsize=(8, 6))\n",
        "for cluster_id in pandas_df[\"prediction\"].unique():\n",
        "    cluster_data = pandas_df[pandas_df[\"prediction\"] == cluster_id]\n",
        "    plt.scatter(cluster_data[\"Age\"], cluster_data[\"AnnIncome\"], label=f\"Cluster {cluster_id}\")\n",
        "plt.scatter(centers_df[\"Age\"], centers_df[\"AnnIncome\"], color='red', marker='x', s=200, label=\"Centroids\")\n",
        "\n",
        "plt.title(\"K-Means Clustering\")\n",
        "plt.xlabel(\"Age\")\n",
        "plt.ylabel(\"AnnIncome\")\n",
        "plt.legend()\n",
        "plt.show()\n"
      ],
      "metadata": {
        "id": "BSircYIG-pQ0",
        "colab": {
          "base_uri": "https://localhost:8080/",
          "height": 503
        },
        "outputId": "016f89a2-c26b-4121-a908-53b388386e80"
      },
      "id": "BSircYIG-pQ0",
      "execution_count": null,
      "outputs": [
        {
          "output_type": "execute_result",
          "data": {
            "text/plain": [
              "<matplotlib.collections.PathCollection at 0x7debf7e13a60>"
            ]
          },
          "metadata": {},
          "execution_count": 30
        },
        {
          "output_type": "display_data",
          "data": {
            "text/plain": [
              "<Figure size 800x600 with 1 Axes>"
            ],
            "image/png": "[encoded data removed]"
          },
          "metadata": {}
        }
      ]
    },
    {
      "cell_type": "code",
      "source": [
        "assembler = VectorAssembler(inputCols=[\"Age\", \"AnnIncome\", 'SpendScore'], outputCol=\"features\")\n",
        "feature_df = assembler.transform(df_no_out)\n",
        "feature_df.show()\n",
        "\n",
        "kmeans = KMeans(k=2, seed=1)  # Assume the number of clusters (k=2)\n",
        "model = kmeans.fit(feature_df)\n",
        "\n",
        "predictions = model.transform(feature_df)\n",
        "predictions.show()\n",
        "\n",
        "predictions.select(\"Id\", \"features\", \"prediction\").show()\n",
        "model.clusterCenters()\n",
        "\n",
        "\n",
        "print(\"Cluster Centers:\\n \", model.clusterCenters())\n",
        "\n"
      ],
      "metadata": {
        "colab": {
          "base_uri": "https://localhost:8080/"
        },
        "id": "l-9ivSmk9wJI",
        "outputId": "9ba2f22a-8d80-48f0-f8e9-cbc5db15810c"
      },
      "id": "l-9ivSmk9wJI",
      "execution_count": null,
      "outputs": [
        {
          "output_type": "stream",
          "name": "stdout",
          "text": [
            "Cluster Centers:\n",
            "  [array([37.31531532, 77.86486486, 50.63963964]), array([40.98850575, 37.10344828, 50.14942529])]\n"
          ]
        }
      ]
    },
    {
      "cell_type": "code",
      "source": [],
      "metadata": {
        "id": "d1nIeRE3-lqE"
      },
      "id": "d1nIeRE3-lqE",
      "execution_count": null,
      "outputs": []
    },
    {
      "cell_type": "markdown",
      "source": [
        "We would like to compared to the speed of the traditional  Kmeans against the pyspark Kmeans\n",
        "\n",
        "Following codes change the number of rules and number of attributes according to:\n",
        "\n",
        "1000, 10\n",
        "\n",
        "10000, 10\n",
        "\n",
        "100000, 10\n",
        "\n",
        "1000000, 10\n",
        "\n",
        "100000, 100"
      ],
      "metadata": {
        "id": "Q8kYbLv64E6U"
      },
      "id": "Q8kYbLv64E6U"
    },
    {
      "cell_type": "code",
      "source": [
        "from pyspark.sql import SparkSession\n",
        "from pyspark.ml.feature import VectorAssembler\n",
        "from pyspark.ml.clustering import KMeans\n",
        "import time\n",
        "import numpy as np\n",
        "import pandas as pd\n",
        "import matplotlib.pyplot as plt\n",
        "\n",
        "# Step 1: Initialize SparkSession\n",
        "spark = SparkSession.builder.appName(\"KMeansBenchmark\").getOrCreate()\n",
        "\n",
        "# Step 2: Generate a larger synthetic dataset\n",
        "num_rows = 100000  # 1 million rows for a large dataset\n",
        "num_features = 100   # 10 features\n",
        "data = [(i, *[float(x) for x in np.random.rand(num_features)]) for i in range(num_rows)]\n",
        "columns = [\"id\"] + [f\"feature_{i}\" for i in range(1, num_features + 1)]\n",
        "\n",
        "df = spark.createDataFrame(data, columns)\n",
        "df.show()\n",
        "\n",
        "# Step 3: Assemble features for clustering\n",
        "assembler = VectorAssembler(inputCols=columns[1:], outputCol=\"features\")\n",
        "feature_df = assembler.transform(df).select(\"features\")\n",
        "feature_df.show()\n",
        "\n",
        "# Step 4: Run PySpark Parallel K-Means\n",
        "start_time = time.time()\n",
        "\n",
        "kmeans = KMeans(k=5, seed=42)  # Using 5 clusters\n",
        "model = kmeans.fit(feature_df)\n",
        "\n",
        "end_time = time.time()\n",
        "pyspark_time = end_time - start_time\n",
        "print(f\"PySpark Parallel K-Means Time: {pyspark_time:.2f} seconds\")\n",
        "\n",
        "# Step 5: Convert to Pandas for Traditional K-Means\n",
        "pandas_df = feature_df.limit(num_rows).select(\"features\").rdd.map(lambda x: x[0].toArray()).collect()\n",
        "pandas_data = np.array(pandas_df)  # Convert to NumPy array for efficient computation\n",
        "\n",
        "# Step 6: Traditional K-Means Implementation\n",
        "def traditional_kmeans(data, k, max_iter=100, tol=1e-4):\n",
        "    \"\"\"\n",
        "    Basic implementation of the K-Means algorithm.\n",
        "    :param data: np.array of shape (n_samples, n_features)\n",
        "    :param k: Number of clusters\n",
        "    :param max_iter: Maximum number of iterations\n",
        "    :param tol: Convergence tolerance for centroid changes\n",
        "    :return: Cluster labels and final centroids\n",
        "    \"\"\"\n",
        "    n_samples, n_features = data.shape\n",
        "    # Randomly initialize centroids\n",
        "    np.random.seed(42)\n",
        "    centroids = data[np.random.choice(n_samples, k, replace=False)]\n",
        "\n",
        "    for i in range(max_iter):\n",
        "        # Assign each point to the nearest centroid\n",
        "        distances = np.linalg.norm(data[:, np.newaxis] - centroids, axis=2)\n",
        "        labels = np.argmin(distances, axis=1)\n",
        "\n",
        "        # Compute new centroids\n",
        "        new_centroids = np.array([data[labels == j].mean(axis=0) for j in range(k)])\n",
        "\n",
        "        # Check for convergence\n",
        "        if np.all(np.linalg.norm(new_centroids - centroids, axis=1) < tol):\n",
        "            break\n",
        "        centroids = new_centroids\n",
        "\n",
        "    return labels, centroids\n",
        "\n",
        "start_time = time.time()\n",
        "\n",
        "labels, centroids = traditional_kmeans(pandas_data, k=5)\n",
        "\n",
        "end_time = time.time()\n",
        "traditional_time = end_time - start_time\n",
        "print(f\"Traditional K-Means Time: {traditional_time:.2f} seconds\")\n",
        "\n",
        "# Step 7: Compare Results and Calculate Speedup\n",
        "speedup = traditional_time / pyspark_time\n",
        "print(f\"Speedup: {speedup:.2f}x\")\n",
        "\n",
        "# Step 8: Plot Results\n",
        "methods = [\"Traditional K-Means \", \"PySpark K-Means \"]\n",
        "times = [traditional_time, pyspark_time]\n",
        "\n",
        "plt.figure(figsize=(8, 6))\n",
        "plt.bar(methods, times, color=['blue', 'orange'])\n",
        "plt.title(\"Execution Time Comparison: Traditional vs. Parallel K-Means\")\n",
        "plt.ylabel(\"Time (seconds)\")\n",
        "plt.show()\n"
      ],
      "metadata": {
        "colab": {
          "base_uri": "https://localhost:8080/",
          "height": 1000
        },
        "id": "KjBPboG80Hk_",
        "outputId": "24759171-e6f7-4dc1-f297-162946d460ca"
      },
      "id": "KjBPboG80Hk_",
      "execution_count": null,
      "outputs": [
        {
          "output_type": "stream",
          "name": "stdout",
          "text": [
            "+---+--------------------+--------------------+-------------------+--------------------+--------------------+-------------------+--------------------+-------------------+-------------------+-------------------+-------------------+-------------------+-------------------+-------------------+-------------------+-------------------+-------------------+-------------------+-------------------+-------------------+--------------------+--------------------+-------------------+--------------------+--------------------+-------------------+--------------------+--------------------+-------------------+--------------------+--------------------+-------------------+-------------------+-------------------+-------------------+-------------------+-------------------+--------------------+-------------------+--------------------+--------------------+-------------------+--------------------+--------------------+--------------------+--------------------+-------------------+-------------------+--------------------+--------------------+-------------------+--------------------+-------------------+--------------------+-------------------+--------------------+--------------------+-------------------+--------------------+--------------------+--------------------+--------------------+--------------------+--------------------+--------------------+--------------------+-------------------+-------------------+-------------------+-------------------+-------------------+-------------------+-------------------+--------------------+-------------------+--------------------+-------------------+--------------------+-------------------+--------------------+-------------------+-------------------+-------------------+--------------------+--------------------+-------------------+--------------------+--------------------+--------------------+--------------------+-------------------+-------------------+-------------------+-------------------+-------------------+-------------------+--------------------+-------------------+-------------------+--------------------+\n",
            "| id|           feature_1|           feature_2|          feature_3|           feature_4|           feature_5|          feature_6|           feature_7|          feature_8|          feature_9|         feature_10|         feature_11|         feature_12|         feature_13|         feature_14|         feature_15|         feature_16|         feature_17|         feature_18|         feature_19|         feature_20|          feature_21|          feature_22|         feature_23|          feature_24|          feature_25|         feature_26|          feature_27|          feature_28|         feature_29|          feature_30|          feature_31|         feature_32|         feature_33|         feature_34|         feature_35|         feature_36|         feature_37|          feature_38|         feature_39|          feature_40|          feature_41|         feature_42|          feature_43|          feature_44|          feature_45|          feature_46|         feature_47|         feature_48|          feature_49|          feature_50|         feature_51|          feature_52|         feature_53|          feature_54|         feature_55|          feature_56|          feature_57|         feature_58|          feature_59|          feature_60|          feature_61|          feature_62|          feature_63|          feature_64|          feature_65|          feature_66|         feature_67|         feature_68|         feature_69|         feature_70|         feature_71|         feature_72|         feature_73|          feature_74|         feature_75|          feature_76|         feature_77|          feature_78|         feature_79|          feature_80|         feature_81|         feature_82|         feature_83|          feature_84|          feature_85|         feature_86|          feature_87|          feature_88|          feature_89|          feature_90|         feature_91|         feature_92|         feature_93|         feature_94|         feature_95|         feature_96|          feature_97|         feature_98|         feature_99|         feature_100|\n",
            "+---+--------------------+--------------------+-------------------+--------------------+--------------------+-------------------+--------------------+-------------------+-------------------+-------------------+-------------------+-------------------+-------------------+-------------------+-------------------+-------------------+-------------------+-------------------+-------------------+-------------------+--------------------+--------------------+-------------------+--------------------+--------------------+-------------------+--------------------+--------------------+-------------------+--------------------+--------------------+-------------------+-------------------+-------------------+-------------------+-------------------+-------------------+--------------------+-------------------+--------------------+--------------------+-------------------+--------------------+--------------------+--------------------+--------------------+-------------------+-------------------+--------------------+--------------------+-------------------+--------------------+-------------------+--------------------+-------------------+--------------------+--------------------+-------------------+--------------------+--------------------+--------------------+--------------------+--------------------+--------------------+--------------------+--------------------+-------------------+-------------------+-------------------+-------------------+-------------------+-------------------+-------------------+--------------------+-------------------+--------------------+-------------------+--------------------+-------------------+--------------------+-------------------+-------------------+-------------------+--------------------+--------------------+-------------------+--------------------+--------------------+--------------------+--------------------+-------------------+-------------------+-------------------+-------------------+-------------------+-------------------+--------------------+-------------------+-------------------+--------------------+\n",
            "|  0|  0.5748666399084967|  0.9108510885011782|  0.841061610818227|  0.1853471175458976|  0.3617426168293667| 0.7887465860858622|  0.7310316361312694| 0.7672258847742431|0.15947296508299869| 0.4600880879941748| 0.6951980104421526|0.40588409083842214| 0.5644871001045498|  0.759666312400847| 0.5036351505352046| 0.6102274963468212|  0.343130505848793|  0.365069059903532|0.18764745296452245| 0.9918221126238486|  0.6070392529213569| 0.19442015618422792|0.16439023781843587|  0.2285633916920774|  0.7177944894010619|  0.498814862062232|  0.5355555202832996|  0.6960584188282778| 0.7289692353194077|  0.7466386398040858| 0.07975089370615818|  0.832411149275047| 0.1743771420265139| 0.6348320764974814|0.22548314717873563| 0.8261643706783887| 0.7651298662009076|  0.1752369552247416| 0.5502745671301673|  0.7216927614127104| 0.16924964931025577| 0.1463726264005084| 0.37575118456154477|  0.9185854378421664| 0.06777690940256864|  0.3588723386896593| 0.8063422621506321|0.34424381443613494|   0.055097347410203|  0.6326037950794112|  0.957892827395675|  0.5796530784043182| 0.8144216978183336|0.014190256495794973| 0.6605348296493635| 0.15098842153509906|   0.698556003279308| 0.5701036588693167| 0.22165697894318137|  0.5850282001067845|  0.6761619048270159|  0.9021366649167143|  0.8888468411567261|  0.9364232997929132|  0.8412054948332661|  0.5408330555519255| 0.8491487600478274| 0.7222246965548407|  0.737922258765336|0.15452761140823412|  0.179632684972717|0.18028724286094622|0.20916855139227897| 0.41802807431008726| 0.3154032862169911|0.049096562479385986| 0.7240544498903586|  0.4032365825298878| 0.0779521719958669|  0.7890611218365308|0.01954874035029186| 0.5598593055806989| 0.7571812445880519|  0.3725877191216763|  0.5740720603134738|0.05068852692711601| 0.23704916133842935|  0.6635855410768651|  0.7903600199829597| 0.11434455800324572| 0.9662457765878882|0.39451719708403776| 0.9245896444018282| 0.5396971360509019|  0.644052000009694|0.17592259327088855|  0.8847332130165861|0.08746676966361477|  0.987429060191916| 0.39196699821740333|\n",
            "|  1| 0.16439460230818692|  0.6057401495322484| 0.8657002780857794|   0.397095745633643|0.008592554090386062| 0.8722636676011501|  0.5813216389338862|0.09286782781477398| 0.9060351440202081| 0.7732146660111254|  0.532644826453798|0.44676875311120245|  0.705902014370345|0.36215693319990605| 0.6548503644238051| 0.1509064172413641|0.14243159491149837|  0.311060764802329| 0.8858081661621882| 0.8503283810042204| 0.49211090400683144|  0.5854755006443275| 0.6275977355223163|  0.3731928942041949|  0.7013250057443791| 0.6081476200864536| 0.35435873635572923|  0.2838727515127216| 0.9807571750398927|  0.2842947173424568|   0.174053047678554| 0.8345987409690511| 0.8108366325048446|0.23875701085889922| 0.8486942613960482|  0.911661509483674| 0.3317467255764318| 0.32856715204143727|0.13094655584918602|  0.6108242082100229|   0.693985332016835|0.07338897450976711|  0.2089043724356704|  0.2704181903953903|  0.4460616791048073|  0.8236899099967472|0.22423735560964897| 0.8075880161142173|  0.8898385315009724| 0.20053630990800209| 0.9928796351976527|  0.5167540595958834| 0.5518178090159964|  0.6160761285778855| 0.8028023948664978|  0.6532546515953094|   0.734857608127822|0.43970759975165663|  0.5899601294805491|  0.2470970877430939| 0.36324201730558536|  0.6315809370574522|0.041010549903370164|  0.5786329809170816|  0.5507226662541481| 0.18669732830663877| 0.9334785765740526|0.08369112190694239| 0.0515235801316678| 0.8612273734200611|  0.840304861094886|0.39624072784865716| 0.9753947375265535|   0.975466742041046|0.12497834418760467| 0.47947208026436705|0.05336728260566459| 0.35775726962677945|0.07166871677739606| 0.16078348946383525| 0.8926775331030751| 0.8443354940023856| 0.8579330584482159| 0.03265598117231405|  0.5691872905749229| 0.7740794837587862|  0.6916558666145495|  0.5006043145338479| 0.12174156049481255|  0.7739612298446391| 0.8898914755217192|0.26838708860613003| 0.5395950318581658| 0.4904127501763259| 0.7331576566233234| 0.9260467077121297|  0.4531089757594218|0.46249342214438305|0.22608815598955723| 0.17924344366389688|\n",
            "|  2|0.038591821526557046|  0.8175810333263456| 0.4023801937857583| 0.07323081788255448|  0.5511435581005537| 0.3353501886111513|  0.9714692371501252| 0.4478013086822643|0.10278653912874314| 0.6382445943674474| 0.7934360070347508| 0.5813082635651563| 0.7748224123179056| 0.2997118317481513| 0.5312711113400872| 0.8270247559350462|0.07517355495372446| 0.2594345911561452| 0.6268907447638986| 0.5060427997765388|  0.7696283549694556| 0.17815564567292075| 0.8473321379664329|  0.6185519715804705|  0.2033134624555658|0.05650012288259787|  0.9819621351101177|  0.4439648363681945| 0.2675828430541336| 0.18028888051959213| 0.24420434114104506|0.48973794482107325| 0.8529051268852343|0.20848600704039355|0.36819383980750175| 0.7972791917706833| 0.6643964826753818|0.028704827555706358|0.25030481809054794| 0.12739963540396249|0.041294609377412805| 0.9471873519855915|  0.6209942475750025|   0.541778497054587|  0.8600797412719182|  0.5914739422169932| 0.5776875393823575|0.20189706801632146|  0.6203885649895984|  0.6680026245780745| 0.8813693793386274|  0.4253414118168216| 0.2039260790250479|   0.569272809900136| 0.9725574470665842|  0.0753059387818773|0.003472238061101307| 0.0359140934767711|  0.8313483728419079|0.001121654293859...| 0.22155154207741656|  0.9815303507554609|  0.7458256486845294|  0.2188025654173733| 0.22189750447475742|  0.4583452926853002|0.07598415806552516| 0.6530615822448217| 0.4966012494525649| 0.4192628529721697| 0.4902781256169487|0.27186080365362786| 0.2135472181060203| 0.06854474298274771| 0.6254840169663377| 0.49407235941942385| 0.7110591160613744|  0.8943825525157232| 0.9930370163937596| 0.22744751637974703|0.16794886366806672| 0.9121068403608966| 0.4015886126077127|  0.8034381183993192| 0.13533008238371003|0.29483720328383667|0.011070249482068029|   0.989882737782307|0.005642001315424694| 0.17164914497087536|   0.55751047654343| 0.8503750144235958| 0.7940661138786262|0.25315977997474615| 0.8802392877759802|0.06962974302737968| 0.33183877884636537| 0.2630274430059466| 0.6558557270522489|  0.0382629922360217|\n",
            "|  3|  0.8543502956753468|  0.9613591071131087|0.23625876022448666|  0.9019710699164462|  0.9062438067233967| 0.6263719419078975|  0.5069881366509014| 0.7746911022035954| 0.5180375143163162| 0.7442686751041597|0.09279463764045504|0.28519239449581846|0.39433649032659157|0.20505067817535905| 0.2303835647578475|  0.761680145641818| 0.1735697560281596|0.11214115045397832| 0.2803708845121542|0.16005040724227515| 0.20309678474827697|  0.7829710183614684| 0.4410634328944464| 0.43409143032587116|  0.5248574027204211|0.08911232579868344|  0.9871773091620859|    0.84712124636684|0.29276218833572354| 0.05674948150988779|  0.6173235739235815| 0.5921100349219653|0.30994051765241015| 0.3405914079229547| 0.5257696081354651| 0.8791783870893137|0.10921416324051436|  0.5098225424581582|0.43700191101098773|  0.4663920923238779|  0.9097557801887334| 0.5443454964405646|  0.6949250581808403|  0.9126682464127953| 0.30240685854509386|  0.3586999378385515|0.22657577055943923| 0.6518545959966482| 0.25378837449907543|  0.2346773234754289| 0.9867463296787019|  0.6973451692768703| 0.8143760514675207|  0.9688081542594961| 0.9710574915182942|  0.3331039352735605|  0.5187569745278982|  0.923402059647134|0.025632372587340968|  0.9161860444258529|  0.8580000123523955| 0.46798531341887106|  0.5169223103518362|0.047662676213758304|  0.5557753876081704| 0.12310818950615421| 0.2639307906220508| 0.8040429237513461| 0.5046743556727794| 0.7518854606608635|  0.931800539583737|0.17115777126219422| 0.2595102745969561|   0.586986053053499| 0.9495899275504078|  0.7793005998589412|  0.639316597472597|  0.6791736216652462|   0.43262581201062|  0.4037254195436182| 0.9868335251610028| 0.8563872446710644| 0.7609020593356399|  0.7197164386598031|  0.5671115154434409|0.32909723245833067|  0.4328534340392046| 0.05885751096365843| 0.08930883503343634| 0.38446204893110236|0.11570520458466382|0.39807578320994763| 0.2134163842294976|0.35003113361523563|0.37924617269861516| 0.7943178891783395|  0.6856308882250284| 0.8149033388721117| 0.3648868260812107|  0.8258344154380446|\n",
            "|  4|  0.9496531814990022|   0.277437092796326| 0.7186972344354391| 0.05756348904325692|   0.521046318590539|0.15633992537876462|  0.8329596968630452| 0.4142870994398298| 0.6043080022257036| 0.5821868047482622|0.10428128756525146| 0.1001429505561775| 0.5715270272494303|0.31498097987517937|0.11141115954882153| 0.3100026104832089| 0.1906495458066646|0.03966168055735397| 0.3798347154218068| 0.6807429149472479| 0.11324449921613722|  0.5851362521615533| 0.1516484626809459| 0.06838176458509182| 0.09222417554877904| 0.2098066632975939|  0.4656099028020676|  0.4444989175518226| 0.4764510644993979|  0.3758801790415762|  0.8801800566309201| 0.8845840804116911| 0.6579049322766107| 0.3240462803383848| 0.1850249775547762|  0.697731855413076| 0.9965402442835343|  0.8193286486267741| 0.3277912020699767| 0.19182643045064807|  0.8176426155464063| 0.4022387864084992|  0.5849696658994814| 0.04250475372277773|  0.8063829069566167| 0.20225901390273315| 0.7635138335068923| 0.6603067943719745|  0.4124958138332634|  0.5335126772095526| 0.5376304955119474|  0.2252489666989983|0.12924392943085317|   0.810083783174874| 0.6900912503625212|  0.6213612092270434|  0.2783590710910968|0.40210590620866016| 0.14726572232920387|  0.7544145624373688|0.015061734425114937|0.002879948117385...|  0.5209585023409659| 0.34423330788366047|  0.1438437167904293|  0.7230447768207562| 0.9320746313684667| 0.2806724321132261| 0.6026615310589409|  0.744854069362624| 0.6158044686193278|0.38297100919707694| 0.5556233234207099|  0.7246002290548825| 0.9431935313244935|  0.7723483654668898|0.31507376572504775|  0.6718300471159877| 0.9162239357983427|  0.5189783044089413|0.09559018132237129| 0.6411725053768321| 0.6049728451066557| 0.13443254092272328| 0.23956343635214172| 0.6719194553858489|  0.9736563573809192|  0.1737803515293871|  0.6140849772529883|  0.4738505335957933| 0.3396798010959744| 0.9142041973060456| 0.9372452773433528|0.16331818504104256| 0.7063160405533403| 0.7740481469672584|  0.9232610242949975|0.07313646452764355| 0.9319176788256367| 0.24635825085508545|\n",
            "|  5|  0.8582115912017766|  0.8282018634509479| 0.7936100447174389|  0.2937573636246966|  0.7597272652196712|0.26181806249523976| 0.30976165722630544| 0.8171594931615865| 0.5843239747095872| 0.3013703416346045| 0.6995668010775826| 0.8576146430507293| 0.5575904714676325|0.21869326799645294| 0.5797486671842562| 0.5855810943653642| 0.6309037148547754| 0.7807788874679424| 0.9808212494736045|0.10992845030015164|  0.1916279211578581|  0.8149606454871928| 0.5289419950789618|  0.7456220324959122|  0.4159956072358558| 0.8388545865766226|   0.421168648944488|  0.9466877566876525| 0.3910374230929955|  0.2813976291386192| 0.10202585261505237| 0.8485031700108817| 0.9493629402220326| 0.8942904151388099| 0.7599509158498391| 0.4322868041604657| 0.3079956360902075| 0.28456787656046767| 0.7595631290945939| 0.34486619559900944|  0.7851185806189195| 0.9822782000978795| 0.18884387287154702|  0.1141121921691487| 0.11945602327407245| 0.05899782068165427| 0.6909269418376096| 0.5929830552666681|  0.5644775811890766|   0.581610826895166|0.06953997135852907|  0.2912521977892848|0.26584693001507875| 0.47902561149280976| 0.8789968323330961|  0.9721612683038864|  0.6120470617132053|0.24679322335810805| 0.38068400249721623|  0.3254114607738129| 0.20406768236453376|  0.9785040824606123| 0.13156011753933017|   0.566419647345339|  0.7986739520913336|  0.9395804742823419| 0.2009522198605891|0.19227126730334032|0.49720221344894755| 0.3843476904557812|0.24933471317282374| 0.0943950172311171|0.36464463046825524| 0.28156930829750304|0.17202342882418908|  0.3681612243199839|0.08163290190103156|  0.9171137736722039| 0.5990023668390441| 0.47924542472554543|0.12966617929350577| 0.7774407760357723| 0.0754082961529351|  0.9850917940458618|  0.8427421437701357|0.47097222641108893|  0.6718100349364837| 0.08892259749457809|   0.488533681544857|  0.8195663407043189|0.07819616337998347|0.21703717507603537| 0.7773010965053851|0.45840962921582784| 0.6649560814261893| 0.8181441145523157|  0.1454560960467366|0.46855267803529965| 0.5625956573536315|  0.6149862813289011|\n",
            "|  6|    0.84776839881734|  0.4763661394212947|0.31723148415117075|  0.8023922797332711|  0.8968744514696957| 0.3586718623750007|  0.7263411578066069|0.21191084072849242|0.09008110704601369| 0.3765359749034103|0.40696049688265135|0.11401136221774744|0.10226318892095776| 0.7062173533801337| 0.7188153126688872|0.07249672236645732| 0.5067527429119895| 0.5596732805691897|0.49859197609324224| 0.9791896607086548|  0.4577222179244953|  0.5452692984246189|  0.310170389578698|  0.2522678713787445|  0.8189526997620447| 0.9279246081656295| 0.32175039657738813|  0.8477165091493233| 0.4217356527004402|  0.5245153898119563| 0.17812831860834266| 0.5844208594765088| 0.9526532351818938|0.05055886634426743|0.26128715396227453| 0.6943811631540167|0.26869587039467235|  0.3679692347281184| 0.2900935375712994|  0.9674688399832754|  0.4871226327951297| 0.1338502547142757| 0.12228798636774751|  0.3103464979522551|  0.4009855192856623|  0.2888655004388273|  0.550543407413032| 0.8717976094188538|   0.788173419461667|   0.578987899493228| 0.7242491088587129|  0.6624240383596152|0.06596379117200901|  0.6346990261103556|  0.872069071718799|  0.8300348429565331|  0.4700501849458133|0.32589824635752074|  0.3778237626215212|   0.565799719612366|  0.4096129330113266|  0.3484762819235231| 0.11861497574111746| 0.10616480860200184|0.029373333951511094|  0.9938918774726769| 0.3626604290169281|0.07266240165452742| 0.5676486152884017| 0.6750488784557513| 0.6807766221472517| 0.9694123773694976|0.21323677192715118|  0.8947294939877883| 0.9061866496657628| 0.45776271946128166| 0.9527992608569078| 0.20175914342755896|  0.339506924600268|  0.7593987953247905| 0.9451053631666453|0.07790446801992634|  0.672726942042339|  0.9431691117039657|   0.102950452316242|0.18307034631252783|  0.6772783426184289|  0.6321409183394118| 0.29843355545431227|  0.9365569695055177| 0.3866160762877462| 0.3413654149710036| 0.8412475087315479| 0.5616637351086026|  0.442041471523247| 0.5447505590574053|  0.7169296269529294| 0.0833953866333248| 0.3336528574425558|  0.8605145371241419|\n",
            "|  7|  0.7325150576474833|   0.073729601957086|    0.4602754141948|  0.3079559991124621|  0.7929187854544955| 0.1438131931754404| 0.14489752002221712| 0.7415995334893435| 0.9871458251748636|0.39000512556346445| 0.8634973843299767| 0.3981036676585269| 0.6567776555781616|0.48672544243330906| 0.7432401026825448|0.05720811810007864| 0.5495049593413919| 0.9983637714616744|   0.75158810289184|0.23023245527471792| 0.30568905297226967|  0.6891732957098797|0.14890728700712963|0.007089537482627528|  0.7728511632145912| 0.5994810254761264|  0.6728972751336494|0.022089978710221225|0.37865520271606445|  0.5317588377317433|  0.6978304152944059| 0.8445785851334459| 0.2865423909923519| 0.9069785289431512| 0.6721430059159307|0.39853008912677457| 0.6618523665173077|  0.6611001892575759|0.21361831348927773|0.006166387023017417| 0.12261175908840383| 0.9549476369716888|  0.8583181611043804| 0.17238075566937283|  0.6594892013449497|  0.9161721959539587| 0.9160577471328771| 0.5644186027027013|  0.7234991385869886|  0.3940637494812218|0.07212588467112424|   0.528753730093496|0.31816014475506105|  0.4069724681654876|0.17385508330114996|   0.735103725778269|  0.9482615239944356| 0.7007439222328326|   0.492284176925908| 0.41933995520952483|  0.5509836481982457|  0.6512839708876442| 0.12673059071671067|  0.7906555551962536|0.005403491081313994|  0.8450825778190129| 0.5023013519238796| 0.4345967408325081|0.12089893539236118| 0.5842066785115605| 0.0890113628970084| 0.8659633720978842| 0.3022827084085652|  0.1725425257636093|   0.25118134425244|  0.5331593585081909| 0.5599576620850116| 0.33844180799266943| 0.7883571518101652| 0.37792559303268114| 0.4375320678339396|0.13006579679923014|0.13561305771810184|  0.1012250208587655|   0.146543301588265| 0.9001925578420774|  0.6849525350170027|  0.6719608947161885| 0.14590136971003353|   0.519459665100315| 0.4886543304569797| 0.2875812246185375| 0.2700710469494063| 0.7624575622626856|0.29816436361090304| 0.5924925563223478|  0.9194549382706376| 0.5138920967074811| 0.6039713279751882|  0.8752234651779923|\n",
            "|  8|  0.7210146211585803|0.013493273515845283|0.14485270917716697| 0.26904084852590293| 0.43040087164502827| 0.2760692637707448|  0.4613613055288027|   0.78380776122106| 0.9729586888505152| 0.6293314567790491| 0.8701407057474003|0.34372334072893496|0.13685807536866135|  0.832978800498214| 0.7716718896248079|0.23620062296322053| 0.5385810246113374| 0.9938204139138311| 0.9718641337534635|0.45218541962572445| 0.28362866377540974|  0.2935919858259194| 0.8781093501855705|  0.6689905344835602|  0.5993397273843406| 0.2679088923011851|  0.4063953749052761|  0.5577200852427562| 0.5211251826959571|0.052669574299500366| 0.48677416012924823| 0.6105209406112829| 0.7876314366970855| 0.1286111838915749| 0.8245861495262105|0.09292587193720625| 0.4993594665458534| 0.08485900336949326| 0.8173796554354184| 0.46375664821604123|  0.6205807536748144| 0.4988878101758175| 0.46111990523028923| 0.18265446175078615|  0.9434711601511173|  0.7286550649612503| 0.5667978423371616|0.20586091037388232|  0.4004490982552372|  0.3423099565982932| 0.7555036342642231| 0.19290298822242613| 0.6672767470889581|  0.9025313340326202| 0.8384245851439073|  0.3394413434225766|  0.1517301972427041|0.36259416512277354| 0.39442711072583037|  0.5373261820130882|0.045232856211420036|  0.5107756190640066|  0.6050251066388663|  0.9419058206488701|  0.7247220188068264|0.028245268641557075|0.17517130445252505| 0.4754411321381128| 0.9759257578687108| 0.6011688702407493| 0.8442581953754559|0.10395594965125465| 0.4371468377601534|0.022340594886859133| 0.2483140448221084|  0.8113172933344144| 0.6221910846019983| 0.28207325606170297| 0.8419626380379117|  0.7351613882231158| 0.5017174194778375|0.04423256015927923|  0.906338123805663|  0.6690818619627146|   0.813461318657109| 0.9358695517375788| 0.13834248808837912|  0.7528386710181165| 0.15456346182047997|  0.5156344706119111| 0.7270085910480634| 0.5203694601137206| 0.4725482437703967| 0.2833549546598302| 0.7680320827428763|0.08939395306103526|  0.2317234410859047|0.04518339218102241|0.17709178255335034|  0.4076478397101134|\n",
            "|  9|0.029781433877515306| 0.22686882322277158|0.04067964212564923|  0.8757401951543753|  0.8899904876198934| 0.6985268614404916|  0.5945078398588447| 0.7958423645874939| 0.2814496015331259| 0.7420273486952433|0.33018547685682575| 0.4429324040974013| 0.9800616130476862| 0.8458338454376995|  0.418659476485823|  0.905035201283192|0.09728252823500583|  0.902892334659278| 0.8892827965614397| 0.6467917373666465|  0.3246916741965742|  0.8221934646644172| 0.2721682435046494| 0.14217716958103221|   0.551195730590837|0.12881497931543362| 0.35738239339425837|   0.579761074992125|0.20755113571690353|  0.4137752870065802| 0.30810395709899563|0.15436697433699786| 0.6338424864147877| 0.6001995608358435| 0.5590081863465114| 0.9311829591510322| 0.9265264780815378|  0.5723714457943992| 0.7387117488555673|   0.804943652639985| 0.10985332479677279| 0.8449541071462027|0.005119033155979391|0.002035601901430928| 0.31030793738836593|   0.792972300413865| 0.9214136102632585| 0.3992145115792266|  0.6310103939653421| 0.47256369229732276| 0.2796890188813498|   0.867765151046701| 0.5869386292792117|  0.6893633522625495| 0.6171751476390236| 0.08402809876520734|  0.8295552640787399|0.03849460858480713|  0.6907749515759818|  0.1413089718906685|  0.5473899911407933|  0.1273861806784483|  0.9694538741981265| 0.43247591910496896|  0.7933020371773577|   0.796579369838768|0.12136692388115122| 0.5662498184191258| 0.9991308758364061| 0.3821296333963625|0.09555109884844515| 0.7643855600734885| 0.5941619195364676|  0.7143899445061038| 0.5320509368143053| 0.26907568413721783| 0.4680671673625957|  0.5856357291894931|0.23753855556264603|  0.8540744130859778|0.41145508395697605| 0.7152139779805667| 0.9440818583757814| 0.41550222170619466| 0.46134922897332875|0.18361693657346045|  0.3761056303632574|  0.5291228381359574|  0.2295896170464108| 0.02613985664825136|0.25778842562093973| 0.6825739704682092| 0.8582572471935613|0.13103479482499436| 0.6717447929162917| 0.3400100937226316|  0.3010826838523659| 0.4327008512870968| 0.8706865897971722|   0.580617055508799|\n",
            "| 10|  0.6406760622369954|  0.1144988195691874|0.12066618817888708|  0.5023331824014585|  0.7183263345731695| 0.1955360089369338|  0.5478023599239328| 0.9164342153381356| 0.5127395525784784|0.48071350327181794| 0.5852823697451799| 0.6924521367312323|0.30209159912067896|   0.33460345134631|0.15654465379494853| 0.9488246951725395|0.04751733869213304| 0.4607530999241761| 0.6835678290881373| 0.7107792247547741|  0.6263101485938884| 0.34056774861057804|  0.077217235493929|  0.9321132870105966| 0.19045716827712644|  0.908709691100072| 0.22547229175270977|  0.0705269074169016|0.08359029565685017|  0.3584050655375436|  0.1519730505008211| 0.4824479762203454|0.45381399026717684| 0.8362411079261451| 0.6957451209700325| 0.6983890760848734|  0.590720954025267|0.047412480059619955| 0.7472520753082883| 0.35855094725971715|  0.8361861179181849|0.24662054144389822|  0.6701102594882595|  0.6037501854366496| 0.11202968821699322| 0.13631023585855484|   0.99988673212268|0.33550130369160236| 0.40748134821150317|  0.8554765514742674| 0.6310322396152528|  0.6791488638627574| 0.6364665809190768| 0.32340241447997087| 0.8291912263319496|0.033741947387208926| 0.36745445132029175| 0.9545313669544843|  0.3785530548177707|  0.0167848716589708|  0.1920175097514012|  0.9441425860021525|  0.8492502753829263|  0.1953976712846187|  0.9774997001130997| 0.15887985000554472| 0.9923144853068856| 0.8445530519582546| 0.9126468591979237|0.13971015973511458|0.30174343269590853|  0.702026717106503| 0.5052547551494462|  0.2915971995422848| 0.6954124275365319|  0.7796626476036559| 0.2854209585772244| 0.08582670725961206| 0.5743637571826798|  0.3965186827236574| 0.8777822836703864| 0.0450106946264045| 0.6379093427927587|0.047481868882464084| 0.11325515894283533| 0.3687259348377919| 0.22862199261537952| 0.16178636896430276|  0.7931241036729945| 0.23225116120967038| 0.3646710568737367| 0.9078856779321501| 0.7855243567178305| 0.5240355458120823|0.09389531801596718| 0.9454544935356144|  0.7091090021909335|0.03510905126791486| 0.9488122798062977|  0.0717301814123803|\n",
            "| 11|  0.6029952003613295| 0.39389328361816756| 0.9808887503045668|  0.9230670155374854|  0.5988191096188622| 0.7012126831590033|  0.8216332986188951| 0.8203137258298939| 0.5991304512659958| 0.2516639579075042| 0.3127091435598619| 0.6656486771457024| 0.6878495198558047| 0.3714664875183167| 0.8877643991820183| 0.4000645782208718| 0.6984996198082063|0.20939661853965164| 0.3530822308672853| 0.5460720762587526|0.037634375884522564|  0.0419079039859912| 0.2698261533410784|  0.8277701064406471| 0.21650126821720272| 0.8858798974964764|  0.7160614529442344|  0.6889212567803727| 0.6741184094095828|  0.9763102725994259|  0.6336827645847216| 0.6492762286958549|0.45339921214703705| 0.8723068468037862|0.05740413397824906| 0.3443043761274718|0.28666276077783404|  0.3979581658744583|0.47991052849206195|  0.9560878618188265|   0.924485883492399| 0.6112656079252813|0.019871828030181615|  0.5556341492804987| 0.06848711134597218|  0.3597310741503713|0.30447951901819825| 0.6480811225612062|0.017878802330998034|  0.7887040045253503| 0.8264212718774478|0.032348792490752065| 0.0818125906105499|  0.9206816307957012| 0.6159828827730218|  0.9603486196737527| 0.45759817411299486|0.19063476562504045|  0.3701759756881048|  0.9289918956112903| 0.11530767612429449|  0.8922049710287508|  0.5297432319695299| 0.07005348580936521| 0.39975937371280634|  0.2432491637805182| 0.5752808915870917|0.15244969740680714| 0.9412712073703574|0.21127842698051436| 0.6329254427939296| 0.8312502240247974| 0.5958967124088339|  0.6555637713652582|  0.409321511798737| 0.10184053808980476| 0.1313273583830893|   0.702159628431564| 0.7972435834871915|  0.8422936488339888|0.36273614277158117|  0.968854471290267| 0.6416166124708796| 0.15356328824938725|  0.0673378872334911|  0.544900533373521|  0.7410740436698791|0.018063815375064074|0.022566495633022043|  0.5782934995680952| 0.9898789658405199| 0.7375334074310262|0.15156368094596673|0.08720386206145381| 0.8143341511631191| 0.8097772527999778| 0.45683716640594796|0.03574306591394094| 0.7662564391807831|  0.4119488586536739|\n",
            "| 12|  0.8163938812429258| 0.14410500800086945| 0.4632531506397112|  0.5263884483182639| 0.36962305176242405| 0.9899370944376974|    0.76289209982308| 0.8301476182117954|0.24106612492330637| 0.3846673228725954|0.11077460413201878| 0.9983099563941763| 0.2576027330268573| 0.1005836083926892| 0.2052205694187038| 0.5715564656701823| 0.3356683724402585|0.16395995125413754| 0.4683212695789757| 0.6704679658272268|  0.6647762758764215|0.014745514460629106| 0.7554116114616857| 0.24116196770088083|  0.9221739949143545| 0.1384793089652835|  0.3994463878814558|  0.3122106271300763| 0.4913667306122531|  0.3135825218563897|  0.7712381156349736|0.38197552610384367| 0.3501322320330831| 0.9712398236229182| 0.4034532645884652| 0.1300309176192459| 0.2680039479156756|  0.7234204242928864|0.26185532099328857|  0.6804915609699731|  0.9148270247442535| 0.3741032510102609| 0.19264761426681243|  0.7167997064858668| 0.43778709630635393|0.046148370315939435| 0.5784542389724903| 0.5804708493856463|  0.6817061138907085|   0.735265734178962| 0.6456223027724882|  0.3383050701447038| 0.8353809048927355|  0.9352775268886337| 0.3021004849365577|  0.2818324401529899|  0.5130043943900414| 0.9857673452535337| 0.16336216956159721| 0.49494928351478196| 0.19421406066796543|  0.4098905134622306|  0.3788689810674819|  0.5708831682419766| 0.03463572594915343|  0.8072534649981493| 0.7093387234269121|  0.999841805418544| 0.2557418891020542| 0.8677991857774149| 0.6103516181170933|0.23098821461208086| 0.2957171478225058|0.020399481204735892|0.34354116642063603|   0.899418141071708|0.07523530326584404|   0.928084061911629|0.37960531515987284|  0.7408658295749664| 0.6585456940734743| 0.6724809574891139| 0.5483433834959343| 0.46430515226543667|  0.9282739608318842| 0.6800363782565412|  0.6146099910789216| 0.41824425341360805| 0.22507928523273235|0.001820157698044...| 0.9807191576730977| 0.7563737426840272| 0.9939909986211762| 0.7701925422608521|0.04552622729191047| 0.4440875873831013| 0.11678281666035517| 0.8012696394074816|0.18598189897051298|  0.6576623735834077|\n",
            "| 13|  0.6585453100122807|  0.6388849567785164| 0.8783545072314064|  0.7257498218146665|  0.3274892802897742| 0.3147928154515879|0.022293375955976802| 0.9082856781172965|0.10347700280307714| 0.4791213014775967| 0.5085002873606475| 0.4478421154450042| 0.5742825986493862| 0.7292534462319044|  0.196235032686933|0.07369846457348228| 0.8574202117664125| 0.4947812608622332|0.12735711089738244| 0.6720730018620997|  0.2230777421837724| 0.08182637527165926| 0.2825716301495371|  0.2968950020534672|  0.8684368676226657| 0.3073504963796617|  0.7802628243179293|  0.5772327240599737|0.09469645096576851| 0.15646607349385977|  0.0801156469184221| 0.4014881011407764| 0.9698888252946599|0.18079714340483033| 0.3420970761507992| 0.8200142494000602| 0.8757893355458805|  0.7353771763427658|0.46708466392748405|  0.6488747359975874| 0.45003523440955895| 0.8486150012122804|   0.409871428979229|  0.8177940773285501|  0.5856755329866922|   0.521238210104053| 0.6564839254003796| 0.2921190343756469| 0.39216249904054734|    0.80504404542318| 0.3839796124709831|  0.6535945173349046| 0.6635485742079565|  0.8697375145470738|  0.443673192025833|  0.9025294329520773|  0.9930688433455097|0.16919886593002664|   0.715418873175051|  0.6983614774573123| 0.45614395150903975|  0.3038198580047856| 0.02724243115507341|  0.6362208719472954|   0.315708463936345|  0.5521910103734762|0.12213546420725618|0.04427226180624988| 0.8023855585696075|0.12293865138930615| 0.1373715950083889| 0.5705898057511117|  0.731108249410294|0.007991533945599039|0.44212473571186184|  0.6312510489729758| 0.7380844735817883|  0.9479021945217475|0.01611973898154584|  0.8986285115105218| 0.9666844835828537| 0.8657660532215287| 0.9488844002895259| 0.11853633313662215|  0.9922476026415158| 0.7652161072577774| 0.06948562437431527|  0.6788902173718401|  0.7031254266423537|  0.6293514544638996| 0.8746761749922699| 0.7487641523135667| 0.1617269127369182| 0.2501982738172671|0.46342163585899765|0.39481419818926966|  0.6629846226368886|0.13642507369832457|0.35430517471823897| 0.24280700208102057|\n",
            "| 14|  0.2936361679322813|  0.7108399175678712|0.08047551365622296|  0.8873457173733841|   0.641042001456385|0.41165504558227295|  0.4857716204532778| 0.6981905763977807| 0.7307552193639375| 0.8047061157505149|0.26365671144463865| 0.8578581090575471| 0.8305981498595132| 0.8550845343645931|0.08082862019686854|0.14361947386470209|  0.624761399380201| 0.9529949936684794|0.10991872622553656| 0.7388546133600419| 0.13611562893756912|  0.9504672596362653| 0.8001159955290442|   0.288366056626852|0.047598370809305846| 0.4366462251310922|  0.5250727952342371|  0.5270734938079544| 0.8519002857293334|   0.980900047940369|    0.43191805465585|0.16379436146991733| 0.3769693851459637|  0.712129301679043| 0.5836680789838569|0.08678941332769852|0.20994287742418383|  0.6935246549872146| 0.6980761060301379|  0.6090237964785313|  0.2940369466666751|0.16325515514967803| 0.22881564556753287|  0.8075567370416568|  0.4885662504015833| 0.35120053757427117|0.13591111673060818| 0.3925766980759502|  0.4177954375037076|  0.8860289523165497| 0.9401137373299499|  0.8394478168194807| 0.3881775413402043|  0.5591729149545808|   0.84118222148587|0.050453112625053254|  0.5328325066918068|0.39863195614161895| 0.38103252418123146|  0.3500901224846148|  0.6404638016261329|  0.4173258099047934|  0.3221682388109741|   0.566300376317086|  0.3731305337423523| 0.03469218498477766|0.41763030016635894|0.19608966655108584|0.09991366518359457| 0.8725983829574887| 0.6918242388671466|0.38088845632374524| 0.9852737054142118|  0.3671958075449472|0.24445897777021508|  0.4735075250300854| 0.9455624586211774|  0.6639849439544718| 0.7305931415886754|  0.1652919762185563|0.04014600973807325| 0.5371289176449957| 0.3303283376026498|0.042657906720581784|  0.8961562423126118|0.02510267584954251| 0.01265495852029952| 0.29916917000958265|  0.4972541800821906| 0.45079590758110066| 0.3599776654864024| 0.8637782567577894|0.29758533532229914| 0.6527897507983714|0.39860792044162585| 0.3886747302935323|  0.9328090984939429| 0.6974472801239913| 0.5382062486372204| 0.17462098096383538|\n",
            "| 15|  0.1375924958251198| 0.19364766461129956| 0.6269365664954317| 0.05601867749477585| 0.46409934239193495| 0.4597496265170642|  0.9178048836993432|0.36992286837399724| 0.8965946635824124| 0.6150816437323074| 0.3900980442327494| 0.5265824322520068|0.09422402652102935| 0.8896195839528449| 0.6314971682257399|0.43561121595654073| 0.7757378713126748| 0.4044912351341414| 0.4609859077823657|0.42202499704429564|  0.9965518238014319|  0.7701814443885253| 0.9287896048629495|   0.379646537960614|  0.4901687191028684|0.20135774669434225|0.010132470411118533|  0.1947756126610024| 0.9289262613751649|  0.4563718285243852| 0.13084567440421957| 0.4525729706791154| 0.7927361443890442| 0.5007955755922623| 0.9368243524869729| 0.8983616762113596|0.47324917536335465| 0.08295795576839815| 0.7044469678677029|  0.3563790634334648|   0.785728059207456|0.30886818905486746|  0.3306225678702053|  0.5423205654980151|0.024897799964953116| 0.16965666299129045| 0.8514143047331374| 0.9565725172950833| 0.19208658596051364|   0.772466890707746|0.11186255452454497|  0.4726907811972283| 0.5084681496558192|  0.5637274481059165| 0.3614390343656123|  0.8561183548188198| 0.30345702908940175| 0.4852284856702195| 0.19383566135185049|   0.572850511877117|  0.1971715413870505| 0.24150466792583802|  0.4373618574791731| 0.27776011217388885|0.040129553773105675|  0.7964317985012744| 0.8201401786080039|  0.900713909685019| 0.9798868692874079|0.11324278661272802| 0.2745048827350749| 0.6306182374246662| 0.8763690737434171| 0.16231203947442463| 0.4835460063837368|  0.9787867402332079| 0.3310273888780507| 0.49110291561753916| 0.6938022067395878|  0.4217262782232326| 0.7175396183594437|0.14765426187810748|0.23059705478547088|  0.3868913892868586|  0.9839057440196909|0.34877470408917655|  0.9155414654178541|   0.874874383912515|  0.7558050558484318|  0.3703451839154903| 0.3304422147666668| 0.6396930465868197|0.23256488465219693| 0.3605171212324033| 0.8151346119567534|0.21071498822020018|  0.8281213461656236|  0.552011540573016| 0.5115661608737071|  0.6136199812516853|\n",
            "| 16|  0.6314163853966814|  0.5583343387984856| 0.7014292073791931| 0.35801588143197194|  0.8107251943517226|0.22120493288559107|  0.7143402532065306| 0.3854166783581944| 0.6948613012790273|0.03242338963529312|0.39029317311977074| 0.9631217115959587| 0.5728672656001615| 0.4993144277359619|0.24744156936171735| 0.4914906706533466| 0.8234083051006083| 0.3384347464806572| 0.5648824984713243| 0.6735555751577037| 0.40087401266931566|  0.2830391797540479|0.15557205385998651| 0.10119142636995193|  0.2410992345614753|0.01954023715396347|   0.760166277565917| 0.11176880760670227| 0.8989817948903895|  0.5107079517154784| 0.45695784316524235|0.06478170086170643|0.13333088306285423| 0.8567577609958478| 0.6727712668658936|0.09453770958581953| 0.6811691708367382| 0.13095503688715415| 0.7326136919573142|  0.9445657425573942|  0.7583487422335161| 0.8238111448139419|  0.6206160331520877| 0.00371347559670987|   0.785196437407171| 0.40410350838685627| 0.8730462743486733| 0.5727980826348216| 0.19156457304200958|0.054868926089992276| 0.5550903994891073|   0.566860511085983| 0.8600676933004142|0.038752234796271656| 0.8212582799603818| 0.40563356971889364|  0.5283378655022036|  0.533390727649823| 0.38232597415193537|  0.1860016553421724| 0.07882304096514747| 0.20699031095983889|  0.7142645762340863|  0.6822610774532164|  0.6754210361580787|  0.9076895495664157| 0.4568713102840597| 0.7591372711709572| 0.6682157127197883| 0.9370378718676753| 0.6698006777816837|0.18022327398613247| 0.7442479883351576| 0.35797551818460804|0.25499006114757594| 0.27815440936927116| 0.8250789823386754| 0.45285098729085926| 0.4691002738025001|0.010685071042197292|0.27015449904708266| 0.8833775594970907|0.49806876450765425|   0.416383456701909| 0.07397782579362788|0.29340904885975383| 0.13120469028617887| 0.16440602720270514|   0.338818253330749| 0.06709369201830229| 0.7782807696437336| 0.6218584863861594| 0.7997421440466643| 0.3478445286166961|0.22216413279758362| 0.5899965553124953|0.021945421094128115|0.08902281943250612| 0.7414615213121531|  0.8873886260985157|\n",
            "| 17| 0.20547706571097202|  0.7909932845727572| 0.3836598858548156| 0.41592838923097075|  0.8840193742763941| 0.6210403328996639|   0.811925373038017| 0.7757664409267361| 0.5740920000818251| 0.7478580879466146| 0.7082082251915852|0.48028350521682583| 0.1518379051980846|0.26637685800229316| 0.3763749838732777| 0.5866889924021793| 0.2977768819741574| 0.2053652058105695|0.03554886211172881|0.21252468175547978|  0.5390787497558122| 0.13962135774734685|0.02935556570916409| 0.07469223410808334|  0.9521055368624197|0.03547225583836833|  0.4723342698067945|  0.6882739655912853|0.22311587636576935|  0.9641848397424861|0.022703275268021184| 0.8800925386560132| 0.3914985308062997|0.38383543134332665|0.47220975471711524| 0.9714027486266502| 0.6280854716883446|  0.8785733809202013| 0.0278256739082271|  0.8969400254487888| 0.21346099778319083|0.31495840404508657|  0.0736078247289853|  0.9150751110730119|   0.526104012708362| 0.09007510428258303|0.39743706485582886| 0.3811687405323174|0.050826618810542956| 0.34762499963701865| 0.2928973302630966|  0.9194652474201127| 0.8067831258575893| 0.16008813161220226| 0.9315572403183691|  0.7431627489246425| 0.49084732146764565|0.43266101105880506|  0.9268439038324809|  0.3055118551929421|  0.3705898180428715|  0.6911657400566418|  0.7592868309616306|  0.3271677364807939|  0.9220079137583439|  0.2561053495214476|0.34749886602027913|0.19657319596274103| 0.5370871450308451| 0.9992729515421009| 0.7180543698999586| 0.4713174205124686| 0.9829266044751487|  0.0491743404664462| 0.2859015272739953|  0.8381173979669703| 0.5243606906560275|0.004696544497747812|0.45675278015392506| 0.02181708482533673| 0.5734860821408575| 0.6327417809799828|0.20140833364373356|  0.9864973213454409|  0.8338041388325792|0.46383275579414884| 0.30955314823373425|0.012338790628256602|  0.6932629103187826|  0.2628831530723087|  0.394655734403054| 0.4286219798463823| 0.8538156827143331| 0.8514059553005885| 0.7762187406021996| 0.7667990623700743|  0.4947425863527469| 0.7911191245565713| 0.8581423303678446|  0.4984391381773249|\n",
            "| 18|  0.9003911802515361|  0.9903808263737414|0.17528204382185764|   0.979032498524587| 0.24574285458166134| 0.9340310797082731|  0.8511086980947488| 0.9160565441946891| 0.4610308909875077|0.15106183834941167|0.22262113180714393|0.30469419258298835|0.24971868484673276| 0.9673822084299191|0.15607080821054997| 0.6857928516067555|   0.51159952337469|0.03420680900824635|0.21158518014975447| 0.9335699722751704|  0.8168244710530753|  0.5859563058887105|0.07673209185274821| 0.13853710254393403|  0.7306021072046958| 0.7570587297725567|  0.9580976584630154| 0.20559358346994816| 0.6490644064935835| 0.43083981006522976| 0.11385135798975032| 0.3361537277786839| 0.3674449250335985| 0.4534464480538253| 0.2930332358573765| 0.5526653342778202| 0.6064550312647708|  0.4127961511891265|0.37339261770614074|  0.6555087031590959|  0.0542036069707188|   0.86640958903393|  0.9746322881222925|  0.0553089924754776|   0.709179895674747| 0.25223800781242245|0.43001824910134057| 0.2706427877760039| 0.21424659068459617|  0.4409838063123913| 0.3716084544506735| 0.42579102576602457| 0.8080837584525994|  0.9786485772215215| 0.1433315354330864|  0.7440970445036063|  0.5491008385552327| 0.3730180755064405|  0.6605731973307689|  0.8815259519140123|  0.6415083979622448|  0.7036339540167177|  0.1482423754341221|  0.7129181452940373|  0.9861252959746832|  0.9595997374999224|0.40919407818105014| 0.8822597075903154| 0.5913659363389828|0.11829255719503573| 0.9782008978226113| 0.6131879439286562| 0.1058748506081193|  0.5722511405533733| 0.7214491112572081|  0.2372591428021833| 0.6824434316058777|  0.9659328739922112|0.23164701649107822| 0.49084633442420467|  0.314008954703867| 0.3879023781984531| 0.8371100220651249|  0.8235382869907164|0.008347680508422162| 0.1220779196503845| 0.34900744679074436|  0.3030368217493167| 0.09358641621776509|  0.6876576656989674| 0.6426965542441451|0.24812391919086063| 0.3616674731682227| 0.4879646794606596|0.04529078358813998|0.15479751033928346|  0.6468181353218047|0.48565594986954985| 0.6004736386142012|  0.9733038968595065|\n",
            "| 19|  0.7555053964985289|  0.9682324092314154| 0.5909510682663237|0.001466075801745...| 0.09377572446266536| 0.6969811778164254|  0.3050679751871167|0.41377282766671675| 0.6754179157795862| 0.3334349530017432| 0.8736558962819605|0.38742612915688457|0.04432374207964318| 0.9842085477683887|0.48972275610692506|0.35054195102376073| 0.8991621146764924| 0.8608714910453751|0.03781689783918574| 0.8084394146887404|  0.4899690645631726|  0.6734487526091242|0.14595483762822503|   0.667469194541961| 0.23009630942528259|0.11734997898245048| 0.13466097620599315|  0.2999367230360348| 0.9916503309286282| 0.05428377707247123|  0.3309142479976067| 0.5250559078354751|0.20690002743575642| 0.9616059200585171|0.46056630461987635|  0.692717387688749| 0.3599669865505093| 0.19419916095159484|0.30361103369775877|  0.2796773579593863|  0.8475507724727389|0.01476072473073542|  0.8936432008582105|  0.3928936525527429|  0.6168300129023925|  0.8055648054806762| 0.4609883462286799|0.09261107063614982|  0.5416981550766311| 0.12157964265077403| 0.8246744895328678|  0.6478905807392821| 0.5921441360962264|3.876200442841648...| 0.9600728087185869| 0.13033163598821773| 0.18346196048569097| 0.9861587034123519| 0.08953118814164185|  0.7416457451499261| 0.09496188771892233|  0.7328131954428719|   0.889385095197193|  0.3496953820906813|  0.3123695837559468|  0.9329978513967588|0.07465029020259217| 0.3475466315691833| 0.6529280137466938| 0.6874895639613843| 0.4530179675645033| 0.8536474337366228| 0.8489694520187655|  0.8170678266085457|0.17077222302610662|  0.6466835066166392| 0.8509834331953974| 0.09427252884122095|0.24458665802077528|  0.9779800497686602| 0.4618753780536854| 0.5301964308172102| 0.3502712704742237|   0.392190801308292|  0.8945223265521028|0.20923678367201515| 0.27914898223833706|  0.5006562718515338|  0.3105715816958726|  0.8926333177715625| 0.6329864541051943| 0.5037420797160789| 0.6040691467375701|0.01982993756511653| 0.7417548252975428| 0.3354301743717877|  0.6081956039269121| 0.8321800139921037| 0.3454879674850093|0.036963263986107275|\n",
            "+---+--------------------+--------------------+-------------------+--------------------+--------------------+-------------------+--------------------+-------------------+-------------------+-------------------+-------------------+-------------------+-------------------+-------------------+-------------------+-------------------+-------------------+-------------------+-------------------+-------------------+--------------------+--------------------+-------------------+--------------------+--------------------+-------------------+--------------------+--------------------+-------------------+--------------------+--------------------+-------------------+-------------------+-------------------+-------------------+-------------------+-------------------+--------------------+-------------------+--------------------+--------------------+-------------------+--------------------+--------------------+--------------------+--------------------+-------------------+-------------------+--------------------+--------------------+-------------------+--------------------+-------------------+--------------------+-------------------+--------------------+--------------------+-------------------+--------------------+--------------------+--------------------+--------------------+--------------------+--------------------+--------------------+--------------------+-------------------+-------------------+-------------------+-------------------+-------------------+-------------------+-------------------+--------------------+-------------------+--------------------+-------------------+--------------------+-------------------+--------------------+-------------------+-------------------+-------------------+--------------------+--------------------+-------------------+--------------------+--------------------+--------------------+--------------------+-------------------+-------------------+-------------------+-------------------+-------------------+-------------------+--------------------+-------------------+-------------------+--------------------+\n",
            "only showing top 20 rows\n",
            "\n",
            "+--------------------+\n",
            "|            features|\n",
            "+--------------------+\n",
            "|[0.57486663990849...|\n",
            "|[0.16439460230818...|\n",
            "|[0.03859182152655...|\n",
            "|[0.85435029567534...|\n",
            "|[0.94965318149900...|\n",
            "|[0.85821159120177...|\n",
            "|[0.84776839881734...|\n",
            "|[0.73251505764748...|\n",
            "|[0.72101462115858...|\n",
            "|[0.02978143387751...|\n",
            "|[0.64067606223699...|\n",
            "|[0.60299520036132...|\n",
            "|[0.81639388124292...|\n",
            "|[0.65854531001228...|\n",
            "|[0.29363616793228...|\n",
            "|[0.13759249582511...|\n",
            "|[0.63141638539668...|\n",
            "|[0.20547706571097...|\n",
            "|[0.90039118025153...|\n",
            "|[0.75550539649852...|\n",
            "+--------------------+\n",
            "only showing top 20 rows\n",
            "\n",
            "PySpark Parallel K-Means Time: 37.22 seconds\n",
            "Traditional K-Means Time: 40.63 seconds\n",
            "Speedup: 1.09x\n"
          ]
        },
        {
          "output_type": "display_data",
          "data": {
            "text/plain": [
              "<Figure size 800x600 with 1 Axes>"
            ],
            "image/png": "[encoded data removed]"
          },
          "metadata": {}
        }
      ]
    },
    {
      "cell_type": "code",
      "source": [
        "\n",
        "!wget https://raw.githubusercontent.com/CConstance/tweets_sentiment/master/test.csv\n",
        "\n",
        "\n",
        "\n",
        "df = pd.read_csv(\"test.csv\")\n",
        "df.shape\n",
        "df.head(3)\n",
        "df = spark.createDataFrame(df)\n",
        "\n",
        "df.show()\n",
        "\n",
        "# Step 3: Assemble features for clustering\n",
        "assembler = VectorAssembler(inputCols=['retweets_count', 'likes_count'], outputCol=\"features\")\n",
        "feature_df = assembler.transform(df).select(\"features\")\n",
        "\n",
        "# Step 4: Run PySpark Parallel K-Means\n",
        "start_time = time.time()\n",
        "\n",
        "kmeans = KMeans(k=2, seed=42)  # Using 2 clusters\n",
        "model = kmeans.fit(feature_df)\n",
        "\n",
        "end_time = time.time()\n",
        "pyspark_time = end_time - start_time\n",
        "print(f\"PySpark Parallel K-Means Time: {pyspark_time:.2f} seconds\")\n",
        "\n",
        "\n",
        "\n",
        "\n",
        "\n",
        "from pyspark.ml.clustering import KMeans\n",
        "from pyspark.ml.feature import VectorAssembler\n",
        "\n",
        "start_time = time.time()\n",
        "\n",
        "assembler = VectorAssembler(inputCols=[\"retweets_count\", \"likes_count\"], outputCol=\"features\")\n",
        "feature_df = assembler.transform(df)\n",
        "feature_df.show()\n",
        "\n",
        "kmeans = KMeans(k=2, seed=1)  # Assume the number of clusters (k=2)\n",
        "model = kmeans.fit(feature_df)\n",
        "\n",
        "predictions = model.transform(feature_df)\n",
        "predictions.show()\n",
        "\n",
        "predictions.select(\"Id\", \"features\", \"prediction\").show()\n",
        "model.clusterCenters()\n",
        "\n",
        "\n",
        "print(\"Cluster Centers: \", model.clusterCenters())\n",
        "\n",
        "\n",
        "\n",
        "end_time = time.time()\n",
        "traditional_time = end_time - start_time\n",
        "traditional_time\n",
        "# Step 7: Compare Results and Calculate Speedup\n",
        "speedup = traditional_time / pyspark_time\n",
        "print(f\"Speedup: {speedup:.2f}x\")\n",
        "\n",
        "# Step 8: Plot Results\n",
        "methods = [\"Traditional K-Means \", \"PySpark K-Means \"]\n",
        "times = [traditional_time, pyspark_time]\n",
        "\n",
        "plt.figure(figsize=(8, 6))\n",
        "plt.bar(methods, times, color=['blue', 'orange'])\n",
        "plt.title(\"Execution Time Comparison: Traditional vs. Parallel K-Means\")\n",
        "plt.ylabel(\"Time (seconds)\")\n",
        "plt.show()\n",
        "\n",
        "\n",
        "\n",
        "\n",
        "\n",
        "\n",
        "\n"
      ],
      "metadata": {
        "colab": {
          "base_uri": "https://localhost:8080/",
          "height": 1000
        },
        "id": "I7D-7DS4-eRy",
        "outputId": "345f8cd8-3600-47af-f1db-7ccf7d6e82d3"
      },
      "id": "I7D-7DS4-eRy",
      "execution_count": null,
      "outputs": [
        {
          "output_type": "stream",
          "name": "stdout",
          "text": [
            "+-------------------+----------+--------+--------------------+--------------+-----------+\n",
            "|                 id|      date|    time|               tweet|retweets_count|likes_count|\n",
            "+-------------------+----------+--------+--------------------+--------------+-----------+\n",
            "|1249857397839073291|2020-04-14|00:29:59|Could Coronavirus...|             0|          0|\n",
            "|1249857397771862026|2020-04-14|00:29:59|[Get the Infograp...|             0|          0|\n",
            "|1249857397721575429|2020-04-14|00:29:59|IMF approves $500...|             0|          1|\n",
            "|1249857397700481025|2020-04-14|00:29:59|@JeffBezos is our...|             0|          0|\n",
            "|1249857397427974144|2020-04-14|00:29:59|Dr. Michael Wilke...|             2|          6|\n",
            "|1249857396685537288|2020-04-14|00:29:59|Apple Responds to...|             0|          0|\n",
            "|1249857387802099713|2020-04-14|00:29:57|“This Should Trou...|             0|          0|\n",
            "|1249857387248435200|2020-04-14|00:29:57|No, 5G isn't Goin...|             0|          0|\n",
            "|1249857384710889474|2020-04-14|00:29:56|CBN denies chargi...|             2|         37|\n",
            "|1249857384631144451|2020-04-14|00:29:56|20200413: CBC : '...|             0|          0|\n",
            "|1249857381489573888|2020-04-14|00:29:55|Celsius #library ...|             0|          0|\n",
            "|1249857380898217984|2020-04-14|00:29:55|Africans are bein...|             0|          0|\n",
            "|1249857380512342023|2020-04-14|00:29:55|NOOOOOO THE VA FO...|             0|          0|\n",
            "|1249857379916791810|2020-04-14|00:29:55|It’s not good # T...|             0|          0|\n",
            "|1249857379522334721|2020-04-14|00:29:55|Sailor On USS The...|             1|          1|\n",
            "|1249857376829743104|2020-04-14|00:29:54|Image you're @Tuc...|             0|          0|\n",
            "|1249857375709933571|2020-04-14|00:29:54|Because you sound...|             0|          1|\n",
            "|1249857371721150465|2020-04-14|00:29:53|I hope COVID-19 d...|             0|          0|\n",
            "|1249857365479952385|2020-04-14|00:29:51|Now he is walking...|             0|          0|\n",
            "|1249857363714195456|2020-04-14|00:29:51|Active & Passive ...|             5|          8|\n",
            "+-------------------+----------+--------+--------------------+--------------+-----------+\n",
            "only showing top 20 rows\n",
            "\n",
            "PySpark Parallel K-Means Time: 3.03 seconds\n",
            "+-------------------+----------+--------+--------------------+--------------+-----------+----------+\n",
            "|                 id|      date|    time|               tweet|retweets_count|likes_count|  features|\n",
            "+-------------------+----------+--------+--------------------+--------------+-----------+----------+\n",
            "|1249857397839073291|2020-04-14|00:29:59|Could Coronavirus...|             0|          0| (2,[],[])|\n",
            "|1249857397771862026|2020-04-14|00:29:59|[Get the Infograp...|             0|          0| (2,[],[])|\n",
            "|1249857397721575429|2020-04-14|00:29:59|IMF approves $500...|             0|          1| [0.0,1.0]|\n",
            "|1249857397700481025|2020-04-14|00:29:59|@JeffBezos is our...|             0|          0| (2,[],[])|\n",
            "|1249857397427974144|2020-04-14|00:29:59|Dr. Michael Wilke...|             2|          6| [2.0,6.0]|\n",
            "|1249857396685537288|2020-04-14|00:29:59|Apple Responds to...|             0|          0| (2,[],[])|\n",
            "|1249857387802099713|2020-04-14|00:29:57|“This Should Trou...|             0|          0| (2,[],[])|\n",
            "|1249857387248435200|2020-04-14|00:29:57|No, 5G isn't Goin...|             0|          0| (2,[],[])|\n",
            "|1249857384710889474|2020-04-14|00:29:56|CBN denies chargi...|             2|         37|[2.0,37.0]|\n",
            "|1249857384631144451|2020-04-14|00:29:56|20200413: CBC : '...|             0|          0| (2,[],[])|\n",
            "|1249857381489573888|2020-04-14|00:29:55|Celsius #library ...|             0|          0| (2,[],[])|\n",
            "|1249857380898217984|2020-04-14|00:29:55|Africans are bein...|             0|          0| (2,[],[])|\n",
            "|1249857380512342023|2020-04-14|00:29:55|NOOOOOO THE VA FO...|             0|          0| (2,[],[])|\n",
            "|1249857379916791810|2020-04-14|00:29:55|It’s not good # T...|             0|          0| (2,[],[])|\n",
            "|1249857379522334721|2020-04-14|00:29:55|Sailor On USS The...|             1|          1| [1.0,1.0]|\n",
            "|1249857376829743104|2020-04-14|00:29:54|Image you're @Tuc...|             0|          0| (2,[],[])|\n",
            "|1249857375709933571|2020-04-14|00:29:54|Because you sound...|             0|          1| [0.0,1.0]|\n",
            "|1249857371721150465|2020-04-14|00:29:53|I hope COVID-19 d...|             0|          0| (2,[],[])|\n",
            "|1249857365479952385|2020-04-14|00:29:51|Now he is walking...|             0|          0| (2,[],[])|\n",
            "|1249857363714195456|2020-04-14|00:29:51|Active & Passive ...|             5|          8| [5.0,8.0]|\n",
            "+-------------------+----------+--------+--------------------+--------------+-----------+----------+\n",
            "only showing top 20 rows\n",
            "\n",
            "+-------------------+----------+--------+--------------------+--------------+-----------+----------+----------+\n",
            "|                 id|      date|    time|               tweet|retweets_count|likes_count|  features|prediction|\n",
            "+-------------------+----------+--------+--------------------+--------------+-----------+----------+----------+\n",
            "|1249857397839073291|2020-04-14|00:29:59|Could Coronavirus...|             0|          0| (2,[],[])|         0|\n",
            "|1249857397771862026|2020-04-14|00:29:59|[Get the Infograp...|             0|          0| (2,[],[])|         0|\n",
            "|1249857397721575429|2020-04-14|00:29:59|IMF approves $500...|             0|          1| [0.0,1.0]|         0|\n",
            "|1249857397700481025|2020-04-14|00:29:59|@JeffBezos is our...|             0|          0| (2,[],[])|         0|\n",
            "|1249857397427974144|2020-04-14|00:29:59|Dr. Michael Wilke...|             2|          6| [2.0,6.0]|         0|\n",
            "|1249857396685537288|2020-04-14|00:29:59|Apple Responds to...|             0|          0| (2,[],[])|         0|\n",
            "|1249857387802099713|2020-04-14|00:29:57|“This Should Trou...|             0|          0| (2,[],[])|         0|\n",
            "|1249857387248435200|2020-04-14|00:29:57|No, 5G isn't Goin...|             0|          0| (2,[],[])|         0|\n",
            "|1249857384710889474|2020-04-14|00:29:56|CBN denies chargi...|             2|         37|[2.0,37.0]|         0|\n",
            "|1249857384631144451|2020-04-14|00:29:56|20200413: CBC : '...|             0|          0| (2,[],[])|         0|\n",
            "|1249857381489573888|2020-04-14|00:29:55|Celsius #library ...|             0|          0| (2,[],[])|         0|\n",
            "|1249857380898217984|2020-04-14|00:29:55|Africans are bein...|             0|          0| (2,[],[])|         0|\n",
            "|1249857380512342023|2020-04-14|00:29:55|NOOOOOO THE VA FO...|             0|          0| (2,[],[])|         0|\n",
            "|1249857379916791810|2020-04-14|00:29:55|It’s not good # T...|             0|          0| (2,[],[])|         0|\n",
            "|1249857379522334721|2020-04-14|00:29:55|Sailor On USS The...|             1|          1| [1.0,1.0]|         0|\n",
            "|1249857376829743104|2020-04-14|00:29:54|Image you're @Tuc...|             0|          0| (2,[],[])|         0|\n",
            "|1249857375709933571|2020-04-14|00:29:54|Because you sound...|             0|          1| [0.0,1.0]|         0|\n",
            "|1249857371721150465|2020-04-14|00:29:53|I hope COVID-19 d...|             0|          0| (2,[],[])|         0|\n",
            "|1249857365479952385|2020-04-14|00:29:51|Now he is walking...|             0|          0| (2,[],[])|         0|\n",
            "|1249857363714195456|2020-04-14|00:29:51|Active & Passive ...|             5|          8| [5.0,8.0]|         0|\n",
            "+-------------------+----------+--------+--------------------+--------------+-----------+----------+----------+\n",
            "only showing top 20 rows\n",
            "\n",
            "+-------------------+----------+----------+\n",
            "|                 Id|  features|prediction|\n",
            "+-------------------+----------+----------+\n",
            "|1249857397839073291| (2,[],[])|         0|\n",
            "|1249857397771862026| (2,[],[])|         0|\n",
            "|1249857397721575429| [0.0,1.0]|         0|\n",
            "|1249857397700481025| (2,[],[])|         0|\n",
            "|1249857397427974144| [2.0,6.0]|         0|\n",
            "|1249857396685537288| (2,[],[])|         0|\n",
            "|1249857387802099713| (2,[],[])|         0|\n",
            "|1249857387248435200| (2,[],[])|         0|\n",
            "|1249857384710889474|[2.0,37.0]|         0|\n",
            "|1249857384631144451| (2,[],[])|         0|\n",
            "|1249857381489573888| (2,[],[])|         0|\n",
            "|1249857380898217984| (2,[],[])|         0|\n",
            "|1249857380512342023| (2,[],[])|         0|\n",
            "|1249857379916791810| (2,[],[])|         0|\n",
            "|1249857379522334721| [1.0,1.0]|         0|\n",
            "|1249857376829743104| (2,[],[])|         0|\n",
            "|1249857375709933571| [0.0,1.0]|         0|\n",
            "|1249857371721150465| (2,[],[])|         0|\n",
            "|1249857365479952385| (2,[],[])|         0|\n",
            "|1249857363714195456| [5.0,8.0]|         0|\n",
            "+-------------------+----------+----------+\n",
            "only showing top 20 rows\n",
            "\n",
            "Cluster Centers:  [array([2.34255797, 7.13649963]), array([2310.5 , 5729.75])]\n",
            "Speedup: 1.15x\n"
          ]
        },
        {
          "output_type": "display_data",
          "data": {
            "text/plain": [
              "<Figure size 800x600 with 1 Axes>"
            ],
            "image/png": "[encoded data removed]"
          },
          "metadata": {}
        }
      ]
    },
    {
      "cell_type": "code",
      "source": [
        "!wget https://github.com/AlessandroCorradini/University-of-California-San-Diego-Big-Data-Specialization/blob/master/04%20-%20Machine%20Learning%20with%20Big%20Data/big-data-4/minute_weather.csv.gz?raw=true\n",
        "df2 = pd.read_csv(\"https://github.com/AlessandroCorradini/University-of-California-San-Diego-Big-Data-Specialization/blob/master/04%20-%20Machine%20Learning%20with%20Big%20Data/big-data-4/minute_weather.csv.gz?raw=true\", compression='gzip')\n",
        "\n",
        "\n",
        "df2.shape\n",
        "\n",
        "df2.head(5)"
      ],
      "metadata": {
        "id": "FsGK97DUBEot"
      },
      "id": "FsGK97DUBEot",
      "execution_count": null,
      "outputs": []
    },
    {
      "cell_type": "code",
      "execution_count": null,
      "id": "ec7f4dd9",
      "metadata": {
        "id": "ec7f4dd9"
      },
      "outputs": [],
      "source": [
        "sc.stop()"
      ]
    }
  ],
  "metadata": {
    "kernelspec": {
      "display_name": "Python 3 (ipykernel)",
      "language": "python",
      "name": "python3"
    },
    "language_info": {
      "codemirror_mode": {
        "name": "ipython",
        "version": 3
      },
      "file_extension": ".py",
      "mimetype": "text/x-python",
      "name": "python",
      "nbconvert_exporter": "python",
      "pygments_lexer": "ipython3",
      "version": "3.9.7"
    },
    "colab": {
      "provenance": [],
      "include_colab_link": true
    }
  },
  "nbformat": 4,
  "nbformat_minor": 5
}
