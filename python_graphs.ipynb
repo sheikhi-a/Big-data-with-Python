{
  "cells": [
    {
      "cell_type": "markdown",
      "metadata": {
        "id": "view-in-github",
        "colab_type": "text"
      },
      "source": [
        "<a href=\"https://colab.research.google.com/github/sheikhi-a/Big-data-with-Python/blob/main/python_graphs.ipynb\" target=\"_parent\"><img src=\"https://colab.research.google.com/assets/colab-badge.svg\" alt=\"Open In Colab\"/></a>"
      ]
    },
    {
      "cell_type": "markdown",
      "metadata": {
        "id": "8VlaclJUq6gg"
      },
      "source": [
        "# **Some traditional and new age of statistical plots**\n",
        "\n",
        "\n",
        "By Ayyub Sheikhi\n",
        "**bold text**\n",
        "Department of statistics,\n",
        "\n",
        "Shahid Bahonar University of Kerman, Iran"
      ]
    },
    {
      "cell_type": "markdown",
      "metadata": {
        "id": "mt-NifhFaiZk"
      },
      "source": [
        "\n",
        "\n",
        "\n",
        "# 1-traditonal statistical graphs (Bar, hist, scatter, box)\n",
        "\n",
        "\n"
      ]
    },
    {
      "cell_type": "code",
      "execution_count": null,
      "metadata": {
        "id": "1pz350OEJBqn"
      },
      "outputs": [],
      "source": []
    },
    {
      "cell_type": "code",
      "execution_count": null,
      "metadata": {
        "id": "lGAcYNMGWJIS"
      },
      "outputs": [],
      "source": [
        " # Import libraries\n",
        "import matplotlib.pyplot as plt\n",
        "import numpy as np\n",
        "import seaborn as sns\n",
        "import pandas as pd\n",
        "\n",
        "\n",
        "\n",
        "\n",
        "# Creating a simulated dataset dataset\n",
        "np.random.seed(10)\n",
        "data = np.random.normal(100, 20, 200)\n",
        "\n",
        "data1 = np.random.poisson(3, 20000)\n",
        "len(data1)\n",
        "fig = plt.figure(figsize =(10, 7))\n",
        "\n",
        "# Creating hist\n",
        "plt.hist(data)\n",
        "plt.hist(data1)\n",
        "\n",
        "data2 = np.random.exponential(2, 200)\n",
        "plt.hist(data2)\n",
        "\n",
        "\n"
      ]
    },
    {
      "cell_type": "markdown",
      "metadata": {
        "id": "24O1HaRIfHq3"
      },
      "source": [
        "\n",
        " Creating boxplot"
      ]
    },
    {
      "cell_type": "markdown",
      "metadata": {
        "id": "tO_OxhFleum-"
      },
      "source": []
    },
    {
      "cell_type": "code",
      "execution_count": null,
      "metadata": {
        "id": "_h9AKQvFeBdn"
      },
      "outputs": [],
      "source": [
        "\n",
        "plt.boxplot(data)\n",
        "plt.boxplot(data2)\n",
        "\n"
      ]
    },
    {
      "cell_type": "markdown",
      "metadata": {
        "id": "4MEptsmcfRcf"
      },
      "source": [
        "Real datset of MTCARS"
      ]
    },
    {
      "cell_type": "code",
      "execution_count": null,
      "metadata": {
        "id": "p5XaL2d5D8GW"
      },
      "outputs": [],
      "source": [
        "\n",
        "file1 = 'https://raw.githubusercontent.com/prince381/car_mpg_predict/master/cars1.csv'\n",
        "mtcars = pd.read_csv(file1)   # read in the first data file\n",
        "mtcars.columns\n",
        "mtcars.tail(5)\n",
        "mtcars.shape\n",
        "mtcars.describe()\n"
      ]
    },
    {
      "cell_type": "code",
      "execution_count": null,
      "metadata": {
        "id": "k2Jpuq324ukH"
      },
      "outputs": [],
      "source": [
        "plt.boxplot(\"mpg\", data=mtcars)\n",
        "\n",
        "plt.boxplot(mtcars.mpg,vert=False)\n",
        "\n",
        "plt.boxplot(mtcars.acceleration) # outliers\n"
      ]
    },
    {
      "cell_type": "markdown",
      "metadata": {
        "id": "3d_gs4faxJB1"
      },
      "source": [
        "## Comparing several groups using box plot"
      ]
    },
    {
      "cell_type": "code",
      "execution_count": null,
      "metadata": {
        "id": "DC-T5j5QKfOI"
      },
      "outputs": [],
      "source": [
        "sns.boxplot(x='cylinders', y='mpg',data=mtcars)\n",
        "\n",
        "sns.boxplot(x='cylinders', y='acceleration',data=mtcars)\n",
        "\n",
        "\n"
      ]
    },
    {
      "cell_type": "markdown",
      "metadata": {
        "id": "E5V4VJ0JxUNy"
      },
      "source": [
        "## statistical visualisation for categorical data"
      ]
    },
    {
      "cell_type": "code",
      "execution_count": null,
      "metadata": {
        "id": "g5cLWzDD5TdL"
      },
      "outputs": [],
      "source": [
        "mtcars.cylinders.value_counts()\n",
        "\n",
        "\n",
        "mtcars.cylinders.value_counts().plot(kind='bar')\n",
        "\n",
        "\n",
        "\n",
        "\n",
        "mtcars.cylinders.value_counts().plot(kind='pie')\n",
        "\n",
        "\n",
        "\n",
        "\n"
      ]
    },
    {
      "cell_type": "markdown",
      "metadata": {
        "id": "fLwCMtkGxkIs"
      },
      "source": [
        "## Exploring relationship between two or more variables  using scatterplot"
      ]
    },
    {
      "cell_type": "code",
      "execution_count": null,
      "metadata": {
        "id": "xSgqLlqT6W-N"
      },
      "outputs": [],
      "source": [
        "file1 = 'https://raw.githubusercontent.com/prince381/car_mpg_predict/master/cars1.csv'\n",
        "\n",
        "mtcars = pd.read_csv(file1)\n",
        "\n",
        "mtcars.shape\n",
        "mtcars.dtypes\n",
        "\n",
        "plt.scatter(mtcars.weight,mtcars.mpg)\n",
        "plt.scatter(mtcars.weight,mtcars.horsepower)\n",
        "mtcars.head()\n",
        "mtcars.describe()\n",
        "\n",
        "plt.hist(mtcars.horsepower )\n",
        "\n",
        "mtcars['horsepower']=  pd.to_numeric(mtcars['horsepower'])\n",
        "\n",
        "print(mtcars.to_markdown())\n",
        "\n",
        "mtcars.horsepower.replace('?', np.nan, inplace=True)\n",
        "mtcars['horsepower']=  pd.to_numeric(mtcars['horsepower'])\n",
        "\n",
        "\n",
        "#mtcars['horsepower']=  pd.to_numeric(mtcars['horsepower'], errors = 'coerce')\n",
        "print(mtcars.to_markdown())\n",
        "\n",
        "sum(pd.isna(mtcars['horsepower']))\n",
        "plt.scatter(mtcars.weight,mtcars.horsepower)\n",
        "\n"
      ]
    },
    {
      "cell_type": "code",
      "source": [
        "\n",
        "\n",
        "# removing missing values\n",
        "mtcars.shape\n",
        "df_dropped = mtcars.dropna()\n",
        "df_dropped.shape\n",
        "\n",
        "mtcars1 =mtcars.iloc[:, :9]\n",
        "mtcars1.head()\n",
        "data_drop=mtcars1.dropna()\n",
        "data_drop.shape\n",
        "\n",
        "plt.scatter(data_drop.weight,data_drop.horsepower)\n",
        "\n",
        "\n",
        "# only remove missing values based on the column of horsepower\n",
        "df_dropped2 = mtcars1.dropna(subset=[\"horsepower\"])\n",
        "df_dropped2.shape\n",
        "\n"
      ],
      "metadata": {
        "id": "SjUI0CTzFoq4"
      },
      "execution_count": null,
      "outputs": []
    },
    {
      "cell_type": "code",
      "execution_count": null,
      "metadata": {
        "id": "WYOe-1PrYzVW"
      },
      "outputs": [],
      "source": [
        "sns.pairplot(mtcars.iloc[:,:3])\n",
        "\n",
        "sns.pairplot(mtcars)\n",
        "\n",
        "\n",
        "mtcars.shape\n",
        "df1 = mtcars.iloc[:, 0:5]\n",
        "df1.dtypes\n",
        "\n",
        "sns.pairplot(df1)\n",
        "\n",
        "df1.head()\n",
        "\n",
        "sns.pairplot(df1, hue='cylinders')\n",
        "\n",
        "\n",
        "sns.pairplot(df1.iloc[:, :4], hue='cylinders')\n",
        "\n",
        "\n"
      ]
    },
    {
      "cell_type": "code",
      "execution_count": null,
      "metadata": {
        "id": "Dq_BQDEkYMGJ"
      },
      "outputs": [],
      "source": []
    }
  ],
  "metadata": {
    "colab": {
      "provenance": [],
      "authorship_tag": "ABX9TyOIk/MGGSMU3RIzlQvx5jgU",
      "include_colab_link": true
    },
    "kernelspec": {
      "display_name": "Python 3",
      "name": "python3"
    },
    "language_info": {
      "name": "python"
    }
  },
  "nbformat": 4,
  "nbformat_minor": 0
}